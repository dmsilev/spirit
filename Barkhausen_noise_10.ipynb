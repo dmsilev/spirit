{
 "cells": [
  {
   "cell_type": "code",
   "id": "initial_id",
   "metadata": {
    "collapsed": true,
    "ExecuteTime": {
     "end_time": "2025-07-10T02:57:02.681602Z",
     "start_time": "2025-07-10T02:57:02.629493Z"
    }
   },
   "source": [
    "import pandas as pd\n",
    "import numpy as np\n",
    "import matplotlib.pyplot as plt\n",
    "\n",
    "# df35 = pd.read_csv('Bfield_Mz_35_10_10_10_Ht_0.1.csv')\n",
    "# df55 = pd.read_csv('Bfield_Mz_55_10_10_10_Ht_1.csv')\n",
    "\n",
    "\n",
    "# df35['dMdB'] = np.gradient(df35['M_z'], df35['B_Field'])\n",
    "# df35['dMdB'].hist(bins = 100)"
   ],
   "outputs": [],
   "execution_count": 9
  },
  {
   "metadata": {
    "ExecuteTime": {
     "end_time": "2025-07-10T02:57:08.288446Z",
     "start_time": "2025-07-10T02:57:07.564788Z"
    }
   },
   "cell_type": "code",
   "source": [
    "df55 = pd.read_csv('Bfield_Mz_55_10_10_10_Ht_1_ncycles_8.csv')\n",
    "df55_H0 = pd.read_csv('Bfield_Mz_55_10_10_10_Ht_0.0_ncycles_8.csv')\n",
    "\n",
    "df55['dMdB'] = np.gradient(df55['M_z'], df55['B_Field'])\n",
    "df55['dMdB'].hist(bins = 100)"
   ],
   "id": "c07c1fd0848e865a",
   "outputs": [
    {
     "name": "stderr",
     "output_type": "stream",
     "text": [
      "/Users/jiakai/Desktop/SURF/code/venv/lib/python3.13/site-packages/numpy/lib/_function_base_impl.py:1309: RuntimeWarning:\n",
      "\n",
      "divide by zero encountered in divide\n",
      "\n",
      "/Users/jiakai/Desktop/SURF/code/venv/lib/python3.13/site-packages/numpy/lib/_function_base_impl.py:1311: RuntimeWarning:\n",
      "\n",
      "divide by zero encountered in divide\n",
      "\n",
      "/Users/jiakai/Desktop/SURF/code/venv/lib/python3.13/site-packages/numpy/lib/_function_base_impl.py:1317: RuntimeWarning:\n",
      "\n",
      "invalid value encountered in add\n",
      "\n"
     ]
    },
    {
     "data": {
      "text/plain": [
       "<Axes: >"
      ]
     },
     "execution_count": 10,
     "metadata": {},
     "output_type": "execute_result"
    },
    {
     "data": {
      "text/plain": [
       "<Figure size 640x480 with 1 Axes>"
      ],
      "image/png": "[encoded data removed]"
     },
     "metadata": {},
     "output_type": "display_data"
    }
   ],
   "execution_count": 10
  },
  {
   "metadata": {
    "ExecuteTime": {
     "end_time": "2025-07-10T03:02:37.837055Z",
     "start_time": "2025-07-10T03:02:37.318057Z"
    }
   },
   "cell_type": "code",
   "source": [
    "import plotly.express as px\n",
    "fig = px.line(df55, x='B_Field', y='M_z', markers=True,\n",
    "              labels={'B_Field': 'B Field', 'M_z': 'M_z'},\n",
    "              title='M_z vs. B Field')\n",
    "fig = px.line(df55_H0, x='B_Field', y='M_z', markers=True,\n",
    "              labels={'B_Field': 'B Field', 'M_z': 'M_z'},\n",
    "              title='M_z vs. B Field')\n",
    "\n",
    "# Add a label column to distinguish the datasets\n",
    "df55['label'] = 'H_t = 1'\n",
    "df55_H0['label'] = 'H_t = 0'\n",
    "\n",
    "# Combine the DataFrames\n",
    "combined_df = pd.concat([df55, df55_H0])\n",
    "\n",
    "# Plot\n",
    "fig = px.line(\n",
    "    combined_df,\n",
    "    x='B_Field',\n",
    "    y='M_z',\n",
    "    color='label',  # Use color to distinguish\n",
    "    markers=True,\n",
    "    labels={'B_Field': 'B Field', 'M_z': 'M_z', 'label': 'Relaxation Field'},\n",
    "    title='M_z vs. B Field for Different H_relax'\n",
    ")\n",
    "\n",
    "fig.write_html(\"Bfield_Mz_10_10_10_Ht_1_Ht_0_ncycles_8.html\")"
   ],
   "id": "698c32de3aac6add",
   "outputs": [],
   "execution_count": 14
  },
  {
   "metadata": {
    "ExecuteTime": {
     "end_time": "2025-07-10T02:57:27.972670Z",
     "start_time": "2025-07-10T02:57:27.502920Z"
    }
   },
   "cell_type": "code",
   "source": [
    "df55_H0['dMdB'] = np.gradient(df55_H0['M_z'], df55_H0['B_Field'])\n",
    "df55_H0['dMdB'].hist(bins = 100)"
   ],
   "id": "31ec5f5c7e7a9857",
   "outputs": [
    {
     "name": "stderr",
     "output_type": "stream",
     "text": [
      "/Users/jiakai/Desktop/SURF/code/venv/lib/python3.13/site-packages/numpy/lib/_function_base_impl.py:1309: RuntimeWarning:\n",
      "\n",
      "divide by zero encountered in divide\n",
      "\n",
      "/Users/jiakai/Desktop/SURF/code/venv/lib/python3.13/site-packages/numpy/lib/_function_base_impl.py:1311: RuntimeWarning:\n",
      "\n",
      "divide by zero encountered in divide\n",
      "\n",
      "/Users/jiakai/Desktop/SURF/code/venv/lib/python3.13/site-packages/numpy/lib/_function_base_impl.py:1317: RuntimeWarning:\n",
      "\n",
      "invalid value encountered in add\n",
      "\n"
     ]
    },
    {
     "data": {
      "text/plain": [
       "<Axes: >"
      ]
     },
     "execution_count": 11,
     "metadata": {},
     "output_type": "execute_result"
    },
    {
     "data": {
      "text/plain": [
       "<Figure size 640x480 with 1 Axes>"
      ],
      "image/png": "[encoded data removed]"
     },
     "metadata": {},
     "output_type": "display_data"
    }
   ],
   "execution_count": 11
  },
  {
   "metadata": {
    "ExecuteTime": {
     "end_time": "2025-07-10T03:03:54.973867Z",
     "start_time": "2025-07-10T03:03:54.963339Z"
    }
   },
   "cell_type": "code",
   "source": [
    "threshold = -1\n",
    "B_limit_up = 15\n",
    "B_limit_down = 5"
   ],
   "id": "27c4eb8787628837",
   "outputs": [],
   "execution_count": 15
  },
  {
   "metadata": {
    "ExecuteTime": {
     "end_time": "2025-07-10T03:03:57.173596Z",
     "start_time": "2025-07-10T03:03:57.160177Z"
    }
   },
   "cell_type": "code",
   "source": [
    "#Find continuous segments of rows that contain at least one row with dMdB > threshold, segment defined by endpoints turning negative\n",
    "\n",
    "def get_large_avals(df):\n",
    "    large_avals = [] # list of (dB, dM)\n",
    "    has_large = False\n",
    "    segment_started = False\n",
    "    B_segment_start = 0\n",
    "    M_segment_start = 0\n",
    "\n",
    "\n",
    "\n",
    "    for i in range(len(df)):\n",
    "        if abs(df['B_Field'].iloc[i])>B_limit_up or abs(df['B_Field'].iloc[i])<B_limit_down:\n",
    "            segment_started = False\n",
    "            has_large = False\n",
    "            continue\n",
    "\n",
    "        dMdB = df['dMdB'].iloc[i]\n",
    "        if segment_started:\n",
    "            if  dMdB > 0:\n",
    "                if dMdB > threshold:\n",
    "                    has_large = True\n",
    "            else:\n",
    "                dB = abs(B_segment_start - df['B_Field'].iloc[i])\n",
    "                dM = abs(M_segment_start - df['M_z'].iloc[i])\n",
    "                if has_large:\n",
    "                    large_avals.append((dM, dB))\n",
    "                segment_started = False\n",
    "                has_large = False\n",
    "\n",
    "        else:\n",
    "            if dMdB>0:\n",
    "                segment_started = True\n",
    "                B_segment_start = df['B_Field'].iloc[i]\n",
    "                M_segment_start = df['M_z'].iloc[i]\n",
    "                if dMdB > threshold:\n",
    "                    has_large = True\n",
    "\n",
    "\n",
    "    return large_avals\n"
   ],
   "id": "af5ab73701152c1f",
   "outputs": [],
   "execution_count": 16
  },
  {
   "metadata": {
    "ExecuteTime": {
     "end_time": "2025-07-10T03:04:02.936827Z",
     "start_time": "2025-07-10T03:03:59.147577Z"
    }
   },
   "cell_type": "code",
   "source": [
    "large_avals_H0 = get_large_avals(df55_H0)\n",
    "\n",
    "arr_H0 = np.array(large_avals_H0)\n",
    "\n",
    "large_avals = get_large_avals(df55)\n",
    "\n",
    "arr = np.array(large_avals)\n",
    "\n",
    "plt.figure(figsize=(6,5))\n",
    "plt.scatter(arr[:,1], arr[:,0], color='blue', label='H_t = 1T')\n",
    "plt.scatter(arr_H0[:,1], arr_H0[:,0], color='red', label='H_t = 0T')\n",
    "plt.ylabel('dM')\n",
    "plt.xlabel('dB')\n",
    "plt.title('Scatter plot of (dM, dB)')\n",
    "plt.grid(True)\n",
    "plt.tight_layout()\n",
    "plt.legend()\n",
    "# plt.show()\n",
    "plt.savefig('Bfield_Mz_10_10_10_Ht_1_ncycles_8.png')"
   ],
   "id": "24bb8680e105c2c0",
   "outputs": [
    {
     "data": {
      "text/plain": [
       "<Figure size 600x500 with 1 Axes>"
      ],
      "image/png": "[encoded data removed]"
     },
     "metadata": {},
     "output_type": "display_data"
    }
   ],
   "execution_count": 17
  },
  {
   "metadata": {
    "ExecuteTime": {
     "end_time": "2025-07-03T21:20:48.056114Z",
     "start_time": "2025-07-03T21:20:48.026578Z"
    }
   },
   "cell_type": "code",
   "source": "df55",
   "id": "2b7f3d7dbee9d5ca",
   "outputs": [
    {
     "data": {
      "text/plain": [
       "       B_Field       M_z      dMdB\n",
       "0       20.000  3.690068 -0.101406\n",
       "1       19.875  3.702744 -0.051770\n",
       "2       19.750  3.703011 -0.000724\n",
       "3       19.625  3.702925  0.000277\n",
       "4       19.500  3.702941  0.000428\n",
       "...        ...       ...       ...\n",
       "49275   19.375  3.326378  0.157166\n",
       "49276   19.500  3.342665  0.129937\n",
       "49277   19.625  3.358862  0.189958\n",
       "49278   19.750  3.390155  0.210045\n",
       "49279   19.875  3.411373  0.169748\n",
       "\n",
       "[49280 rows x 3 columns]"
      ],
      "text/html": [
       "<div>\n",
       "<style scoped>\n",
       "    .dataframe tbody tr th:only-of-type {\n",
       "        vertical-align: middle;\n",
       "    }\n",
       "\n",
       "    .dataframe tbody tr th {\n",
       "        vertical-align: top;\n",
       "    }\n",
       "\n",
       "    .dataframe thead th {\n",
       "        text-align: right;\n",
       "    }\n",
       "</style>\n",
       "<table border=\"1\" class=\"dataframe\">\n",
       "  <thead>\n",
       "    <tr style=\"text-align: right;\">\n",
       "      <th></th>\n",
       "      <th>B_Field</th>\n",
       "      <th>M_z</th>\n",
       "      <th>dMdB</th>\n",
       "    </tr>\n",
       "  </thead>\n",
       "  <tbody>\n",
       "    <tr>\n",
       "      <th>0</th>\n",
       "      <td>20.000</td>\n",
       "      <td>3.690068</td>\n",
       "      <td>-0.101406</td>\n",
       "    </tr>\n",
       "    <tr>\n",
       "      <th>1</th>\n",
       "      <td>19.875</td>\n",
       "      <td>3.702744</td>\n",
       "      <td>-0.051770</td>\n",
       "    </tr>\n",
       "    <tr>\n",
       "      <th>2</th>\n",
       "      <td>19.750</td>\n",
       "      <td>3.703011</td>\n",
       "      <td>-0.000724</td>\n",
       "    </tr>\n",
       "    <tr>\n",
       "      <th>3</th>\n",
       "      <td>19.625</td>\n",
       "      <td>3.702925</td>\n",
       "      <td>0.000277</td>\n",
       "    </tr>\n",
       "    <tr>\n",
       "      <th>4</th>\n",
       "      <td>19.500</td>\n",
       "      <td>3.702941</td>\n",
       "      <td>0.000428</td>\n",
       "    </tr>\n",
       "    <tr>\n",
       "      <th>...</th>\n",
       "      <td>...</td>\n",
       "      <td>...</td>\n",
       "      <td>...</td>\n",
       "    </tr>\n",
       "    <tr>\n",
       "      <th>49275</th>\n",
       "      <td>19.375</td>\n",
       "      <td>3.326378</td>\n",
       "      <td>0.157166</td>\n",
       "    </tr>\n",
       "    <tr>\n",
       "      <th>49276</th>\n",
       "      <td>19.500</td>\n",
       "      <td>3.342665</td>\n",
       "      <td>0.129937</td>\n",
       "    </tr>\n",
       "    <tr>\n",
       "      <th>49277</th>\n",
       "      <td>19.625</td>\n",
       "      <td>3.358862</td>\n",
       "      <td>0.189958</td>\n",
       "    </tr>\n",
       "    <tr>\n",
       "      <th>49278</th>\n",
       "      <td>19.750</td>\n",
       "      <td>3.390155</td>\n",
       "      <td>0.210045</td>\n",
       "    </tr>\n",
       "    <tr>\n",
       "      <th>49279</th>\n",
       "      <td>19.875</td>\n",
       "      <td>3.411373</td>\n",
       "      <td>0.169748</td>\n",
       "    </tr>\n",
       "  </tbody>\n",
       "</table>\n",
       "<p>49280 rows × 3 columns</p>\n",
       "</div>"
      ]
     },
     "execution_count": 38,
     "metadata": {},
     "output_type": "execute_result"
    }
   ],
   "execution_count": 38
  }
 ],
 "metadata": {
  "kernelspec": {
   "display_name": "Python 3",
   "language": "python",
   "name": "python3"
  },
  "language_info": {
   "codemirror_mode": {
    "name": "ipython",
    "version": 2
   },
   "file_extension": ".py",
   "mimetype": "text/x-python",
   "name": "python",
   "nbconvert_exporter": "python",
   "pygments_lexer": "ipython2",
   "version": "2.7.6"
  }
 },
 "nbformat": 4,
 "nbformat_minor": 5
}

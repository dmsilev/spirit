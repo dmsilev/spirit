{
 "cells": [
  {
   "cell_type": "code",
   "id": "initial_id",
   "metadata": {
    "collapsed": true,
    "ExecuteTime": {
     "end_time": "2025-07-14T20:58:15.752406Z",
     "start_time": "2025-07-14T20:58:15.557990Z"
    }
   },
   "source": [
    "import pandas as pd\n",
    "import plotly.graph_objects as go\n",
    "\n",
    "# Load the CSV and assign column names manually\n",
    "df = pd.read_csv(\"LHF_16_HPC_atom_locs.csv\", header=None, names=[\"x\", \"y\", \"z\"])\n",
    "\n",
    "# Compute 10/16 cutoff for each axis\n",
    "dim = 4\n",
    "x_cut = (dim / 16) * df[\"x\"].max()\n",
    "y_cut = (dim / 16) * df[\"y\"].max()\n",
    "z_cut = (dim / 16) * df[\"z\"].max()\n",
    "\n",
    "# Filter atoms in 10x10x10 lattice region\n",
    "df_filtered = df[(df[\"x\"] <= x_cut) & (df[\"y\"] <= y_cut) & (df[\"z\"] <= z_cut)]\n"
   ],
   "outputs": [],
   "execution_count": 10
  },
  {
   "metadata": {
    "ExecuteTime": {
     "end_time": "2025-07-14T20:59:28.635821Z",
     "start_time": "2025-07-14T20:59:28.598659Z"
    }
   },
   "cell_type": "code",
   "source": "64*4",
   "id": "f4e4a167e615b7e8",
   "outputs": [
    {
     "data": {
      "text/plain": [
       "256"
      ]
     },
     "execution_count": 16,
     "metadata": {},
     "output_type": "execute_result"
    }
   ],
   "execution_count": 16
  },
  {
   "metadata": {
    "ExecuteTime": {
     "end_time": "2025-07-14T20:59:34.797290Z",
     "start_time": "2025-07-14T20:59:34.784455Z"
    }
   },
   "cell_type": "code",
   "source": [
    "print(\"Original data size:\", df.shape)\n",
    "print(\"Filtered data size:\", df_filtered.shape)\n",
    "\n",
    "print(\"Number of atoms in full lattice:\", len(df))\n",
    "print(\"Number of atoms in 10x10x10 region:\", len(df_filtered))"
   ],
   "id": "752239cef9030189",
   "outputs": [
    {
     "name": "stdout",
     "output_type": "stream",
     "text": [
      "Original data size: (16384, 3)\n",
      "Filtered data size: (256, 3)\n",
      "Number of atoms in full lattice: 16384\n",
      "Number of atoms in 10x10x10 region: 256\n"
     ]
    }
   ],
   "execution_count": 17
  },
  {
   "metadata": {
    "ExecuteTime": {
     "end_time": "2025-07-14T20:59:47.776701Z",
     "start_time": "2025-07-14T20:59:47.762404Z"
    }
   },
   "cell_type": "code",
   "source": [
    "lattice_dims = pd.read_csv(\"LHF_16_HPC_lattice_dims.csv\", header = None)\n",
    "lattice_dims = lattice_dims * dim/16"
   ],
   "id": "83fef875b1532875",
   "outputs": [],
   "execution_count": 18
  },
  {
   "metadata": {
    "ExecuteTime": {
     "end_time": "2025-07-14T21:00:04.690503Z",
     "start_time": "2025-07-14T21:00:04.669402Z"
    }
   },
   "cell_type": "code",
   "source": [
    "df_filtered.to_csv(f\"LHF_{dim}_HPC_atom_locs.csv\", header=False, index=False)\n",
    "lattice_dims.to_csv(f\"LHF_{dim}_HPC_lattice_dims.csv\", header=False, index=False)"
   ],
   "id": "f0aa859684674cb8",
   "outputs": [],
   "execution_count": 19
  },
  {
   "metadata": {},
   "cell_type": "code",
   "outputs": [],
   "execution_count": null,
   "source": "",
   "id": "4a12b54350578a2f"
  }
 ],
 "metadata": {
  "kernelspec": {
   "display_name": "Python 3",
   "language": "python",
   "name": "python3"
  },
  "language_info": {
   "codemirror_mode": {
    "name": "ipython",
    "version": 2
   },
   "file_extension": ".py",
   "mimetype": "text/x-python",
   "name": "python",
   "nbconvert_exporter": "python",
   "pygments_lexer": "ipython2",
   "version": "2.7.6"
  }
 },
 "nbformat": 4,
 "nbformat_minor": 5
}

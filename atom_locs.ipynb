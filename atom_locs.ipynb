{
 "cells": [
  {
   "cell_type": "code",
   "id": "initial_id",
   "metadata": {
    "collapsed": true,
    "ExecuteTime": {
     "end_time": "2025-07-13T16:53:13.108742Z",
     "start_time": "2025-07-13T16:53:13.059754Z"
    }
   },
   "source": [
    "import pandas as pd\n",
    "import plotly.graph_objects as go\n",
    "\n",
    "# Load the CSV and assign column names manually\n",
    "df = pd.read_csv(\"LHF_16_HPC_atom_locs.csv\", header=None, names=[\"x\", \"y\", \"z\"])\n",
    "\n",
    "# Compute 10/16 cutoff for each axis\n",
    "x_cut = (10 / 16) * df[\"x\"].max()\n",
    "y_cut = (10 / 16) * df[\"y\"].max()\n",
    "z_cut = (10 / 16) * df[\"z\"].max()\n",
    "\n",
    "# Filter atoms in 10x10x10 lattice region\n",
    "df_filtered = df[(df[\"x\"] <= x_cut) & (df[\"y\"] <= y_cut) & (df[\"z\"] <= z_cut)]\n"
   ],
   "outputs": [],
   "execution_count": 5
  },
  {
   "metadata": {
    "ExecuteTime": {
     "end_time": "2025-07-13T16:53:52.572055Z",
     "start_time": "2025-07-13T16:53:52.562729Z"
    }
   },
   "cell_type": "code",
   "source": [
    "print(\"Original data size:\", df.shape)\n",
    "print(\"Filtered data size:\", df_filtered.shape)\n",
    "\n",
    "print(\"Number of atoms in full lattice:\", len(df))\n",
    "print(\"Number of atoms in 10x10x10 region:\", len(df_filtered))"
   ],
   "id": "752239cef9030189",
   "outputs": [
    {
     "name": "stdout",
     "output_type": "stream",
     "text": [
      "Original data size: (16384, 3)\n",
      "Filtered data size: (4000, 3)\n",
      "Number of atoms in full lattice: 16384\n",
      "Number of atoms in 10x10x10 region: 4000\n"
     ]
    }
   ],
   "execution_count": 6
  },
  {
   "metadata": {
    "ExecuteTime": {
     "end_time": "2025-07-13T17:02:12.741573Z",
     "start_time": "2025-07-13T17:02:12.727333Z"
    }
   },
   "cell_type": "code",
   "source": [
    "lattice_dims = pd.read_csv(\"LHF_16_HPC_lattice_dims.csv\", header = None)\n",
    "lattice_dims = lattice_dims * 10/16"
   ],
   "id": "83fef875b1532875",
   "outputs": [],
   "execution_count": 8
  },
  {
   "metadata": {
    "ExecuteTime": {
     "end_time": "2025-07-13T17:02:17.702969Z",
     "start_time": "2025-07-13T17:02:17.673494Z"
    }
   },
   "cell_type": "code",
   "source": [
    "df_filtered.to_csv(\"LHF_10_HPC_atom_locs.csv\", header=False, index=False)\n",
    "lattice_dims.to_csv(\"LHF_10_HPC_lattice_dims.csv\", header=False, index=False)"
   ],
   "id": "f0aa859684674cb8",
   "outputs": [],
   "execution_count": 9
  },
  {
   "metadata": {},
   "cell_type": "code",
   "outputs": [],
   "execution_count": null,
   "source": "",
   "id": "4a12b54350578a2f"
  }
 ],
 "metadata": {
  "kernelspec": {
   "display_name": "Python 3",
   "language": "python",
   "name": "python3"
  },
  "language_info": {
   "codemirror_mode": {
    "name": "ipython",
    "version": 2
   },
   "file_extension": ".py",
   "mimetype": "text/x-python",
   "name": "python",
   "nbconvert_exporter": "python",
   "pygments_lexer": "ipython2",
   "version": "2.7.6"
  }
 },
 "nbformat": 4,
 "nbformat_minor": 5
}

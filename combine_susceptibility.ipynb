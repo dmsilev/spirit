{
 "cells": [
  {
   "cell_type": "code",
   "id": "initial_id",
   "metadata": {
    "collapsed": true,
    "ExecuteTime": {
     "end_time": "2025-07-24T04:47:36.406787Z",
     "start_time": "2025-07-24T04:47:36.245459Z"
    }
   },
   "source": [
    "#Ref\n",
    "import pandas as pd\n",
    "import glob\n",
    "import numpy as np\n",
    "import plotly.express as px\n",
    "path = '/Users/jiakai/Desktop/SURF/code/_spirit/'\n",
    "n_cycles = 120\n",
    "\n",
    "\n",
    "# Pattern to match all relevant CSV files\n",
    "file_pattern = path + \"Susceptibility_multi_gammas_10_120_per_gamma_20_anisotropy_0.7_gamma_0.0001_ref*.csv\"\n",
    "\n",
    "# List all matching files\n",
    "csv_files = glob.glob(file_pattern)\n",
    "\n",
    "# Print how many files were found\n",
    "print(f\"Found {len(csv_files)} files.\")\n",
    "repeats = len(csv_files)\n",
    "\n",
    "for f in csv_files:\n",
    "    print(f)\n",
    "\n",
    "# Read and concatenate all files\n",
    "df_all = pd.concat([pd.read_csv(f) for f in csv_files], ignore_index=True)\n",
    "\n",
    "df_avg = (\n",
    "        df_all.groupby([\"gamma\", \"Ht\", \"direction\"], as_index=False)\n",
    "        .agg(\n",
    "            chi_mean=(\"chi\", \"mean\"),\n",
    "            chi_std=(\"chi\", lambda x: x.std(ddof=1) / np.sqrt(n_cycles*repeats))\n",
    "        )\n",
    "    )\n",
    "\n",
    "fig_ref = px.line(\n",
    "    df_avg,\n",
    "    x=\"Ht\",\n",
    "    y=\"chi_mean\",\n",
    "    error_y=\"chi_std\",\n",
    "    color=\"direction\",  # Different color for up/down\n",
    "    line_dash=\"gamma\",  # Optional: if you vary gamma too\n",
    "    markers=True,\n",
    "    labels={\n",
    "        \"Ht\": \"Ht (T)\",\n",
    "        \"chi_mean\": \"Susceptibility χ\",\n",
    "        \"direction\": \"Sweep Direction\",\n",
    "    },\n",
    "    title=\"Susceptibility χ vs Ht (sweep up vs down)\",\n",
    "    template=\"plotly_white\"\n",
    ")\n",
    "\n",
    "fig_ref.show()\n",
    "\n",
    "\n",
    "\n",
    "\n",
    "\n"
   ],
   "outputs": [
    {
     "name": "stdout",
     "output_type": "stream",
     "text": [
      "Found 3 files.\n",
      "/Users/jiakai/Desktop/SURF/code/_spirit/Susceptibility_multi_gammas_10_120_per_gamma_20_anisotropy_0.7_gamma_0.0001_ref_2.csv\n",
      "/Users/jiakai/Desktop/SURF/code/_spirit/Susceptibility_multi_gammas_10_120_per_gamma_20_anisotropy_0.7_gamma_0.0001_ref_1.csv\n",
      "/Users/jiakai/Desktop/SURF/code/_spirit/Susceptibility_multi_gammas_10_120_per_gamma_20_anisotropy_0.7_gamma_0.0001_ref.csv\n"
     ]
    },
    {
     "data": {
      "application/vnd.plotly.v1+json": {
       "data": [
        {
         "error_y": {
          "array": {
           "dtype": "f8",
           "bdata": "HjW5kpAedz/YgWLbglB3P/+XafPGlXg/UWVsbfrQdT+owcgvyzZ2P3nJrSiX7XY/+r28PXwwdj+7EjQM/CR4P3Vy/VkW4nY/w7JpGLpNdz/Gw1BOB5d4Pxg4E1d5Anc/ommZyFEWdj9BkWVM4Vd3P4CXe0NXHXc/rAcGmFKTdz/w+LOO2MF2P+m6RoW+/nc/f09o+9Zodz9K+09nh9x4P9faWi1J9nY/fm2vkCPDeD/B0qX4gcp3Px2F1r4E7Xg/nMA0Eb6AeD9VOjLH9mJ3P+ntrGujlnc/umhtvlszdj8PUWqRZBF2P9Ik3mK7+nc//Yxsb1whdj/OFya7N+B1Pw7NJ6OZWXY/UBhpLbMEdj9MD24nU/p0P4htwZ8GD3Q/UZuExaxfdD99nomPwLFzPwqOfM7rBHM/CAaCPxRVcj+IVJLpwvZwP+qF/1bVrHA/ZSdpAty7cD9jm1VmUu1wPwyH4VpNsm4/jioDBpuZcD8="
          }
         },
         "hovertemplate": "Sweep Direction=down<br>gamma=0.0001<br>Ht (T)=%{x}<br>Susceptibility χ=%{y}<extra></extra>",
         "legendgroup": "down, 0.0001",
         "line": {
          "color": "#636efa",
          "dash": "solid"
         },
         "marker": {
          "symbol": "circle"
         },
         "mode": "lines+markers",
         "name": "down, 0.0001",
         "orientation": "v",
         "showlegend": true,
         "x": {
          "dtype": "f8",
          "bdata": "AAAAAAAAAACamZmZmZm5P5qZmZmZmck/MzMzMzMz0z+amZmZmZnZPwAAAAAAAOA/MzMzMzMz4z9mZmZmZmbmP5qZmZmZmek/zczMzMzM7D8AAAAAAADwP5qZmZmZmfE/MzMzMzMz8z/NzMzMzMz0P2ZmZmZmZvY/AAAAAAAA+D+amZmZmZn5PzMzMzMzM/s/zczMzMzM/D9mZmZmZmb+PwAAAAAAAABAzczMzMzMAECamZmZmZkBQGZmZmZmZgJAMzMzMzMzA0AAAAAAAAAEQM3MzMzMzARAmpmZmZmZBUBmZmZmZmYGQDMzMzMzMwdAAAAAAAAACEDNzMzMzMwIQJqZmZmZmQlAZmZmZmZmCkAzMzMzMzMLQAAAAAAAAAxAzczMzMzMDECamZmZmZkNQGZmZmZmZg5AMzMzMzMzD0AAAAAAAAAQQGZmZmZmZhBAzczMzMzMEEAzMzMzMzMRQJqZmZmZmRFAAAAAAAAAEkA="
         },
         "xaxis": "x",
         "y": {
          "dtype": "f8",
          "bdata": "VVXyOhf71z+OI0x40JLXP+S42PvM3dc/AODPuT+h1z+O4wRJaPfXP+R4FH19/dc/jmOPQD202D8AgHLABGDYP8cxu1Q+Tdg/q6qtaMDU2D8AwLQ2hqnZPzkO3aH7gdk/5HjjuL7I2T9yHIrBEIvaP1VVFK7CG9s/qy72UuSG2z85jg8V9o7bP6sqHZlQKNw/jsObFZ7w3D+O49qDCQndP8dxIhj6cd4/5DimMltl3z85jtnnNv/ePwAAVmKMEuA/5Dgsz+8L4D85jmISC3TgP44Dt3DaBOE/ctzmC8Ui4T8AwFBc/L7hPzoOXY69q+E/qxon+6Ac4j+rqg0iqGHiP+SVRrotvOI/VVXUAGqr4j86YqA80P7iP4/jULcwGeM/chwXd5cH4z8dR5HdJsbiP1Zlmbcm7uI/VRV9d5QK4z+rqm49qMPiP4+7DI4t0eI/jmOWoP5Q4j85zqx9bT7iP+T4NZOC5+E/5NhrNKZ/4T8="
         },
         "yaxis": "y",
         "type": "scatter"
        },
        {
         "error_y": {
          "array": {
           "dtype": "f8",
           "bdata": "HjW5kpAedz+bPQtRoeJ2P9HPkyQvjnQ/pc2BiVB+dT+/Gy2/KJ11Pw5ga1wNOXY/tRLcsDvddT+8CqsRuDl1P1xG2kzrMXY/q/s7tQqDdT/WVV9gBsN2PxOA47UekHY/Rcx2aJuZdj9r4DQvOVl1Px62TlUcoHU/FOh6RIAAdj+JJ8kAaFp1P+J28+EosHU/SmhGEm0Ndj8mUXsxAbl0P7HQQWwLXXY/tHWyu6ThdT+JxU4kEA51P3dGW1wlHnc/b453bVhgdj9Qm9GrpiZ3P01/Hm0/E3Y/OzcyuL4KdD/+ADDai/t0P6+V6WzmmHU/+Et0GGjndT+UQsm4G6Z1P/76VjYLKXU/N+5rooTpcz8rRrSKPihzP8T5hCtpYHQ/QJXcHQ2Tcz9lYaImtppzP5uwjusmkXI/O6b7a/Fqcj+NaHqymU5xPwmjkfkuV3A/TN0UaiMmcD/2SgVSneluP/Jau3zwbm4/KEse2DsPbj8="
          }
         },
         "hovertemplate": "Sweep Direction=up<br>gamma=0.0001<br>Ht (T)=%{x}<br>Susceptibility χ=%{y}<extra></extra>",
         "legendgroup": "up, 0.0001",
         "line": {
          "color": "#EF553B",
          "dash": "solid"
         },
         "marker": {
          "symbol": "circle"
         },
         "mode": "lines+markers",
         "name": "up, 0.0001",
         "orientation": "v",
         "showlegend": true,
         "x": {
          "dtype": "f8",
          "bdata": "AAAAAAAAAACamZmZmZm5P5qZmZmZmck/MzMzMzMz0z+amZmZmZnZPwAAAAAAAOA/MzMzMzMz4z9mZmZmZmbmP5qZmZmZmek/zczMzMzM7D8AAAAAAADwP5qZmZmZmfE/MzMzMzMz8z/NzMzMzMz0P2ZmZmZmZvY/AAAAAAAA+D+amZmZmZn5PzMzMzMzM/s/zczMzMzM/D9mZmZmZmb+PwAAAAAAAABAzczMzMzMAECamZmZmZkBQGZmZmZmZgJAMzMzMzMzA0AAAAAAAAAEQM3MzMzMzARAmpmZmZmZBUBmZmZmZmYGQDMzMzMzMwdAAAAAAAAACEDNzMzMzMwIQJqZmZmZmQlAZmZmZmZmCkAzMzMzMzMLQAAAAAAAAAxAzczMzMzMDECamZmZmZkNQGZmZmZmZg5AMzMzMzMzD0AAAAAAAAAQQGZmZmZmZhBAzczMzMzMEEAzMzMzMzMRQJqZmZmZmRFAAAAAAAAAEkA="
         },
         "xaxis": "x",
         "y": {
          "dtype": "f8",
          "bdata": "VVXyOhf71z/HcUrFnZ/XP47jcdXZ6dY/jkMl2Acr1z/HEUwkc9PWP+R4OEcRmNY/q2owuEnz1j85DjCbNwDXPzkaFu1r5dY/x3GPFw3G1j8cB9g/29nXP6v6p1175tc/q96htfPZ1z+rqoVP1EnYP8fxXHoPQNk/jmN3qlxg2T9VVWOP0MrZP6uqvhbtf9o/ctxssUQg2z+ruu3lHgfbPxxHQefjI9w/x3HzewOp3D85DtUFy27dP8dhE7A3Fd4/VVV9nAvt3j/HMXgEpL/fP+S498g4B+A/x/HB1NhT4D/H0aL+3WbgPznuEBbIHeE/x4HCEMg/4T/Hkd8KU57hP1U3iQpnAOI/HGeCJTL84T9WRXfxtVriPzmqEZJdfeI/ctwVykFi4j8cx8eWKIbiP8ixEtCpneI/j5v1oB2Q4j8c14AxY2jiP+S48MBmQuI/OaZkeoPU4T8cB8JqtNjhP6sK9rpTh+E/AEAgSKpQ4T8="
         },
         "yaxis": "y",
         "type": "scatter"
        }
       ],
       "layout": {
        "template": {
         "data": {
          "barpolar": [
           {
            "marker": {
             "line": {
              "color": "white",
              "width": 0.5
             },
             "pattern": {
              "fillmode": "overlay",
              "size": 10,
              "solidity": 0.2
             }
            },
            "type": "barpolar"
           }
          ],
          "bar": [
           {
            "error_x": {
             "color": "#2a3f5f"
            },
            "error_y": {
             "color": "#2a3f5f"
            },
            "marker": {
             "line": {
              "color": "white",
              "width": 0.5
             },
             "pattern": {
              "fillmode": "overlay",
              "size": 10,
              "solidity": 0.2
             }
            },
            "type": "bar"
           }
          ],
          "carpet": [
           {
            "aaxis": {
             "endlinecolor": "#2a3f5f",
             "gridcolor": "#C8D4E3",
             "linecolor": "#C8D4E3",
             "minorgridcolor": "#C8D4E3",
             "startlinecolor": "#2a3f5f"
            },
            "baxis": {
             "endlinecolor": "#2a3f5f",
             "gridcolor": "#C8D4E3",
             "linecolor": "#C8D4E3",
             "minorgridcolor": "#C8D4E3",
             "startlinecolor": "#2a3f5f"
            },
            "type": "carpet"
           }
          ],
          "choropleth": [
           {
            "colorbar": {
             "outlinewidth": 0,
             "ticks": ""
            },
            "type": "choropleth"
           }
          ],
          "contourcarpet": [
           {
            "colorbar": {
             "outlinewidth": 0,
             "ticks": ""
            },
            "type": "contourcarpet"
           }
          ],
          "contour": [
           {
            "colorbar": {
             "outlinewidth": 0,
             "ticks": ""
            },
            "colorscale": [
             [
              0.0,
              "#0d0887"
             ],
             [
              0.1111111111111111,
              "#46039f"
             ],
             [
              0.2222222222222222,
              "#7201a8"
             ],
             [
              0.3333333333333333,
              "#9c179e"
             ],
             [
              0.4444444444444444,
              "#bd3786"
             ],
             [
              0.5555555555555556,
              "#d8576b"
             ],
             [
              0.6666666666666666,
              "#ed7953"
             ],
             [
              0.7777777777777778,
              "#fb9f3a"
             ],
             [
              0.8888888888888888,
              "#fdca26"
             ],
             [
              1.0,
              "#f0f921"
             ]
            ],
            "type": "contour"
           }
          ],
          "heatmap": [
           {
            "colorbar": {
             "outlinewidth": 0,
             "ticks": ""
            },
            "colorscale": [
             [
              0.0,
              "#0d0887"
             ],
             [
              0.1111111111111111,
              "#46039f"
             ],
             [
              0.2222222222222222,
              "#7201a8"
             ],
             [
              0.3333333333333333,
              "#9c179e"
             ],
             [
              0.4444444444444444,
              "#bd3786"
             ],
             [
              0.5555555555555556,
              "#d8576b"
             ],
             [
              0.6666666666666666,
              "#ed7953"
             ],
             [
              0.7777777777777778,
              "#fb9f3a"
             ],
             [
              0.8888888888888888,
              "#fdca26"
             ],
             [
              1.0,
              "#f0f921"
             ]
            ],
            "type": "heatmap"
           }
          ],
          "histogram2dcontour": [
           {
            "colorbar": {
             "outlinewidth": 0,
             "ticks": ""
            },
            "colorscale": [
             [
              0.0,
              "#0d0887"
             ],
             [
              0.1111111111111111,
              "#46039f"
             ],
             [
              0.2222222222222222,
              "#7201a8"
             ],
             [
              0.3333333333333333,
              "#9c179e"
             ],
             [
              0.4444444444444444,
              "#bd3786"
             ],
             [
              0.5555555555555556,
              "#d8576b"
             ],
             [
              0.6666666666666666,
              "#ed7953"
             ],
             [
              0.7777777777777778,
              "#fb9f3a"
             ],
             [
              0.8888888888888888,
              "#fdca26"
             ],
             [
              1.0,
              "#f0f921"
             ]
            ],
            "type": "histogram2dcontour"
           }
          ],
          "histogram2d": [
           {
            "colorbar": {
             "outlinewidth": 0,
             "ticks": ""
            },
            "colorscale": [
             [
              0.0,
              "#0d0887"
             ],
             [
              0.1111111111111111,
              "#46039f"
             ],
             [
              0.2222222222222222,
              "#7201a8"
             ],
             [
              0.3333333333333333,
              "#9c179e"
             ],
             [
              0.4444444444444444,
              "#bd3786"
             ],
             [
              0.5555555555555556,
              "#d8576b"
             ],
             [
              0.6666666666666666,
              "#ed7953"
             ],
             [
              0.7777777777777778,
              "#fb9f3a"
             ],
             [
              0.8888888888888888,
              "#fdca26"
             ],
             [
              1.0,
              "#f0f921"
             ]
            ],
            "type": "histogram2d"
           }
          ],
          "histogram": [
           {
            "marker": {
             "pattern": {
              "fillmode": "overlay",
              "size": 10,
              "solidity": 0.2
             }
            },
            "type": "histogram"
           }
          ],
          "mesh3d": [
           {
            "colorbar": {
             "outlinewidth": 0,
             "ticks": ""
            },
            "type": "mesh3d"
           }
          ],
          "parcoords": [
           {
            "line": {
             "colorbar": {
              "outlinewidth": 0,
              "ticks": ""
             }
            },
            "type": "parcoords"
           }
          ],
          "pie": [
           {
            "automargin": true,
            "type": "pie"
           }
          ],
          "scatter3d": [
           {
            "line": {
             "colorbar": {
              "outlinewidth": 0,
              "ticks": ""
             }
            },
            "marker": {
             "colorbar": {
              "outlinewidth": 0,
              "ticks": ""
             }
            },
            "type": "scatter3d"
           }
          ],
          "scattercarpet": [
           {
            "marker": {
             "colorbar": {
              "outlinewidth": 0,
              "ticks": ""
             }
            },
            "type": "scattercarpet"
           }
          ],
          "scattergeo": [
           {
            "marker": {
             "colorbar": {
              "outlinewidth": 0,
              "ticks": ""
             }
            },
            "type": "scattergeo"
           }
          ],
          "scattergl": [
           {
            "marker": {
             "colorbar": {
              "outlinewidth": 0,
              "ticks": ""
             }
            },
            "type": "scattergl"
           }
          ],
          "scattermapbox": [
           {
            "marker": {
             "colorbar": {
              "outlinewidth": 0,
              "ticks": ""
             }
            },
            "type": "scattermapbox"
           }
          ],
          "scattermap": [
           {
            "marker": {
             "colorbar": {
              "outlinewidth": 0,
              "ticks": ""
             }
            },
            "type": "scattermap"
           }
          ],
          "scatterpolargl": [
           {
            "marker": {
             "colorbar": {
              "outlinewidth": 0,
              "ticks": ""
             }
            },
            "type": "scatterpolargl"
           }
          ],
          "scatterpolar": [
           {
            "marker": {
             "colorbar": {
              "outlinewidth": 0,
              "ticks": ""
             }
            },
            "type": "scatterpolar"
           }
          ],
          "scatter": [
           {
            "fillpattern": {
             "fillmode": "overlay",
             "size": 10,
             "solidity": 0.2
            },
            "type": "scatter"
           }
          ],
          "scatterternary": [
           {
            "marker": {
             "colorbar": {
              "outlinewidth": 0,
              "ticks": ""
             }
            },
            "type": "scatterternary"
           }
          ],
          "surface": [
           {
            "colorbar": {
             "outlinewidth": 0,
             "ticks": ""
            },
            "colorscale": [
             [
              0.0,
              "#0d0887"
             ],
             [
              0.1111111111111111,
              "#46039f"
             ],
             [
              0.2222222222222222,
              "#7201a8"
             ],
             [
              0.3333333333333333,
              "#9c179e"
             ],
             [
              0.4444444444444444,
              "#bd3786"
             ],
             [
              0.5555555555555556,
              "#d8576b"
             ],
             [
              0.6666666666666666,
              "#ed7953"
             ],
             [
              0.7777777777777778,
              "#fb9f3a"
             ],
             [
              0.8888888888888888,
              "#fdca26"
             ],
             [
              1.0,
              "#f0f921"
             ]
            ],
            "type": "surface"
           }
          ],
          "table": [
           {
            "cells": {
             "fill": {
              "color": "#EBF0F8"
             },
             "line": {
              "color": "white"
             }
            },
            "header": {
             "fill": {
              "color": "#C8D4E3"
             },
             "line": {
              "color": "white"
             }
            },
            "type": "table"
           }
          ]
         },
         "layout": {
          "annotationdefaults": {
           "arrowcolor": "#2a3f5f",
           "arrowhead": 0,
           "arrowwidth": 1
          },
          "autotypenumbers": "strict",
          "coloraxis": {
           "colorbar": {
            "outlinewidth": 0,
            "ticks": ""
           }
          },
          "colorscale": {
           "diverging": [
            [
             0,
             "#8e0152"
            ],
            [
             0.1,
             "#c51b7d"
            ],
            [
             0.2,
             "#de77ae"
            ],
            [
             0.3,
             "#f1b6da"
            ],
            [
             0.4,
             "#fde0ef"
            ],
            [
             0.5,
             "#f7f7f7"
            ],
            [
             0.6,
             "#e6f5d0"
            ],
            [
             0.7,
             "#b8e186"
            ],
            [
             0.8,
             "#7fbc41"
            ],
            [
             0.9,
             "#4d9221"
            ],
            [
             1,
             "#276419"
            ]
           ],
           "sequential": [
            [
             0.0,
             "#0d0887"
            ],
            [
             0.1111111111111111,
             "#46039f"
            ],
            [
             0.2222222222222222,
             "#7201a8"
            ],
            [
             0.3333333333333333,
             "#9c179e"
            ],
            [
             0.4444444444444444,
             "#bd3786"
            ],
            [
             0.5555555555555556,
             "#d8576b"
            ],
            [
             0.6666666666666666,
             "#ed7953"
            ],
            [
             0.7777777777777778,
             "#fb9f3a"
            ],
            [
             0.8888888888888888,
             "#fdca26"
            ],
            [
             1.0,
             "#f0f921"
            ]
           ],
           "sequentialminus": [
            [
             0.0,
             "#0d0887"
            ],
            [
             0.1111111111111111,
             "#46039f"
            ],
            [
             0.2222222222222222,
             "#7201a8"
            ],
            [
             0.3333333333333333,
             "#9c179e"
            ],
            [
             0.4444444444444444,
             "#bd3786"
            ],
            [
             0.5555555555555556,
             "#d8576b"
            ],
            [
             0.6666666666666666,
             "#ed7953"
            ],
            [
             0.7777777777777778,
             "#fb9f3a"
            ],
            [
             0.8888888888888888,
             "#fdca26"
            ],
            [
             1.0,
             "#f0f921"
            ]
           ]
          },
          "colorway": [
           "#636efa",
           "#EF553B",
           "#00cc96",
           "#ab63fa",
           "#FFA15A",
           "#19d3f3",
           "#FF6692",
           "#B6E880",
           "#FF97FF",
           "#FECB52"
          ],
          "font": {
           "color": "#2a3f5f"
          },
          "geo": {
           "bgcolor": "white",
           "lakecolor": "white",
           "landcolor": "white",
           "showlakes": true,
           "showland": true,
           "subunitcolor": "#C8D4E3"
          },
          "hoverlabel": {
           "align": "left"
          },
          "hovermode": "closest",
          "mapbox": {
           "style": "light"
          },
          "paper_bgcolor": "white",
          "plot_bgcolor": "white",
          "polar": {
           "angularaxis": {
            "gridcolor": "#EBF0F8",
            "linecolor": "#EBF0F8",
            "ticks": ""
           },
           "bgcolor": "white",
           "radialaxis": {
            "gridcolor": "#EBF0F8",
            "linecolor": "#EBF0F8",
            "ticks": ""
           }
          },
          "scene": {
           "xaxis": {
            "backgroundcolor": "white",
            "gridcolor": "#DFE8F3",
            "gridwidth": 2,
            "linecolor": "#EBF0F8",
            "showbackground": true,
            "ticks": "",
            "zerolinecolor": "#EBF0F8"
           },
           "yaxis": {
            "backgroundcolor": "white",
            "gridcolor": "#DFE8F3",
            "gridwidth": 2,
            "linecolor": "#EBF0F8",
            "showbackground": true,
            "ticks": "",
            "zerolinecolor": "#EBF0F8"
           },
           "zaxis": {
            "backgroundcolor": "white",
            "gridcolor": "#DFE8F3",
            "gridwidth": 2,
            "linecolor": "#EBF0F8",
            "showbackground": true,
            "ticks": "",
            "zerolinecolor": "#EBF0F8"
           }
          },
          "shapedefaults": {
           "line": {
            "color": "#2a3f5f"
           }
          },
          "ternary": {
           "aaxis": {
            "gridcolor": "#DFE8F3",
            "linecolor": "#A2B1C6",
            "ticks": ""
           },
           "baxis": {
            "gridcolor": "#DFE8F3",
            "linecolor": "#A2B1C6",
            "ticks": ""
           },
           "bgcolor": "white",
           "caxis": {
            "gridcolor": "#DFE8F3",
            "linecolor": "#A2B1C6",
            "ticks": ""
           }
          },
          "title": {
           "x": 0.05
          },
          "xaxis": {
           "automargin": true,
           "gridcolor": "#EBF0F8",
           "linecolor": "#EBF0F8",
           "ticks": "",
           "title": {
            "standoff": 15
           },
           "zerolinecolor": "#EBF0F8",
           "zerolinewidth": 2
          },
          "yaxis": {
           "automargin": true,
           "gridcolor": "#EBF0F8",
           "linecolor": "#EBF0F8",
           "ticks": "",
           "title": {
            "standoff": 15
           },
           "zerolinecolor": "#EBF0F8",
           "zerolinewidth": 2
          }
         }
        },
        "xaxis": {
         "anchor": "y",
         "domain": [
          0.0,
          1.0
         ],
         "title": {
          "text": "Ht (T)"
         }
        },
        "yaxis": {
         "anchor": "x",
         "domain": [
          0.0,
          1.0
         ],
         "title": {
          "text": "Susceptibility χ"
         }
        },
        "legend": {
         "title": {
          "text": "Sweep Direction, gamma"
         },
         "tracegroupgap": 0
        },
        "title": {
         "text": "Susceptibility χ vs Ht (sweep up vs down)"
        }
       },
       "config": {
        "plotlyServerURL": "https://plot.ly"
       }
      }
     },
     "metadata": {},
     "output_type": "display_data"
    }
   ],
   "execution_count": 46
  },
  {
   "metadata": {
    "ExecuteTime": {
     "end_time": "2025-07-24T04:47:52.833910Z",
     "start_time": "2025-07-24T04:47:52.777309Z"
    }
   },
   "cell_type": "code",
   "source": [
    "#Relaxed\n",
    "import pandas as pd\n",
    "import glob\n",
    "import numpy as np\n",
    "import plotly.express as px\n",
    "path = '/Users/jiakai/Desktop/SURF/code/_spirit/'\n",
    "n_cycles = 240\n",
    "\n",
    "\n",
    "# Pattern to match all relevant CSV files\n",
    "file_pattern = path + \"Susceptibility_multi_gammas_10_240_per_gamma_20_anisotropy_0.7_relax_step_400_gammas_-5_relax_0.8_gamma_0.0001_relaxed*.csv\"\n",
    "\n",
    "# List all matching files\n",
    "csv_files = glob.glob(file_pattern)\n",
    "\n",
    "# Print how many files were found\n",
    "print(f\"Found {len(csv_files)} files.\")\n",
    "repeats = len(csv_files)\n",
    "for f in csv_files:\n",
    "    print(f)\n",
    "\n",
    "# Read and concatenate all files\n",
    "df_all_relaxed = pd.concat([pd.read_csv(f) for f in csv_files], ignore_index=True)\n",
    "\n",
    "# Average over cycles, std divided by sqrt(n_cycles)\n",
    "df_avg_relaxed = (\n",
    "    df_all_relaxed.groupby([\"gamma\", \"Ht\"], as_index=False)\n",
    "    .agg(\n",
    "        chi_mean=(\"chi\", \"mean\"),\n",
    "        chi_std=(\"chi\", lambda x: x.std(ddof=1) / np.sqrt(n_cycles*repeats))\n",
    "    )\n",
    ")\n",
    "\n",
    "# Plot\n",
    "fig_relaxed = px.line(\n",
    "    df_avg_relaxed,\n",
    "    x=\"Ht\",\n",
    "    y=\"chi_mean\",\n",
    "    error_y=\"chi_std\",\n",
    "    color=\"gamma\",  # Different color per gamma\n",
    "    markers=True,\n",
    "    labels={\n",
    "        \"Ht\": \"Ht (T)\",\n",
    "        \"chi_mean\": \"Susceptibility χ\",\n",
    "        \"gamma\": \"Gamma\",\n",
    "    },\n",
    "    title=\"Susceptibility χ vs Ht for different Γ (gamma)\",\n",
    "    template=\"plotly_white\"\n",
    ")\n",
    "\n",
    "\n",
    "fig_relaxed.show()\n",
    "\n",
    "\n",
    "\n",
    "\n"
   ],
   "id": "960d982641dfe187",
   "outputs": [
    {
     "name": "stdout",
     "output_type": "stream",
     "text": [
      "Found 2 files.\n",
      "/Users/jiakai/Desktop/SURF/code/_spirit/Susceptibility_multi_gammas_10_240_per_gamma_20_anisotropy_0.7_relax_step_400_gammas_-5_relax_0.8_gamma_0.0001_relaxed.csv\n",
      "/Users/jiakai/Desktop/SURF/code/_spirit/Susceptibility_multi_gammas_10_240_per_gamma_20_anisotropy_0.7_relax_step_400_gammas_-5_relax_0.8_gamma_0.0001_relaxed_1.csv\n"
     ]
    },
    {
     "data": {
      "application/vnd.plotly.v1+json": {
       "data": [
        {
         "error_y": {
          "array": {
           "dtype": "f8",
           "bdata": "HpSUnp+Qcz8+Aa9cjLl0PwYCzMTPCXQ/hZzzdMBDdD+KluFRXmJ1P1yjugV6Z3M/aUuqj610cz8xTs3EWntzPxUDPpLQKXM/8NyBNOlLcz/J7UyGtdNyPyIIeP4I4HM/c77BbEWecz8BVLxmq5R0P9uJLSnGnnM/KIlomTAedD8sx45uI5hzP9yCgo+vlnM/CIoDbvNKcz8xvd8NulVzP3x0nKle+XI/eF2NzrDXcz9WZD8HTxRyP+i8+DufsGY/Te+eZZjXdD+DEkF0uRt0P7S421ZwsXM/0Ax7qdkKdT8/U9JdJrt0P27AUj4vnHM/mL3ZG3qTcz/F0zOdm6xyP5+WthOIcXM/HxtFxjtncj/yjTMVHZ5yP7UCahUCKnI/t2vhE3T2cD8Of97pjpdwP1tpQOettXA/7q61eaQGcD8/MWVJ8yBvP82/4Jp6MG4/zzBfoaOFbD8M1wy2wDFsP3C6AyYk2Go/Lavf8reaaj8="
          }
         },
         "hovertemplate": "Gamma=0.0001<br>Ht (T)=%{x}<br>Susceptibility χ=%{y}<extra></extra>",
         "legendgroup": "0.0001",
         "line": {
          "color": "#636efa",
          "dash": "solid"
         },
         "marker": {
          "symbol": "circle"
         },
         "mode": "lines+markers",
         "name": "0.0001",
         "orientation": "v",
         "showlegend": true,
         "x": {
          "dtype": "f8",
          "bdata": "AAAAAAAAAICamZmZmZm5P5qZmZmZmck/MzMzMzMz0z+amZmZmZnZPwAAAAAAAOA/MzMzMzMz4z9mZmZmZmbmP5qZmZmZmek/zczMzMzM7D8AAAAAAADwP5qZmZmZmfE/MzMzMzMz8z/NzMzMzMz0P2ZmZmZmZvY/AAAAAAAA+D+amZmZmZn5PzMzMzMzM/s/zczMzMzM/D9mZmZmZmb+PwAAAAAAAABAzczMzMzMAECamZmZmZkBQGZmZmZmZgJAMzMzMzMzA0AAAAAAAAAEQM3MzMzMzARAmpmZmZmZBUBmZmZmZmYGQDMzMzMzMwdAAAAAAAAACEDNzMzMzMwIQJqZmZmZmQlAZmZmZmZmCkAzMzMzMzMLQAAAAAAAAAxAzczMzMzMDECamZmZmZkNQGZmZmZmZg5AMzMzMzMzD0AAAAAAAAAQQGZmZmZmZhBAzczMzMzMEEAzMzMzMzMRQJqZmZmZmRFAAAAAAAAAEkA="
         },
         "xaxis": "x",
         "y": {
          "dtype": "f8",
          "bdata": "AIDqgYCM1z9VpWq+HmvXP1W9bpto89c/1SqgnTWd1z8A4GHtuHHXPwB4NvOeLNc/q9oIos6W2D9V1Vz/vz7YP6vUAGq+3dc/VWWqJGhe2D9VnaZWih7YPwD8LT6jvdg/qwq2P7k92T8AEB3/ZLnZPwAAqqhC69k/q6pVginh2T+r6rQor+HaP6sKok0A0to/VTUdesjl2j9VKV5hlq7bP6vqb/ETWtw/VQETG+Ql3T9VRR5RM8vdP1WVjLZKqN0/VWV4xFhA4D+rathOq5bgP6vy1qO5DOE/1Yjb4B1w4T8AkESd1XbhP1W1RfnQDeI/AMCvsUQn4j8A+NUpL1ziPwBIcdyzh+I/VeWCImnr4j8AHKzF5hLjP6tqMTp82+I/VcUou1bs4j8AZLqUyuviPwBg77BbB+M/AF4Zdb/m4j+r4k9Tn6riP1UF2e70ceI/AOd4vJs+4j+rOuh7ZS/iPwDQMIl57eE/K3lbOPO54T8="
         },
         "yaxis": "y",
         "type": "scatter"
        }
       ],
       "layout": {
        "template": {
         "data": {
          "barpolar": [
           {
            "marker": {
             "line": {
              "color": "white",
              "width": 0.5
             },
             "pattern": {
              "fillmode": "overlay",
              "size": 10,
              "solidity": 0.2
             }
            },
            "type": "barpolar"
           }
          ],
          "bar": [
           {
            "error_x": {
             "color": "#2a3f5f"
            },
            "error_y": {
             "color": "#2a3f5f"
            },
            "marker": {
             "line": {
              "color": "white",
              "width": 0.5
             },
             "pattern": {
              "fillmode": "overlay",
              "size": 10,
              "solidity": 0.2
             }
            },
            "type": "bar"
           }
          ],
          "carpet": [
           {
            "aaxis": {
             "endlinecolor": "#2a3f5f",
             "gridcolor": "#C8D4E3",
             "linecolor": "#C8D4E3",
             "minorgridcolor": "#C8D4E3",
             "startlinecolor": "#2a3f5f"
            },
            "baxis": {
             "endlinecolor": "#2a3f5f",
             "gridcolor": "#C8D4E3",
             "linecolor": "#C8D4E3",
             "minorgridcolor": "#C8D4E3",
             "startlinecolor": "#2a3f5f"
            },
            "type": "carpet"
           }
          ],
          "choropleth": [
           {
            "colorbar": {
             "outlinewidth": 0,
             "ticks": ""
            },
            "type": "choropleth"
           }
          ],
          "contourcarpet": [
           {
            "colorbar": {
             "outlinewidth": 0,
             "ticks": ""
            },
            "type": "contourcarpet"
           }
          ],
          "contour": [
           {
            "colorbar": {
             "outlinewidth": 0,
             "ticks": ""
            },
            "colorscale": [
             [
              0.0,
              "#0d0887"
             ],
             [
              0.1111111111111111,
              "#46039f"
             ],
             [
              0.2222222222222222,
              "#7201a8"
             ],
             [
              0.3333333333333333,
              "#9c179e"
             ],
             [
              0.4444444444444444,
              "#bd3786"
             ],
             [
              0.5555555555555556,
              "#d8576b"
             ],
             [
              0.6666666666666666,
              "#ed7953"
             ],
             [
              0.7777777777777778,
              "#fb9f3a"
             ],
             [
              0.8888888888888888,
              "#fdca26"
             ],
             [
              1.0,
              "#f0f921"
             ]
            ],
            "type": "contour"
           }
          ],
          "heatmap": [
           {
            "colorbar": {
             "outlinewidth": 0,
             "ticks": ""
            },
            "colorscale": [
             [
              0.0,
              "#0d0887"
             ],
             [
              0.1111111111111111,
              "#46039f"
             ],
             [
              0.2222222222222222,
              "#7201a8"
             ],
             [
              0.3333333333333333,
              "#9c179e"
             ],
             [
              0.4444444444444444,
              "#bd3786"
             ],
             [
              0.5555555555555556,
              "#d8576b"
             ],
             [
              0.6666666666666666,
              "#ed7953"
             ],
             [
              0.7777777777777778,
              "#fb9f3a"
             ],
             [
              0.8888888888888888,
              "#fdca26"
             ],
             [
              1.0,
              "#f0f921"
             ]
            ],
            "type": "heatmap"
           }
          ],
          "histogram2dcontour": [
           {
            "colorbar": {
             "outlinewidth": 0,
             "ticks": ""
            },
            "colorscale": [
             [
              0.0,
              "#0d0887"
             ],
             [
              0.1111111111111111,
              "#46039f"
             ],
             [
              0.2222222222222222,
              "#7201a8"
             ],
             [
              0.3333333333333333,
              "#9c179e"
             ],
             [
              0.4444444444444444,
              "#bd3786"
             ],
             [
              0.5555555555555556,
              "#d8576b"
             ],
             [
              0.6666666666666666,
              "#ed7953"
             ],
             [
              0.7777777777777778,
              "#fb9f3a"
             ],
             [
              0.8888888888888888,
              "#fdca26"
             ],
             [
              1.0,
              "#f0f921"
             ]
            ],
            "type": "histogram2dcontour"
           }
          ],
          "histogram2d": [
           {
            "colorbar": {
             "outlinewidth": 0,
             "ticks": ""
            },
            "colorscale": [
             [
              0.0,
              "#0d0887"
             ],
             [
              0.1111111111111111,
              "#46039f"
             ],
             [
              0.2222222222222222,
              "#7201a8"
             ],
             [
              0.3333333333333333,
              "#9c179e"
             ],
             [
              0.4444444444444444,
              "#bd3786"
             ],
             [
              0.5555555555555556,
              "#d8576b"
             ],
             [
              0.6666666666666666,
              "#ed7953"
             ],
             [
              0.7777777777777778,
              "#fb9f3a"
             ],
             [
              0.8888888888888888,
              "#fdca26"
             ],
             [
              1.0,
              "#f0f921"
             ]
            ],
            "type": "histogram2d"
           }
          ],
          "histogram": [
           {
            "marker": {
             "pattern": {
              "fillmode": "overlay",
              "size": 10,
              "solidity": 0.2
             }
            },
            "type": "histogram"
           }
          ],
          "mesh3d": [
           {
            "colorbar": {
             "outlinewidth": 0,
             "ticks": ""
            },
            "type": "mesh3d"
           }
          ],
          "parcoords": [
           {
            "line": {
             "colorbar": {
              "outlinewidth": 0,
              "ticks": ""
             }
            },
            "type": "parcoords"
           }
          ],
          "pie": [
           {
            "automargin": true,
            "type": "pie"
           }
          ],
          "scatter3d": [
           {
            "line": {
             "colorbar": {
              "outlinewidth": 0,
              "ticks": ""
             }
            },
            "marker": {
             "colorbar": {
              "outlinewidth": 0,
              "ticks": ""
             }
            },
            "type": "scatter3d"
           }
          ],
          "scattercarpet": [
           {
            "marker": {
             "colorbar": {
              "outlinewidth": 0,
              "ticks": ""
             }
            },
            "type": "scattercarpet"
           }
          ],
          "scattergeo": [
           {
            "marker": {
             "colorbar": {
              "outlinewidth": 0,
              "ticks": ""
             }
            },
            "type": "scattergeo"
           }
          ],
          "scattergl": [
           {
            "marker": {
             "colorbar": {
              "outlinewidth": 0,
              "ticks": ""
             }
            },
            "type": "scattergl"
           }
          ],
          "scattermapbox": [
           {
            "marker": {
             "colorbar": {
              "outlinewidth": 0,
              "ticks": ""
             }
            },
            "type": "scattermapbox"
           }
          ],
          "scattermap": [
           {
            "marker": {
             "colorbar": {
              "outlinewidth": 0,
              "ticks": ""
             }
            },
            "type": "scattermap"
           }
          ],
          "scatterpolargl": [
           {
            "marker": {
             "colorbar": {
              "outlinewidth": 0,
              "ticks": ""
             }
            },
            "type": "scatterpolargl"
           }
          ],
          "scatterpolar": [
           {
            "marker": {
             "colorbar": {
              "outlinewidth": 0,
              "ticks": ""
             }
            },
            "type": "scatterpolar"
           }
          ],
          "scatter": [
           {
            "fillpattern": {
             "fillmode": "overlay",
             "size": 10,
             "solidity": 0.2
            },
            "type": "scatter"
           }
          ],
          "scatterternary": [
           {
            "marker": {
             "colorbar": {
              "outlinewidth": 0,
              "ticks": ""
             }
            },
            "type": "scatterternary"
           }
          ],
          "surface": [
           {
            "colorbar": {
             "outlinewidth": 0,
             "ticks": ""
            },
            "colorscale": [
             [
              0.0,
              "#0d0887"
             ],
             [
              0.1111111111111111,
              "#46039f"
             ],
             [
              0.2222222222222222,
              "#7201a8"
             ],
             [
              0.3333333333333333,
              "#9c179e"
             ],
             [
              0.4444444444444444,
              "#bd3786"
             ],
             [
              0.5555555555555556,
              "#d8576b"
             ],
             [
              0.6666666666666666,
              "#ed7953"
             ],
             [
              0.7777777777777778,
              "#fb9f3a"
             ],
             [
              0.8888888888888888,
              "#fdca26"
             ],
             [
              1.0,
              "#f0f921"
             ]
            ],
            "type": "surface"
           }
          ],
          "table": [
           {
            "cells": {
             "fill": {
              "color": "#EBF0F8"
             },
             "line": {
              "color": "white"
             }
            },
            "header": {
             "fill": {
              "color": "#C8D4E3"
             },
             "line": {
              "color": "white"
             }
            },
            "type": "table"
           }
          ]
         },
         "layout": {
          "annotationdefaults": {
           "arrowcolor": "#2a3f5f",
           "arrowhead": 0,
           "arrowwidth": 1
          },
          "autotypenumbers": "strict",
          "coloraxis": {
           "colorbar": {
            "outlinewidth": 0,
            "ticks": ""
           }
          },
          "colorscale": {
           "diverging": [
            [
             0,
             "#8e0152"
            ],
            [
             0.1,
             "#c51b7d"
            ],
            [
             0.2,
             "#de77ae"
            ],
            [
             0.3,
             "#f1b6da"
            ],
            [
             0.4,
             "#fde0ef"
            ],
            [
             0.5,
             "#f7f7f7"
            ],
            [
             0.6,
             "#e6f5d0"
            ],
            [
             0.7,
             "#b8e186"
            ],
            [
             0.8,
             "#7fbc41"
            ],
            [
             0.9,
             "#4d9221"
            ],
            [
             1,
             "#276419"
            ]
           ],
           "sequential": [
            [
             0.0,
             "#0d0887"
            ],
            [
             0.1111111111111111,
             "#46039f"
            ],
            [
             0.2222222222222222,
             "#7201a8"
            ],
            [
             0.3333333333333333,
             "#9c179e"
            ],
            [
             0.4444444444444444,
             "#bd3786"
            ],
            [
             0.5555555555555556,
             "#d8576b"
            ],
            [
             0.6666666666666666,
             "#ed7953"
            ],
            [
             0.7777777777777778,
             "#fb9f3a"
            ],
            [
             0.8888888888888888,
             "#fdca26"
            ],
            [
             1.0,
             "#f0f921"
            ]
           ],
           "sequentialminus": [
            [
             0.0,
             "#0d0887"
            ],
            [
             0.1111111111111111,
             "#46039f"
            ],
            [
             0.2222222222222222,
             "#7201a8"
            ],
            [
             0.3333333333333333,
             "#9c179e"
            ],
            [
             0.4444444444444444,
             "#bd3786"
            ],
            [
             0.5555555555555556,
             "#d8576b"
            ],
            [
             0.6666666666666666,
             "#ed7953"
            ],
            [
             0.7777777777777778,
             "#fb9f3a"
            ],
            [
             0.8888888888888888,
             "#fdca26"
            ],
            [
             1.0,
             "#f0f921"
            ]
           ]
          },
          "colorway": [
           "#636efa",
           "#EF553B",
           "#00cc96",
           "#ab63fa",
           "#FFA15A",
           "#19d3f3",
           "#FF6692",
           "#B6E880",
           "#FF97FF",
           "#FECB52"
          ],
          "font": {
           "color": "#2a3f5f"
          },
          "geo": {
           "bgcolor": "white",
           "lakecolor": "white",
           "landcolor": "white",
           "showlakes": true,
           "showland": true,
           "subunitcolor": "#C8D4E3"
          },
          "hoverlabel": {
           "align": "left"
          },
          "hovermode": "closest",
          "mapbox": {
           "style": "light"
          },
          "paper_bgcolor": "white",
          "plot_bgcolor": "white",
          "polar": {
           "angularaxis": {
            "gridcolor": "#EBF0F8",
            "linecolor": "#EBF0F8",
            "ticks": ""
           },
           "bgcolor": "white",
           "radialaxis": {
            "gridcolor": "#EBF0F8",
            "linecolor": "#EBF0F8",
            "ticks": ""
           }
          },
          "scene": {
           "xaxis": {
            "backgroundcolor": "white",
            "gridcolor": "#DFE8F3",
            "gridwidth": 2,
            "linecolor": "#EBF0F8",
            "showbackground": true,
            "ticks": "",
            "zerolinecolor": "#EBF0F8"
           },
           "yaxis": {
            "backgroundcolor": "white",
            "gridcolor": "#DFE8F3",
            "gridwidth": 2,
            "linecolor": "#EBF0F8",
            "showbackground": true,
            "ticks": "",
            "zerolinecolor": "#EBF0F8"
           },
           "zaxis": {
            "backgroundcolor": "white",
            "gridcolor": "#DFE8F3",
            "gridwidth": 2,
            "linecolor": "#EBF0F8",
            "showbackground": true,
            "ticks": "",
            "zerolinecolor": "#EBF0F8"
           }
          },
          "shapedefaults": {
           "line": {
            "color": "#2a3f5f"
           }
          },
          "ternary": {
           "aaxis": {
            "gridcolor": "#DFE8F3",
            "linecolor": "#A2B1C6",
            "ticks": ""
           },
           "baxis": {
            "gridcolor": "#DFE8F3",
            "linecolor": "#A2B1C6",
            "ticks": ""
           },
           "bgcolor": "white",
           "caxis": {
            "gridcolor": "#DFE8F3",
            "linecolor": "#A2B1C6",
            "ticks": ""
           }
          },
          "title": {
           "x": 0.05
          },
          "xaxis": {
           "automargin": true,
           "gridcolor": "#EBF0F8",
           "linecolor": "#EBF0F8",
           "ticks": "",
           "title": {
            "standoff": 15
           },
           "zerolinecolor": "#EBF0F8",
           "zerolinewidth": 2
          },
          "yaxis": {
           "automargin": true,
           "gridcolor": "#EBF0F8",
           "linecolor": "#EBF0F8",
           "ticks": "",
           "title": {
            "standoff": 15
           },
           "zerolinecolor": "#EBF0F8",
           "zerolinewidth": 2
          }
         }
        },
        "xaxis": {
         "anchor": "y",
         "domain": [
          0.0,
          1.0
         ],
         "title": {
          "text": "Ht (T)"
         }
        },
        "yaxis": {
         "anchor": "x",
         "domain": [
          0.0,
          1.0
         ],
         "title": {
          "text": "Susceptibility χ"
         }
        },
        "legend": {
         "title": {
          "text": "Gamma"
         },
         "tracegroupgap": 0
        },
        "title": {
         "text": "Susceptibility χ vs Ht for different Γ (gamma)"
        }
       },
       "config": {
        "plotlyServerURL": "https://plot.ly"
       }
      }
     },
     "metadata": {},
     "output_type": "display_data"
    }
   ],
   "execution_count": 47
  },
  {
   "metadata": {},
   "cell_type": "code",
   "outputs": [],
   "execution_count": null,
   "source": [
    "#Ht = H_relax before relaxation\n",
    "path = '/Users/jiakai/Desktop/SURF/code/_spirit/'\n",
    "n_cycles = 240\n",
    "\n",
    "df = pd.read_csv(\"chi_before_relax_10_240_per_gamma_20_anisotropy_0.7_relax_step_400_gammas_-5_relax_0.8_gamma_0.0001*.csv\")\n",
    "# List all matching files\n",
    "csv_files = glob.glob(file_pattern)\n",
    "\n",
    "# Print how many files were found\n",
    "print(f\"Found {len(csv_files)} files.\")\n",
    "repeats = len(csv_files)\n",
    "for f in csv_files:\n",
    "    print(f)\n",
    "\n",
    "\n",
    "# Read and concatenate all files\n",
    "df_all_no_relax = pd.concat([pd.read_csv(f) for f in csv_files], ignore_index=True)\n",
    "\n",
    "# Average over cycles, std divided by sqrt(n_cycles)\n",
    "df_avg_no_relax = (\n",
    "    df_all_no_relax.groupby([\"gamma\", \"Ht\"], as_index=False)\n",
    "    .agg(\n",
    "        chi_mean=(\"chi\", \"mean\"),\n",
    "        chi_std=(\"chi\", lambda x: x.std(ddof=1) / np.sqrt(n_cycles*repeats))\n",
    "    )\n",
    ")\n",
    "\n",
    "# Plot\n",
    "fig_no_relax= px.line(\n",
    "    df_avg_no_relax,\n",
    "    x=\"Ht\",\n",
    "    y=\"chi_mean\",\n",
    "    error_y=\"chi_std\",\n",
    "    color=\"gamma\",  # Different color per gamma\n",
    "    markers=True,\n",
    "    labels={\n",
    "        \"Ht\": \"Ht (T)\",\n",
    "        \"chi_mean\": \"Susceptibility χ\",\n",
    "        \"gamma\": \"Gamma\",\n",
    "    },\n",
    "    title=\"Susceptibility χ vs Ht for different Γ (gamma)\",\n",
    "    template=\"plotly_white\"\n",
    ")\n",
    "\n",
    "\n",
    "fig_no_relax.show()"
   ],
   "id": "929e8f35300c2e72"
  },
  {
   "metadata": {
    "ExecuteTime": {
     "end_time": "2025-07-24T04:47:58.192872Z",
     "start_time": "2025-07-24T04:47:58.119653Z"
    }
   },
   "cell_type": "code",
   "source": [
    "import plotly.graph_objects as go\n",
    "\n",
    "# Create a new figure\n",
    "fig = go.Figure()\n",
    "\n",
    "# --- Plot relaxed data ---\n",
    "for gamma, df_group in df_avg_relaxed.groupby(\"gamma\"):\n",
    "    fig.add_trace(\n",
    "        go.Scatter(\n",
    "            x=df_group[\"Ht\"],\n",
    "            y=df_group[\"chi_mean\"],\n",
    "            error_y=dict(type=\"data\", array=df_group[\"chi_std\"]),\n",
    "            mode=\"lines+markers\",\n",
    "            name=f\"Relaxed γ={gamma}\",\n",
    "            line=dict(dash=\"solid\"),\n",
    "            marker=dict(symbol=\"circle\"),\n",
    "        )\n",
    "    )\n",
    "\n",
    "# --- Plot Ht before relaxation data ---\n",
    "for gamma, df_group in df_avg_no_relax.groupby(\"gamma\"):\n",
    "    fig.add_trace(\n",
    "        go.Scatter(\n",
    "            x=df_group[\"Ht\"],\n",
    "            y=df_group[\"chi_mean\"],\n",
    "            error_y=dict(type=\"data\", array=df_group[\"chi_std\"]),\n",
    "            mode=\"lines+markers\",\n",
    "            name=f\"Relaxed γ={gamma}\",\n",
    "            line=dict(dash=\"solid\"),\n",
    "            marker=dict(symbol=\"circle\"),\n",
    "        )\n",
    "    )\n",
    "\n",
    "# --- Plot sweep data (with direction) ---\n",
    "for (direction, gamma), df_group in df_avg.groupby([\"direction\", \"gamma\"]):\n",
    "    fig.add_trace(\n",
    "        go.Scatter(\n",
    "            x=df_group[\"Ht\"],\n",
    "            y=df_group[\"chi_mean\"],\n",
    "            error_y=dict(type=\"data\", array=df_group[\"chi_std\"]),\n",
    "            mode=\"lines+markers\",\n",
    "            name=f\"{direction} γ={gamma}\",\n",
    "            line=dict(dash=\"solid\"),\n",
    "            marker=dict(symbol=\"square\"),\n",
    "        )\n",
    "    )\n",
    "\n",
    "# Final layout\n",
    "fig.update_layout(\n",
    "    title=\"Susceptibility χ vs Ht (Relaxed and Sweeps)\",\n",
    "    xaxis_title=\"Ht (T)\",\n",
    "    yaxis_title=\"Susceptibility χ\",\n",
    "    template=\"plotly_white\",\n",
    "    legend_title=\"Dataset\",\n",
    ")\n",
    "\n",
    "fig.write_html(path+'susceptibility.html')\n"
   ],
   "id": "21cfee594e9f0d65",
   "outputs": [],
   "execution_count": 48
  },
  {
   "metadata": {
    "ExecuteTime": {
     "end_time": "2025-07-24T04:48:04.179373Z",
     "start_time": "2025-07-24T04:48:04.166159Z"
    }
   },
   "cell_type": "code",
   "source": "fig.show()",
   "id": "ce05afdcf4d7f1a7",
   "outputs": [
    {
     "data": {
      "application/vnd.plotly.v1+json": {
       "data": [
        {
         "error_y": {
          "array": {
           "dtype": "f8",
           "bdata": "HpSUnp+Qcz8+Aa9cjLl0PwYCzMTPCXQ/hZzzdMBDdD+KluFRXmJ1P1yjugV6Z3M/aUuqj610cz8xTs3EWntzPxUDPpLQKXM/8NyBNOlLcz/J7UyGtdNyPyIIeP4I4HM/c77BbEWecz8BVLxmq5R0P9uJLSnGnnM/KIlomTAedD8sx45uI5hzP9yCgo+vlnM/CIoDbvNKcz8xvd8NulVzP3x0nKle+XI/eF2NzrDXcz9WZD8HTxRyP+i8+DufsGY/Te+eZZjXdD+DEkF0uRt0P7S421ZwsXM/0Ax7qdkKdT8/U9JdJrt0P27AUj4vnHM/mL3ZG3qTcz/F0zOdm6xyP5+WthOIcXM/HxtFxjtncj/yjTMVHZ5yP7UCahUCKnI/t2vhE3T2cD8Of97pjpdwP1tpQOettXA/7q61eaQGcD8/MWVJ8yBvP82/4Jp6MG4/zzBfoaOFbD8M1wy2wDFsP3C6AyYk2Go/Lavf8reaaj8="
          },
          "type": "data"
         },
         "line": {
          "dash": "solid"
         },
         "marker": {
          "symbol": "circle"
         },
         "mode": "lines+markers",
         "name": "Relaxed γ=0.0001",
         "x": {
          "dtype": "f8",
          "bdata": "AAAAAAAAAICamZmZmZm5P5qZmZmZmck/MzMzMzMz0z+amZmZmZnZPwAAAAAAAOA/MzMzMzMz4z9mZmZmZmbmP5qZmZmZmek/zczMzMzM7D8AAAAAAADwP5qZmZmZmfE/MzMzMzMz8z/NzMzMzMz0P2ZmZmZmZvY/AAAAAAAA+D+amZmZmZn5PzMzMzMzM/s/zczMzMzM/D9mZmZmZmb+PwAAAAAAAABAzczMzMzMAECamZmZmZkBQGZmZmZmZgJAMzMzMzMzA0AAAAAAAAAEQM3MzMzMzARAmpmZmZmZBUBmZmZmZmYGQDMzMzMzMwdAAAAAAAAACEDNzMzMzMwIQJqZmZmZmQlAZmZmZmZmCkAzMzMzMzMLQAAAAAAAAAxAzczMzMzMDECamZmZmZkNQGZmZmZmZg5AMzMzMzMzD0AAAAAAAAAQQGZmZmZmZhBAzczMzMzMEEAzMzMzMzMRQJqZmZmZmRFAAAAAAAAAEkA="
         },
         "y": {
          "dtype": "f8",
          "bdata": "AIDqgYCM1z9VpWq+HmvXP1W9bpto89c/1SqgnTWd1z8A4GHtuHHXPwB4NvOeLNc/q9oIos6W2D9V1Vz/vz7YP6vUAGq+3dc/VWWqJGhe2D9VnaZWih7YPwD8LT6jvdg/qwq2P7k92T8AEB3/ZLnZPwAAqqhC69k/q6pVginh2T+r6rQor+HaP6sKok0A0to/VTUdesjl2j9VKV5hlq7bP6vqb/ETWtw/VQETG+Ql3T9VRR5RM8vdP1WVjLZKqN0/VWV4xFhA4D+rathOq5bgP6vy1qO5DOE/1Yjb4B1w4T8AkESd1XbhP1W1RfnQDeI/AMCvsUQn4j8A+NUpL1ziPwBIcdyzh+I/VeWCImnr4j8AHKzF5hLjP6tqMTp82+I/VcUou1bs4j8AZLqUyuviPwBg77BbB+M/AF4Zdb/m4j+r4k9Tn6riP1UF2e70ceI/AOd4vJs+4j+rOuh7ZS/iPwDQMIl57eE/K3lbOPO54T8="
         },
         "type": "scatter"
        },
        {
         "error_y": {
          "array": {
           "dtype": "f8",
           "bdata": "HjW5kpAedz/YgWLbglB3P/+XafPGlXg/UWVsbfrQdT+owcgvyzZ2P3nJrSiX7XY/+r28PXwwdj+7EjQM/CR4P3Vy/VkW4nY/w7JpGLpNdz/Gw1BOB5d4Pxg4E1d5Anc/ommZyFEWdj9BkWVM4Vd3P4CXe0NXHXc/rAcGmFKTdz/w+LOO2MF2P+m6RoW+/nc/f09o+9Zodz9K+09nh9x4P9faWi1J9nY/fm2vkCPDeD/B0qX4gcp3Px2F1r4E7Xg/nMA0Eb6AeD9VOjLH9mJ3P+ntrGujlnc/umhtvlszdj8PUWqRZBF2P9Ik3mK7+nc//Yxsb1whdj/OFya7N+B1Pw7NJ6OZWXY/UBhpLbMEdj9MD24nU/p0P4htwZ8GD3Q/UZuExaxfdD99nomPwLFzPwqOfM7rBHM/CAaCPxRVcj+IVJLpwvZwP+qF/1bVrHA/ZSdpAty7cD9jm1VmUu1wPwyH4VpNsm4/jioDBpuZcD8="
          },
          "type": "data"
         },
         "line": {
          "dash": "solid"
         },
         "marker": {
          "symbol": "square"
         },
         "mode": "lines+markers",
         "name": "down γ=0.0001",
         "x": {
          "dtype": "f8",
          "bdata": "AAAAAAAAAACamZmZmZm5P5qZmZmZmck/MzMzMzMz0z+amZmZmZnZPwAAAAAAAOA/MzMzMzMz4z9mZmZmZmbmP5qZmZmZmek/zczMzMzM7D8AAAAAAADwP5qZmZmZmfE/MzMzMzMz8z/NzMzMzMz0P2ZmZmZmZvY/AAAAAAAA+D+amZmZmZn5PzMzMzMzM/s/zczMzMzM/D9mZmZmZmb+PwAAAAAAAABAzczMzMzMAECamZmZmZkBQGZmZmZmZgJAMzMzMzMzA0AAAAAAAAAEQM3MzMzMzARAmpmZmZmZBUBmZmZmZmYGQDMzMzMzMwdAAAAAAAAACEDNzMzMzMwIQJqZmZmZmQlAZmZmZmZmCkAzMzMzMzMLQAAAAAAAAAxAzczMzMzMDECamZmZmZkNQGZmZmZmZg5AMzMzMzMzD0AAAAAAAAAQQGZmZmZmZhBAzczMzMzMEEAzMzMzMzMRQJqZmZmZmRFAAAAAAAAAEkA="
         },
         "y": {
          "dtype": "f8",
          "bdata": "VVXyOhf71z+OI0x40JLXP+S42PvM3dc/AODPuT+h1z+O4wRJaPfXP+R4FH19/dc/jmOPQD202D8AgHLABGDYP8cxu1Q+Tdg/q6qtaMDU2D8AwLQ2hqnZPzkO3aH7gdk/5HjjuL7I2T9yHIrBEIvaP1VVFK7CG9s/qy72UuSG2z85jg8V9o7bP6sqHZlQKNw/jsObFZ7w3D+O49qDCQndP8dxIhj6cd4/5DimMltl3z85jtnnNv/ePwAAVmKMEuA/5Dgsz+8L4D85jmISC3TgP44Dt3DaBOE/ctzmC8Ui4T8AwFBc/L7hPzoOXY69q+E/qxon+6Ac4j+rqg0iqGHiP+SVRrotvOI/VVXUAGqr4j86YqA80P7iP4/jULcwGeM/chwXd5cH4z8dR5HdJsbiP1Zlmbcm7uI/VRV9d5QK4z+rqm49qMPiP4+7DI4t0eI/jmOWoP5Q4j85zqx9bT7iP+T4NZOC5+E/5NhrNKZ/4T8="
         },
         "type": "scatter"
        },
        {
         "error_y": {
          "array": {
           "dtype": "f8",
           "bdata": "HjW5kpAedz+bPQtRoeJ2P9HPkyQvjnQ/pc2BiVB+dT+/Gy2/KJ11Pw5ga1wNOXY/tRLcsDvddT+8CqsRuDl1P1xG2kzrMXY/q/s7tQqDdT/WVV9gBsN2PxOA47UekHY/Rcx2aJuZdj9r4DQvOVl1Px62TlUcoHU/FOh6RIAAdj+JJ8kAaFp1P+J28+EosHU/SmhGEm0Ndj8mUXsxAbl0P7HQQWwLXXY/tHWyu6ThdT+JxU4kEA51P3dGW1wlHnc/b453bVhgdj9Qm9GrpiZ3P01/Hm0/E3Y/OzcyuL4KdD/+ADDai/t0P6+V6WzmmHU/+Et0GGjndT+UQsm4G6Z1P/76VjYLKXU/N+5rooTpcz8rRrSKPihzP8T5hCtpYHQ/QJXcHQ2Tcz9lYaImtppzP5uwjusmkXI/O6b7a/Fqcj+NaHqymU5xPwmjkfkuV3A/TN0UaiMmcD/2SgVSneluP/Jau3zwbm4/KEse2DsPbj8="
          },
          "type": "data"
         },
         "line": {
          "dash": "solid"
         },
         "marker": {
          "symbol": "square"
         },
         "mode": "lines+markers",
         "name": "up γ=0.0001",
         "x": {
          "dtype": "f8",
          "bdata": "AAAAAAAAAACamZmZmZm5P5qZmZmZmck/MzMzMzMz0z+amZmZmZnZPwAAAAAAAOA/MzMzMzMz4z9mZmZmZmbmP5qZmZmZmek/zczMzMzM7D8AAAAAAADwP5qZmZmZmfE/MzMzMzMz8z/NzMzMzMz0P2ZmZmZmZvY/AAAAAAAA+D+amZmZmZn5PzMzMzMzM/s/zczMzMzM/D9mZmZmZmb+PwAAAAAAAABAzczMzMzMAECamZmZmZkBQGZmZmZmZgJAMzMzMzMzA0AAAAAAAAAEQM3MzMzMzARAmpmZmZmZBUBmZmZmZmYGQDMzMzMzMwdAAAAAAAAACEDNzMzMzMwIQJqZmZmZmQlAZmZmZmZmCkAzMzMzMzMLQAAAAAAAAAxAzczMzMzMDECamZmZmZkNQGZmZmZmZg5AMzMzMzMzD0AAAAAAAAAQQGZmZmZmZhBAzczMzMzMEEAzMzMzMzMRQJqZmZmZmRFAAAAAAAAAEkA="
         },
         "y": {
          "dtype": "f8",
          "bdata": "VVXyOhf71z/HcUrFnZ/XP47jcdXZ6dY/jkMl2Acr1z/HEUwkc9PWP+R4OEcRmNY/q2owuEnz1j85DjCbNwDXPzkaFu1r5dY/x3GPFw3G1j8cB9g/29nXP6v6p1175tc/q96htfPZ1z+rqoVP1EnYP8fxXHoPQNk/jmN3qlxg2T9VVWOP0MrZP6uqvhbtf9o/ctxssUQg2z+ruu3lHgfbPxxHQefjI9w/x3HzewOp3D85DtUFy27dP8dhE7A3Fd4/VVV9nAvt3j/HMXgEpL/fP+S498g4B+A/x/HB1NhT4D/H0aL+3WbgPznuEBbIHeE/x4HCEMg/4T/Hkd8KU57hP1U3iQpnAOI/HGeCJTL84T9WRXfxtVriPzmqEZJdfeI/ctwVykFi4j8cx8eWKIbiP8ixEtCpneI/j5v1oB2Q4j8c14AxY2jiP+S48MBmQuI/OaZkeoPU4T8cB8JqtNjhP6sK9rpTh+E/AEAgSKpQ4T8="
         },
         "type": "scatter"
        }
       ],
       "layout": {
        "template": {
         "data": {
          "barpolar": [
           {
            "marker": {
             "line": {
              "color": "white",
              "width": 0.5
             },
             "pattern": {
              "fillmode": "overlay",
              "size": 10,
              "solidity": 0.2
             }
            },
            "type": "barpolar"
           }
          ],
          "bar": [
           {
            "error_x": {
             "color": "#2a3f5f"
            },
            "error_y": {
             "color": "#2a3f5f"
            },
            "marker": {
             "line": {
              "color": "white",
              "width": 0.5
             },
             "pattern": {
              "fillmode": "overlay",
              "size": 10,
              "solidity": 0.2
             }
            },
            "type": "bar"
           }
          ],
          "carpet": [
           {
            "aaxis": {
             "endlinecolor": "#2a3f5f",
             "gridcolor": "#C8D4E3",
             "linecolor": "#C8D4E3",
             "minorgridcolor": "#C8D4E3",
             "startlinecolor": "#2a3f5f"
            },
            "baxis": {
             "endlinecolor": "#2a3f5f",
             "gridcolor": "#C8D4E3",
             "linecolor": "#C8D4E3",
             "minorgridcolor": "#C8D4E3",
             "startlinecolor": "#2a3f5f"
            },
            "type": "carpet"
           }
          ],
          "choropleth": [
           {
            "colorbar": {
             "outlinewidth": 0,
             "ticks": ""
            },
            "type": "choropleth"
           }
          ],
          "contourcarpet": [
           {
            "colorbar": {
             "outlinewidth": 0,
             "ticks": ""
            },
            "type": "contourcarpet"
           }
          ],
          "contour": [
           {
            "colorbar": {
             "outlinewidth": 0,
             "ticks": ""
            },
            "colorscale": [
             [
              0.0,
              "#0d0887"
             ],
             [
              0.1111111111111111,
              "#46039f"
             ],
             [
              0.2222222222222222,
              "#7201a8"
             ],
             [
              0.3333333333333333,
              "#9c179e"
             ],
             [
              0.4444444444444444,
              "#bd3786"
             ],
             [
              0.5555555555555556,
              "#d8576b"
             ],
             [
              0.6666666666666666,
              "#ed7953"
             ],
             [
              0.7777777777777778,
              "#fb9f3a"
             ],
             [
              0.8888888888888888,
              "#fdca26"
             ],
             [
              1.0,
              "#f0f921"
             ]
            ],
            "type": "contour"
           }
          ],
          "heatmap": [
           {
            "colorbar": {
             "outlinewidth": 0,
             "ticks": ""
            },
            "colorscale": [
             [
              0.0,
              "#0d0887"
             ],
             [
              0.1111111111111111,
              "#46039f"
             ],
             [
              0.2222222222222222,
              "#7201a8"
             ],
             [
              0.3333333333333333,
              "#9c179e"
             ],
             [
              0.4444444444444444,
              "#bd3786"
             ],
             [
              0.5555555555555556,
              "#d8576b"
             ],
             [
              0.6666666666666666,
              "#ed7953"
             ],
             [
              0.7777777777777778,
              "#fb9f3a"
             ],
             [
              0.8888888888888888,
              "#fdca26"
             ],
             [
              1.0,
              "#f0f921"
             ]
            ],
            "type": "heatmap"
           }
          ],
          "histogram2dcontour": [
           {
            "colorbar": {
             "outlinewidth": 0,
             "ticks": ""
            },
            "colorscale": [
             [
              0.0,
              "#0d0887"
             ],
             [
              0.1111111111111111,
              "#46039f"
             ],
             [
              0.2222222222222222,
              "#7201a8"
             ],
             [
              0.3333333333333333,
              "#9c179e"
             ],
             [
              0.4444444444444444,
              "#bd3786"
             ],
             [
              0.5555555555555556,
              "#d8576b"
             ],
             [
              0.6666666666666666,
              "#ed7953"
             ],
             [
              0.7777777777777778,
              "#fb9f3a"
             ],
             [
              0.8888888888888888,
              "#fdca26"
             ],
             [
              1.0,
              "#f0f921"
             ]
            ],
            "type": "histogram2dcontour"
           }
          ],
          "histogram2d": [
           {
            "colorbar": {
             "outlinewidth": 0,
             "ticks": ""
            },
            "colorscale": [
             [
              0.0,
              "#0d0887"
             ],
             [
              0.1111111111111111,
              "#46039f"
             ],
             [
              0.2222222222222222,
              "#7201a8"
             ],
             [
              0.3333333333333333,
              "#9c179e"
             ],
             [
              0.4444444444444444,
              "#bd3786"
             ],
             [
              0.5555555555555556,
              "#d8576b"
             ],
             [
              0.6666666666666666,
              "#ed7953"
             ],
             [
              0.7777777777777778,
              "#fb9f3a"
             ],
             [
              0.8888888888888888,
              "#fdca26"
             ],
             [
              1.0,
              "#f0f921"
             ]
            ],
            "type": "histogram2d"
           }
          ],
          "histogram": [
           {
            "marker": {
             "pattern": {
              "fillmode": "overlay",
              "size": 10,
              "solidity": 0.2
             }
            },
            "type": "histogram"
           }
          ],
          "mesh3d": [
           {
            "colorbar": {
             "outlinewidth": 0,
             "ticks": ""
            },
            "type": "mesh3d"
           }
          ],
          "parcoords": [
           {
            "line": {
             "colorbar": {
              "outlinewidth": 0,
              "ticks": ""
             }
            },
            "type": "parcoords"
           }
          ],
          "pie": [
           {
            "automargin": true,
            "type": "pie"
           }
          ],
          "scatter3d": [
           {
            "line": {
             "colorbar": {
              "outlinewidth": 0,
              "ticks": ""
             }
            },
            "marker": {
             "colorbar": {
              "outlinewidth": 0,
              "ticks": ""
             }
            },
            "type": "scatter3d"
           }
          ],
          "scattercarpet": [
           {
            "marker": {
             "colorbar": {
              "outlinewidth": 0,
              "ticks": ""
             }
            },
            "type": "scattercarpet"
           }
          ],
          "scattergeo": [
           {
            "marker": {
             "colorbar": {
              "outlinewidth": 0,
              "ticks": ""
             }
            },
            "type": "scattergeo"
           }
          ],
          "scattergl": [
           {
            "marker": {
             "colorbar": {
              "outlinewidth": 0,
              "ticks": ""
             }
            },
            "type": "scattergl"
           }
          ],
          "scattermapbox": [
           {
            "marker": {
             "colorbar": {
              "outlinewidth": 0,
              "ticks": ""
             }
            },
            "type": "scattermapbox"
           }
          ],
          "scattermap": [
           {
            "marker": {
             "colorbar": {
              "outlinewidth": 0,
              "ticks": ""
             }
            },
            "type": "scattermap"
           }
          ],
          "scatterpolargl": [
           {
            "marker": {
             "colorbar": {
              "outlinewidth": 0,
              "ticks": ""
             }
            },
            "type": "scatterpolargl"
           }
          ],
          "scatterpolar": [
           {
            "marker": {
             "colorbar": {
              "outlinewidth": 0,
              "ticks": ""
             }
            },
            "type": "scatterpolar"
           }
          ],
          "scatter": [
           {
            "fillpattern": {
             "fillmode": "overlay",
             "size": 10,
             "solidity": 0.2
            },
            "type": "scatter"
           }
          ],
          "scatterternary": [
           {
            "marker": {
             "colorbar": {
              "outlinewidth": 0,
              "ticks": ""
             }
            },
            "type": "scatterternary"
           }
          ],
          "surface": [
           {
            "colorbar": {
             "outlinewidth": 0,
             "ticks": ""
            },
            "colorscale": [
             [
              0.0,
              "#0d0887"
             ],
             [
              0.1111111111111111,
              "#46039f"
             ],
             [
              0.2222222222222222,
              "#7201a8"
             ],
             [
              0.3333333333333333,
              "#9c179e"
             ],
             [
              0.4444444444444444,
              "#bd3786"
             ],
             [
              0.5555555555555556,
              "#d8576b"
             ],
             [
              0.6666666666666666,
              "#ed7953"
             ],
             [
              0.7777777777777778,
              "#fb9f3a"
             ],
             [
              0.8888888888888888,
              "#fdca26"
             ],
             [
              1.0,
              "#f0f921"
             ]
            ],
            "type": "surface"
           }
          ],
          "table": [
           {
            "cells": {
             "fill": {
              "color": "#EBF0F8"
             },
             "line": {
              "color": "white"
             }
            },
            "header": {
             "fill": {
              "color": "#C8D4E3"
             },
             "line": {
              "color": "white"
             }
            },
            "type": "table"
           }
          ]
         },
         "layout": {
          "annotationdefaults": {
           "arrowcolor": "#2a3f5f",
           "arrowhead": 0,
           "arrowwidth": 1
          },
          "autotypenumbers": "strict",
          "coloraxis": {
           "colorbar": {
            "outlinewidth": 0,
            "ticks": ""
           }
          },
          "colorscale": {
           "diverging": [
            [
             0,
             "#8e0152"
            ],
            [
             0.1,
             "#c51b7d"
            ],
            [
             0.2,
             "#de77ae"
            ],
            [
             0.3,
             "#f1b6da"
            ],
            [
             0.4,
             "#fde0ef"
            ],
            [
             0.5,
             "#f7f7f7"
            ],
            [
             0.6,
             "#e6f5d0"
            ],
            [
             0.7,
             "#b8e186"
            ],
            [
             0.8,
             "#7fbc41"
            ],
            [
             0.9,
             "#4d9221"
            ],
            [
             1,
             "#276419"
            ]
           ],
           "sequential": [
            [
             0.0,
             "#0d0887"
            ],
            [
             0.1111111111111111,
             "#46039f"
            ],
            [
             0.2222222222222222,
             "#7201a8"
            ],
            [
             0.3333333333333333,
             "#9c179e"
            ],
            [
             0.4444444444444444,
             "#bd3786"
            ],
            [
             0.5555555555555556,
             "#d8576b"
            ],
            [
             0.6666666666666666,
             "#ed7953"
            ],
            [
             0.7777777777777778,
             "#fb9f3a"
            ],
            [
             0.8888888888888888,
             "#fdca26"
            ],
            [
             1.0,
             "#f0f921"
            ]
           ],
           "sequentialminus": [
            [
             0.0,
             "#0d0887"
            ],
            [
             0.1111111111111111,
             "#46039f"
            ],
            [
             0.2222222222222222,
             "#7201a8"
            ],
            [
             0.3333333333333333,
             "#9c179e"
            ],
            [
             0.4444444444444444,
             "#bd3786"
            ],
            [
             0.5555555555555556,
             "#d8576b"
            ],
            [
             0.6666666666666666,
             "#ed7953"
            ],
            [
             0.7777777777777778,
             "#fb9f3a"
            ],
            [
             0.8888888888888888,
             "#fdca26"
            ],
            [
             1.0,
             "#f0f921"
            ]
           ]
          },
          "colorway": [
           "#636efa",
           "#EF553B",
           "#00cc96",
           "#ab63fa",
           "#FFA15A",
           "#19d3f3",
           "#FF6692",
           "#B6E880",
           "#FF97FF",
           "#FECB52"
          ],
          "font": {
           "color": "#2a3f5f"
          },
          "geo": {
           "bgcolor": "white",
           "lakecolor": "white",
           "landcolor": "white",
           "showlakes": true,
           "showland": true,
           "subunitcolor": "#C8D4E3"
          },
          "hoverlabel": {
           "align": "left"
          },
          "hovermode": "closest",
          "mapbox": {
           "style": "light"
          },
          "paper_bgcolor": "white",
          "plot_bgcolor": "white",
          "polar": {
           "angularaxis": {
            "gridcolor": "#EBF0F8",
            "linecolor": "#EBF0F8",
            "ticks": ""
           },
           "bgcolor": "white",
           "radialaxis": {
            "gridcolor": "#EBF0F8",
            "linecolor": "#EBF0F8",
            "ticks": ""
           }
          },
          "scene": {
           "xaxis": {
            "backgroundcolor": "white",
            "gridcolor": "#DFE8F3",
            "gridwidth": 2,
            "linecolor": "#EBF0F8",
            "showbackground": true,
            "ticks": "",
            "zerolinecolor": "#EBF0F8"
           },
           "yaxis": {
            "backgroundcolor": "white",
            "gridcolor": "#DFE8F3",
            "gridwidth": 2,
            "linecolor": "#EBF0F8",
            "showbackground": true,
            "ticks": "",
            "zerolinecolor": "#EBF0F8"
           },
           "zaxis": {
            "backgroundcolor": "white",
            "gridcolor": "#DFE8F3",
            "gridwidth": 2,
            "linecolor": "#EBF0F8",
            "showbackground": true,
            "ticks": "",
            "zerolinecolor": "#EBF0F8"
           }
          },
          "shapedefaults": {
           "line": {
            "color": "#2a3f5f"
           }
          },
          "ternary": {
           "aaxis": {
            "gridcolor": "#DFE8F3",
            "linecolor": "#A2B1C6",
            "ticks": ""
           },
           "baxis": {
            "gridcolor": "#DFE8F3",
            "linecolor": "#A2B1C6",
            "ticks": ""
           },
           "bgcolor": "white",
           "caxis": {
            "gridcolor": "#DFE8F3",
            "linecolor": "#A2B1C6",
            "ticks": ""
           }
          },
          "title": {
           "x": 0.05
          },
          "xaxis": {
           "automargin": true,
           "gridcolor": "#EBF0F8",
           "linecolor": "#EBF0F8",
           "ticks": "",
           "title": {
            "standoff": 15
           },
           "zerolinecolor": "#EBF0F8",
           "zerolinewidth": 2
          },
          "yaxis": {
           "automargin": true,
           "gridcolor": "#EBF0F8",
           "linecolor": "#EBF0F8",
           "ticks": "",
           "title": {
            "standoff": 15
           },
           "zerolinecolor": "#EBF0F8",
           "zerolinewidth": 2
          }
         }
        },
        "title": {
         "text": "Susceptibility χ vs Ht (Relaxed and Sweeps)"
        },
        "xaxis": {
         "title": {
          "text": "Ht (T)"
         }
        },
        "yaxis": {
         "title": {
          "text": "Susceptibility χ"
         }
        },
        "legend": {
         "title": {
          "text": "Dataset"
         }
        }
       },
       "config": {
        "plotlyServerURL": "https://plot.ly"
       }
      }
     },
     "metadata": {},
     "output_type": "display_data"
    }
   ],
   "execution_count": 49
  },
  {
   "metadata": {
    "ExecuteTime": {
     "end_time": "2025-07-24T21:55:01.322192Z",
     "start_time": "2025-07-24T21:55:01.266150Z"
    }
   },
   "cell_type": "code",
   "source": [
    "dim = 10\n",
    "import os\n",
    "import numpy as np\n",
    "fn = \"dipolar_arr\"\n",
    "prefix = \"DDI_exp_14_G0p00005_Ht10p0\"\n",
    "\n",
    "base_path = f\"dipolar_interaction_matrices_reordered/{dim}_{dim}_{dim}/\"\n",
    "DDI_interaction_x = np.load(os.path.join(base_path, fn + \"_x.npy\"))"
   ],
   "id": "624d09869fa3db1b",
   "outputs": [],
   "execution_count": 7
  },
  {
   "metadata": {
    "ExecuteTime": {
     "end_time": "2025-07-24T21:55:02.502866Z",
     "start_time": "2025-07-24T21:55:02.496588Z"
    }
   },
   "cell_type": "code",
   "source": [
    "# Temporarily set print options to show full array\n",
    "np.set_printoptions(threshold=100)\n",
    "\n",
    "print(DDI_interaction_x)\n",
    "\n",
    "# (Optional) Reset after if you want default behavior\n",
    "np.set_printoptions(threshold=1000)\n"
   ],
   "id": "9d790f700000bdfc",
   "outputs": [
    {
     "name": "stdout",
     "output_type": "stream",
     "text": [
      "[[-9.17551347e+01 -2.29204738e+02  8.61675890e-18 ...  2.91484002e+01\n",
      "   2.79119870e+01  2.84712149e+01]\n",
      " [-2.29204738e+02 -1.84383038e+03 -1.53967083e-18 ...  4.18325333e+01\n",
      "   2.84712149e+01  1.96556639e+01]\n",
      " [-1.24492789e-17 -1.53967083e-18 -1.84383038e+03 ...  2.84712149e+01\n",
      "   9.83685651e+00  6.35088572e+00]\n",
      " ...\n",
      " [ 4.03267000e+00  9.83685651e+00  2.84712149e+01 ... -1.84383038e+03\n",
      "  -1.53967083e-18  1.14580959e-17]\n",
      " [ 1.11782249e+01  2.84712149e+01  4.18325333e+01 ... -1.53967083e-18\n",
      "  -1.84383038e+03 -2.29204738e+02]\n",
      " [ 2.84712149e+01  8.29122471e+01  8.87257465e+01 ... -1.00785014e-17\n",
      "  -2.29204738e+02 -9.17551347e+01]]\n"
     ]
    }
   ],
   "execution_count": 8
  },
  {
   "metadata": {
    "ExecuteTime": {
     "end_time": "2025-07-24T21:58:41.841414Z",
     "start_time": "2025-07-24T21:58:41.335341Z"
    }
   },
   "cell_type": "code",
   "source": [
    "import numpy as np\n",
    "from scipy import sparse\n",
    "\n",
    "# Threshold\n",
    "threshold = 1e-4\n",
    "\n",
    "# Total number of entries\n",
    "total_entries = DDI_interaction_x.size\n",
    "\n",
    "# Count how many will be set to zero\n",
    "num_below_threshold = np.sum(np.abs(DDI_interaction_x) < threshold)\n",
    "\n",
    "# Create sparse matrix\n",
    "DDI_interaction_x_sparse = sparse.csr_matrix(np.where(\n",
    "    np.abs(DDI_interaction_x) < threshold, 0, DDI_interaction_x\n",
    "))\n",
    "\n",
    "# Percentage of entries set to 0\n",
    "percent_zeroed = 100 * num_below_threshold / total_entries\n",
    "\n",
    "# Percentage of entries remaining non-zero\n",
    "percent_nonzero = 100 * DDI_interaction_x_sparse.nnz / total_entries\n",
    "\n",
    "print(f\"Total entries: {total_entries}\")\n",
    "print(f\"Entries below threshold: {num_below_threshold} ({percent_zeroed:.2f}%)\")\n",
    "print(f\"Remaining non-zero entries: {DDI_interaction_x_sparse.nnz} ({percent_nonzero:.2f}%)\")"
   ],
   "id": "23b65f2ffe345630",
   "outputs": [
    {
     "name": "stdout",
     "output_type": "stream",
     "text": [
      "Total entries: 16000000\n",
      "Entries below threshold: 2240000 (14.00%)\n",
      "Remaining non-zero entries: 13760000 (86.00%)\n"
     ]
    }
   ],
   "execution_count": 14
  }
 ],
 "metadata": {
  "kernelspec": {
   "display_name": "Python 3",
   "language": "python",
   "name": "python3"
  },
  "language_info": {
   "codemirror_mode": {
    "name": "ipython",
    "version": 2
   },
   "file_extension": ".py",
   "mimetype": "text/x-python",
   "name": "python",
   "nbconvert_exporter": "python",
   "pygments_lexer": "ipython2",
   "version": "2.7.6"
  }
 },
 "nbformat": 4,
 "nbformat_minor": 5
}

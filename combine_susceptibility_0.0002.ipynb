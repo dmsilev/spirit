{
 "cells": [
  {
   "cell_type": "code",
   "id": "initial_id",
   "metadata": {
    "collapsed": true,
    "ExecuteTime": {
     "end_time": "2025-07-26T05:16:38.185479Z",
     "start_time": "2025-07-26T05:16:38.031584Z"
    }
   },
   "source": [
    "#Ref\n",
    "import pandas as pd\n",
    "import glob\n",
    "import numpy as np\n",
    "import plotly.express as px\n",
    "path = '/Users/jiakai/Desktop/SURF/code/_spirit/'\n",
    "n_cycles = 120\n",
    "\n",
    "\n",
    "# Pattern to match all relevant CSV files\n",
    "file_pattern = path + \"Susceptibility_multi_gammas_10_120_per_gamma_20_anisotropy_0.7_gamma_0.0002_ref*.csv\"\n",
    "\n",
    "# List all matching files\n",
    "csv_files = glob.glob(file_pattern)\n",
    "\n",
    "# Print how many files were found\n",
    "print(f\"Found {len(csv_files)} files.\")\n",
    "repeats = len(csv_files)\n",
    "\n",
    "for f in csv_files:\n",
    "    print(f)\n",
    "\n",
    "# Read and concatenate all files\n",
    "df_all = pd.concat([pd.read_csv(f) for f in csv_files], ignore_index=True)\n",
    "\n",
    "df_avg = (\n",
    "        df_all.groupby([\"gamma\", \"Ht\", \"direction\"], as_index=False)\n",
    "        .agg(\n",
    "            chi_mean=(\"chi\", \"mean\"),\n",
    "            chi_std=(\"chi\", lambda x: x.std(ddof=1) / np.sqrt(n_cycles*repeats))\n",
    "        )\n",
    "    )\n",
    "\n",
    "fig_ref = px.line(\n",
    "    df_avg,\n",
    "    x=\"Ht\",\n",
    "    y=\"chi_mean\",\n",
    "    error_y=\"chi_std\",\n",
    "    color=\"direction\",  # Different color for up/down\n",
    "    line_dash=\"gamma\",  # Optional: if you vary gamma too\n",
    "    markers=True,\n",
    "    labels={\n",
    "        \"Ht\": \"Ht (T)\",\n",
    "        \"chi_mean\": \"Susceptibility χ\",\n",
    "        \"direction\": \"Sweep Direction\",\n",
    "    },\n",
    "    title=\"Susceptibility χ vs Ht (sweep up vs down)\",\n",
    "    template=\"plotly_white\"\n",
    ")\n",
    "\n",
    "fig_ref.show()"
   ],
   "outputs": [
    {
     "name": "stdout",
     "output_type": "stream",
     "text": [
      "Found 3 files.\n",
      "/Users/jiakai/Desktop/SURF/code/_spirit/Susceptibility_multi_gammas_10_120_per_gamma_20_anisotropy_0.7_gamma_0.0002_ref_3.csv\n",
      "/Users/jiakai/Desktop/SURF/code/_spirit/Susceptibility_multi_gammas_10_120_per_gamma_20_anisotropy_0.7_gamma_0.0002_ref_2.csv\n",
      "/Users/jiakai/Desktop/SURF/code/_spirit/Susceptibility_multi_gammas_10_120_per_gamma_20_anisotropy_0.7_gamma_0.0002_ref_1.csv\n"
     ]
    },
    {
     "data": {
      "application/vnd.plotly.v1+json": {
       "data": [
        {
         "error_y": {
          "array": {
           "dtype": "f8",
           "bdata": "BEL7/qdffD971iL1JPx8P3mUycgYDn0/sCheepeFfT+Z6D3wsCR8PyeQGFTY1n0/fv1HfUxRfD+xxE6vUgZ9P7g8WgO2w3w/ApMCd71dfT8pjPm+ERt9P868OL3EvXs/b4PYAL0hfD8h/GuV/QZ8P9HLiF4YhXw/Ycahz4haez+j10LJCul6P6cBruyj53s/xtyXIzUwfT9kqayzA9h6PzFKBDarlXo/b488UsBOez8De8yTcGV8P3pTtMhMrHo/+AQQi0l/ez/+uBFdV2N6Pz0nqerqJXo/zdYbGqISez+JRnuuZgx4PwHdC+7PVnk/DuZFVQ5weD/UR8xIWv13P2IAHmXIJXc/l092vy+Edj9A5jSV9yN3Pw/WANDAFXc/J6hNnuZYdj+ZbHbk59B1P/Fc2netaXU/eSWs2WBJdD/pHPPOjt9xP/4ARPhq3XM/AvHfIqgXcj8IQWsMqsBwPymP5AHoLnE/pq/O+dXFcD8="
          }
         },
         "hovertemplate": "Sweep Direction=down<br>gamma=0.0002<br>Ht (T)=%{x}<br>Susceptibility χ=%{y}<extra></extra>",
         "legendgroup": "down, 0.0002",
         "line": {
          "color": "#636efa",
          "dash": "solid"
         },
         "marker": {
          "symbol": "circle"
         },
         "mode": "lines+markers",
         "name": "down, 0.0002",
         "orientation": "v",
         "showlegend": true,
         "x": {
          "dtype": "f8",
          "bdata": "AAAAAAAAAACamZmZmZm5P5qZmZmZmck/MzMzMzMz0z+amZmZmZnZPwAAAAAAAOA/MzMzMzMz4z9mZmZmZmbmP5qZmZmZmek/zczMzMzM7D8AAAAAAADwP5qZmZmZmfE/MzMzMzMz8z/NzMzMzMz0P2ZmZmZmZvY/AAAAAAAA+D+amZmZmZn5PzMzMzMzM/s/zczMzMzM/D9mZmZmZmb+PwAAAAAAAABAzczMzMzMAECamZmZmZkBQGZmZmZmZgJAMzMzMzMzA0AAAAAAAAAEQM3MzMzMzARAmpmZmZmZBUBmZmZmZmYGQDMzMzMzMwdAAAAAAAAACEDNzMzMzMwIQJqZmZmZmQlAZmZmZmZmCkAzMzMzMzMLQAAAAAAAAAxAzczMzMzMDECamZmZmZkNQGZmZmZmZg5AMzMzMzMzD0AAAAAAAAAQQGZmZmZmZhBAzczMzMzMEEAzMzMzMzMRQJqZmZmZmRFAAAAAAAAAEkA="
         },
         "xaxis": "x",
         "y": {
          "dtype": "f8",
          "bdata": "x3EEWi0g3j8cR4eiAOveP1VViw+JDt4/cpzQb1g63j/k+CJiiYveP8exfkuhud4/HEezk5ER3j9V1ZuZrwXgP3Kc/Mzbl98/q6qeBCBb3z+rqqpbPlvfP+RYMcKZKuA/AIAvIn8Y4D/HcY6IPoPgP+S4V3Ohvd8/Oc7fADR+4D85DgKMwG3gPzmO4x/xfeA/jpPe2W014T8cp2t1BL/gP6vqkh8sOuE/ctyC0tQo4T/keGxde4PhPxz3cXCZfeE/x6mOoZH54T+ramVYsDPiPzmOBuzbyeI/OY4o3X7G4j85DsgIDwLjP3L8eU42xeI/5BgycDfU4j8c52j1yEPjPwAgvEtEb+M/clz7Oz4k4z+PY1SF7D/jP49jwvDVXuM/Hccc3EVI4z8AAOPVKk3jPxwnhjpCCuM/q6oPz2un4j/HkavTqK/iPzlmcBVmSOI/OoZCXFs54j9V1Y6ZuuHhP+QY7JhUvuE/AACJTuuK4T8="
         },
         "yaxis": "y",
         "type": "scatter"
        },
        {
         "error_y": {
          "array": {
           "dtype": "f8",
           "bdata": "BEL7/qdffD8jJxoZF8p/P7Xf4bip0Hs/ezdW6FQqfT+WQnMqCWp/P1xd1ACnMH4/FxTlZI4/fD/BzYhQGdd9PyPp5Yi/dXs/J/9fdgMPfT9tRBfxuh97P1onYpaWH3w/XkZlIVPGfD+E7T2o8NV6P2Sf+Q3AYXw/YtQeae/ueT9tu/wax515P+zG6fFwpHs/4P3o1oCyez9c4zSvkE97P+Ef1JU1cXs/a/tTRKCreT/OkdKOa9t6P2I4kQqfu3k/lcBkNAKeeT+veXOoPSZ4PxdFIAurP3k/1k6w+OiKeD+vpw9RV5h2P4ZH0dfK3ng/2j4Il7V/dz90zL1a1Zt4PxMaXburUXY/kGDt9u2ldj+uCw+6UVl3P6CETLAU0nU/aUpWp6R0dT9eNsP5FPR0P5M9aizVS3M/YTGklOG4cz9KBl0dGOByPwL9NkNi7HE/HyLr6BGOcT/0GSI+Dd5wP20WrNrtC3A/ZZSzlGktcD8="
          }
         },
         "hovertemplate": "Sweep Direction=up<br>gamma=0.0002<br>Ht (T)=%{x}<br>Susceptibility χ=%{y}<extra></extra>",
         "legendgroup": "up, 0.0002",
         "line": {
          "color": "#EF553B",
          "dash": "solid"
         },
         "marker": {
          "symbol": "circle"
         },
         "mode": "lines+markers",
         "name": "up, 0.0002",
         "orientation": "v",
         "showlegend": true,
         "x": {
          "dtype": "f8",
          "bdata": "AAAAAAAAAACamZmZmZm5P5qZmZmZmck/MzMzMzMz0z+amZmZmZnZPwAAAAAAAOA/MzMzMzMz4z9mZmZmZmbmP5qZmZmZmek/zczMzMzM7D8AAAAAAADwP5qZmZmZmfE/MzMzMzMz8z/NzMzMzMz0P2ZmZmZmZvY/AAAAAAAA+D+amZmZmZn5PzMzMzMzM/s/zczMzMzM/D9mZmZmZmb+PwAAAAAAAABAzczMzMzMAECamZmZmZkBQGZmZmZmZgJAMzMzMzMzA0AAAAAAAAAEQM3MzMzMzARAmpmZmZmZBUBmZmZmZmYGQDMzMzMzMwdAAAAAAAAACEDNzMzMzMwIQJqZmZmZmQlAZmZmZmZmCkAzMzMzMzMLQAAAAAAAAAxAzczMzMzMDECamZmZmZkNQGZmZmZmZg5AMzMzMzMzD0AAAAAAAAAQQGZmZmZmZhBAzczMzMzMEEAzMzMzMzMRQJqZmZmZmRFAAAAAAAAAEkA="
         },
         "xaxis": "x",
         "y": {
          "dtype": "f8",
          "bdata": "x3EEWi0g3j85jiVcuCnfP46DKSxS7d0/x51N4gu23j+rKlmJKIfdP8dxsfUbkN0/jk9e/wh93T+OI4IdnaXdPwCAVdIyBt4/AABUM2cE3j8cx1CJGgneP8dxWk/ww90/qyoT/JK/3j/kOK+rOr/dP8expupQ694/HMez1X4G3z85bs2crejfP6uqasG4794/VdUYChgN4D+O40xYAUfgP3LcCf7mXeA/jqNDE6yN4D/kiHElWDnhPxxf+V4t5uA/5PihxfXs4D/keE17pIPhP1XVFvzrl+E/VZXs1EkG4j/k+CkVNTviP3J8N1hJ8eE/q6oLa+Zy4j/kWGG6Z1PiP46j9Q3eUOI/HUc+mHCv4j/HQVNk/vDiPwAAhTHf1OI/HG/qpRYY4z85znZYCOHiP1bl2DfnseI/clzhd7TI4j8BQNCPmrXiP1VVuoAaR+I/cpz9sS8S4j857gcVEZ7hP6t9o2G1ZOE/chxwD47N4D8="
         },
         "yaxis": "y",
         "type": "scatter"
        }
       ],
       "layout": {
        "template": {
         "data": {
          "barpolar": [
           {
            "marker": {
             "line": {
              "color": "white",
              "width": 0.5
             },
             "pattern": {
              "fillmode": "overlay",
              "size": 10,
              "solidity": 0.2
             }
            },
            "type": "barpolar"
           }
          ],
          "bar": [
           {
            "error_x": {
             "color": "#2a3f5f"
            },
            "error_y": {
             "color": "#2a3f5f"
            },
            "marker": {
             "line": {
              "color": "white",
              "width": 0.5
             },
             "pattern": {
              "fillmode": "overlay",
              "size": 10,
              "solidity": 0.2
             }
            },
            "type": "bar"
           }
          ],
          "carpet": [
           {
            "aaxis": {
             "endlinecolor": "#2a3f5f",
             "gridcolor": "#C8D4E3",
             "linecolor": "#C8D4E3",
             "minorgridcolor": "#C8D4E3",
             "startlinecolor": "#2a3f5f"
            },
            "baxis": {
             "endlinecolor": "#2a3f5f",
             "gridcolor": "#C8D4E3",
             "linecolor": "#C8D4E3",
             "minorgridcolor": "#C8D4E3",
             "startlinecolor": "#2a3f5f"
            },
            "type": "carpet"
           }
          ],
          "choropleth": [
           {
            "colorbar": {
             "outlinewidth": 0,
             "ticks": ""
            },
            "type": "choropleth"
           }
          ],
          "contourcarpet": [
           {
            "colorbar": {
             "outlinewidth": 0,
             "ticks": ""
            },
            "type": "contourcarpet"
           }
          ],
          "contour": [
           {
            "colorbar": {
             "outlinewidth": 0,
             "ticks": ""
            },
            "colorscale": [
             [
              0.0,
              "#0d0887"
             ],
             [
              0.1111111111111111,
              "#46039f"
             ],
             [
              0.2222222222222222,
              "#7201a8"
             ],
             [
              0.3333333333333333,
              "#9c179e"
             ],
             [
              0.4444444444444444,
              "#bd3786"
             ],
             [
              0.5555555555555556,
              "#d8576b"
             ],
             [
              0.6666666666666666,
              "#ed7953"
             ],
             [
              0.7777777777777778,
              "#fb9f3a"
             ],
             [
              0.8888888888888888,
              "#fdca26"
             ],
             [
              1.0,
              "#f0f921"
             ]
            ],
            "type": "contour"
           }
          ],
          "heatmap": [
           {
            "colorbar": {
             "outlinewidth": 0,
             "ticks": ""
            },
            "colorscale": [
             [
              0.0,
              "#0d0887"
             ],
             [
              0.1111111111111111,
              "#46039f"
             ],
             [
              0.2222222222222222,
              "#7201a8"
             ],
             [
              0.3333333333333333,
              "#9c179e"
             ],
             [
              0.4444444444444444,
              "#bd3786"
             ],
             [
              0.5555555555555556,
              "#d8576b"
             ],
             [
              0.6666666666666666,
              "#ed7953"
             ],
             [
              0.7777777777777778,
              "#fb9f3a"
             ],
             [
              0.8888888888888888,
              "#fdca26"
             ],
             [
              1.0,
              "#f0f921"
             ]
            ],
            "type": "heatmap"
           }
          ],
          "histogram2dcontour": [
           {
            "colorbar": {
             "outlinewidth": 0,
             "ticks": ""
            },
            "colorscale": [
             [
              0.0,
              "#0d0887"
             ],
             [
              0.1111111111111111,
              "#46039f"
             ],
             [
              0.2222222222222222,
              "#7201a8"
             ],
             [
              0.3333333333333333,
              "#9c179e"
             ],
             [
              0.4444444444444444,
              "#bd3786"
             ],
             [
              0.5555555555555556,
              "#d8576b"
             ],
             [
              0.6666666666666666,
              "#ed7953"
             ],
             [
              0.7777777777777778,
              "#fb9f3a"
             ],
             [
              0.8888888888888888,
              "#fdca26"
             ],
             [
              1.0,
              "#f0f921"
             ]
            ],
            "type": "histogram2dcontour"
           }
          ],
          "histogram2d": [
           {
            "colorbar": {
             "outlinewidth": 0,
             "ticks": ""
            },
            "colorscale": [
             [
              0.0,
              "#0d0887"
             ],
             [
              0.1111111111111111,
              "#46039f"
             ],
             [
              0.2222222222222222,
              "#7201a8"
             ],
             [
              0.3333333333333333,
              "#9c179e"
             ],
             [
              0.4444444444444444,
              "#bd3786"
             ],
             [
              0.5555555555555556,
              "#d8576b"
             ],
             [
              0.6666666666666666,
              "#ed7953"
             ],
             [
              0.7777777777777778,
              "#fb9f3a"
             ],
             [
              0.8888888888888888,
              "#fdca26"
             ],
             [
              1.0,
              "#f0f921"
             ]
            ],
            "type": "histogram2d"
           }
          ],
          "histogram": [
           {
            "marker": {
             "pattern": {
              "fillmode": "overlay",
              "size": 10,
              "solidity": 0.2
             }
            },
            "type": "histogram"
           }
          ],
          "mesh3d": [
           {
            "colorbar": {
             "outlinewidth": 0,
             "ticks": ""
            },
            "type": "mesh3d"
           }
          ],
          "parcoords": [
           {
            "line": {
             "colorbar": {
              "outlinewidth": 0,
              "ticks": ""
             }
            },
            "type": "parcoords"
           }
          ],
          "pie": [
           {
            "automargin": true,
            "type": "pie"
           }
          ],
          "scatter3d": [
           {
            "line": {
             "colorbar": {
              "outlinewidth": 0,
              "ticks": ""
             }
            },
            "marker": {
             "colorbar": {
              "outlinewidth": 0,
              "ticks": ""
             }
            },
            "type": "scatter3d"
           }
          ],
          "scattercarpet": [
           {
            "marker": {
             "colorbar": {
              "outlinewidth": 0,
              "ticks": ""
             }
            },
            "type": "scattercarpet"
           }
          ],
          "scattergeo": [
           {
            "marker": {
             "colorbar": {
              "outlinewidth": 0,
              "ticks": ""
             }
            },
            "type": "scattergeo"
           }
          ],
          "scattergl": [
           {
            "marker": {
             "colorbar": {
              "outlinewidth": 0,
              "ticks": ""
             }
            },
            "type": "scattergl"
           }
          ],
          "scattermapbox": [
           {
            "marker": {
             "colorbar": {
              "outlinewidth": 0,
              "ticks": ""
             }
            },
            "type": "scattermapbox"
           }
          ],
          "scattermap": [
           {
            "marker": {
             "colorbar": {
              "outlinewidth": 0,
              "ticks": ""
             }
            },
            "type": "scattermap"
           }
          ],
          "scatterpolargl": [
           {
            "marker": {
             "colorbar": {
              "outlinewidth": 0,
              "ticks": ""
             }
            },
            "type": "scatterpolargl"
           }
          ],
          "scatterpolar": [
           {
            "marker": {
             "colorbar": {
              "outlinewidth": 0,
              "ticks": ""
             }
            },
            "type": "scatterpolar"
           }
          ],
          "scatter": [
           {
            "fillpattern": {
             "fillmode": "overlay",
             "size": 10,
             "solidity": 0.2
            },
            "type": "scatter"
           }
          ],
          "scatterternary": [
           {
            "marker": {
             "colorbar": {
              "outlinewidth": 0,
              "ticks": ""
             }
            },
            "type": "scatterternary"
           }
          ],
          "surface": [
           {
            "colorbar": {
             "outlinewidth": 0,
             "ticks": ""
            },
            "colorscale": [
             [
              0.0,
              "#0d0887"
             ],
             [
              0.1111111111111111,
              "#46039f"
             ],
             [
              0.2222222222222222,
              "#7201a8"
             ],
             [
              0.3333333333333333,
              "#9c179e"
             ],
             [
              0.4444444444444444,
              "#bd3786"
             ],
             [
              0.5555555555555556,
              "#d8576b"
             ],
             [
              0.6666666666666666,
              "#ed7953"
             ],
             [
              0.7777777777777778,
              "#fb9f3a"
             ],
             [
              0.8888888888888888,
              "#fdca26"
             ],
             [
              1.0,
              "#f0f921"
             ]
            ],
            "type": "surface"
           }
          ],
          "table": [
           {
            "cells": {
             "fill": {
              "color": "#EBF0F8"
             },
             "line": {
              "color": "white"
             }
            },
            "header": {
             "fill": {
              "color": "#C8D4E3"
             },
             "line": {
              "color": "white"
             }
            },
            "type": "table"
           }
          ]
         },
         "layout": {
          "annotationdefaults": {
           "arrowcolor": "#2a3f5f",
           "arrowhead": 0,
           "arrowwidth": 1
          },
          "autotypenumbers": "strict",
          "coloraxis": {
           "colorbar": {
            "outlinewidth": 0,
            "ticks": ""
           }
          },
          "colorscale": {
           "diverging": [
            [
             0,
             "#8e0152"
            ],
            [
             0.1,
             "#c51b7d"
            ],
            [
             0.2,
             "#de77ae"
            ],
            [
             0.3,
             "#f1b6da"
            ],
            [
             0.4,
             "#fde0ef"
            ],
            [
             0.5,
             "#f7f7f7"
            ],
            [
             0.6,
             "#e6f5d0"
            ],
            [
             0.7,
             "#b8e186"
            ],
            [
             0.8,
             "#7fbc41"
            ],
            [
             0.9,
             "#4d9221"
            ],
            [
             1,
             "#276419"
            ]
           ],
           "sequential": [
            [
             0.0,
             "#0d0887"
            ],
            [
             0.1111111111111111,
             "#46039f"
            ],
            [
             0.2222222222222222,
             "#7201a8"
            ],
            [
             0.3333333333333333,
             "#9c179e"
            ],
            [
             0.4444444444444444,
             "#bd3786"
            ],
            [
             0.5555555555555556,
             "#d8576b"
            ],
            [
             0.6666666666666666,
             "#ed7953"
            ],
            [
             0.7777777777777778,
             "#fb9f3a"
            ],
            [
             0.8888888888888888,
             "#fdca26"
            ],
            [
             1.0,
             "#f0f921"
            ]
           ],
           "sequentialminus": [
            [
             0.0,
             "#0d0887"
            ],
            [
             0.1111111111111111,
             "#46039f"
            ],
            [
             0.2222222222222222,
             "#7201a8"
            ],
            [
             0.3333333333333333,
             "#9c179e"
            ],
            [
             0.4444444444444444,
             "#bd3786"
            ],
            [
             0.5555555555555556,
             "#d8576b"
            ],
            [
             0.6666666666666666,
             "#ed7953"
            ],
            [
             0.7777777777777778,
             "#fb9f3a"
            ],
            [
             0.8888888888888888,
             "#fdca26"
            ],
            [
             1.0,
             "#f0f921"
            ]
           ]
          },
          "colorway": [
           "#636efa",
           "#EF553B",
           "#00cc96",
           "#ab63fa",
           "#FFA15A",
           "#19d3f3",
           "#FF6692",
           "#B6E880",
           "#FF97FF",
           "#FECB52"
          ],
          "font": {
           "color": "#2a3f5f"
          },
          "geo": {
           "bgcolor": "white",
           "lakecolor": "white",
           "landcolor": "white",
           "showlakes": true,
           "showland": true,
           "subunitcolor": "#C8D4E3"
          },
          "hoverlabel": {
           "align": "left"
          },
          "hovermode": "closest",
          "mapbox": {
           "style": "light"
          },
          "paper_bgcolor": "white",
          "plot_bgcolor": "white",
          "polar": {
           "angularaxis": {
            "gridcolor": "#EBF0F8",
            "linecolor": "#EBF0F8",
            "ticks": ""
           },
           "bgcolor": "white",
           "radialaxis": {
            "gridcolor": "#EBF0F8",
            "linecolor": "#EBF0F8",
            "ticks": ""
           }
          },
          "scene": {
           "xaxis": {
            "backgroundcolor": "white",
            "gridcolor": "#DFE8F3",
            "gridwidth": 2,
            "linecolor": "#EBF0F8",
            "showbackground": true,
            "ticks": "",
            "zerolinecolor": "#EBF0F8"
           },
           "yaxis": {
            "backgroundcolor": "white",
            "gridcolor": "#DFE8F3",
            "gridwidth": 2,
            "linecolor": "#EBF0F8",
            "showbackground": true,
            "ticks": "",
            "zerolinecolor": "#EBF0F8"
           },
           "zaxis": {
            "backgroundcolor": "white",
            "gridcolor": "#DFE8F3",
            "gridwidth": 2,
            "linecolor": "#EBF0F8",
            "showbackground": true,
            "ticks": "",
            "zerolinecolor": "#EBF0F8"
           }
          },
          "shapedefaults": {
           "line": {
            "color": "#2a3f5f"
           }
          },
          "ternary": {
           "aaxis": {
            "gridcolor": "#DFE8F3",
            "linecolor": "#A2B1C6",
            "ticks": ""
           },
           "baxis": {
            "gridcolor": "#DFE8F3",
            "linecolor": "#A2B1C6",
            "ticks": ""
           },
           "bgcolor": "white",
           "caxis": {
            "gridcolor": "#DFE8F3",
            "linecolor": "#A2B1C6",
            "ticks": ""
           }
          },
          "title": {
           "x": 0.05
          },
          "xaxis": {
           "automargin": true,
           "gridcolor": "#EBF0F8",
           "linecolor": "#EBF0F8",
           "ticks": "",
           "title": {
            "standoff": 15
           },
           "zerolinecolor": "#EBF0F8",
           "zerolinewidth": 2
          },
          "yaxis": {
           "automargin": true,
           "gridcolor": "#EBF0F8",
           "linecolor": "#EBF0F8",
           "ticks": "",
           "title": {
            "standoff": 15
           },
           "zerolinecolor": "#EBF0F8",
           "zerolinewidth": 2
          }
         }
        },
        "xaxis": {
         "anchor": "y",
         "domain": [
          0.0,
          1.0
         ],
         "title": {
          "text": "Ht (T)"
         }
        },
        "yaxis": {
         "anchor": "x",
         "domain": [
          0.0,
          1.0
         ],
         "title": {
          "text": "Susceptibility χ"
         }
        },
        "legend": {
         "title": {
          "text": "Sweep Direction, gamma"
         },
         "tracegroupgap": 0
        },
        "title": {
         "text": "Susceptibility χ vs Ht (sweep up vs down)"
        }
       },
       "config": {
        "plotlyServerURL": "https://plot.ly"
       }
      }
     },
     "metadata": {},
     "output_type": "display_data"
    }
   ],
   "execution_count": 30
  },
  {
   "metadata": {
    "ExecuteTime": {
     "end_time": "2025-07-25T20:33:36.932294Z",
     "start_time": "2025-07-25T20:33:36.879731Z"
    }
   },
   "cell_type": "code",
   "source": [
    "#Relaxed\n",
    "import pandas as pd\n",
    "import glob\n",
    "import numpy as np\n",
    "import plotly.express as px\n",
    "path = '/Users/jiakai/Desktop/SURF/code/_spirit/'\n",
    "n_cycles = 240\n",
    "\n",
    "\n",
    "# Pattern to match all relevant CSV files\n",
    "file_pattern = path + \"Susceptibility_multi_gammas_10_240_per_gamma_20_anisotropy_0.7_relax_step_400_gammas_-5_relax_0.8_gamma_0.0002_relaxed*.csv\"\n",
    "\n",
    "# List all matching files\n",
    "csv_files = glob.glob(file_pattern)\n",
    "\n",
    "# Print how many files were found\n",
    "print(f\"Found {len(csv_files)} files.\")\n",
    "repeats = len(csv_files)\n",
    "for f in csv_files:\n",
    "    print(f)\n",
    "\n",
    "# Read and concatenate all files\n",
    "df_all_relaxed = pd.concat([pd.read_csv(f) for f in csv_files], ignore_index=True)\n",
    "\n",
    "# Average over cycles, std divided by sqrt(n_cycles)\n",
    "df_avg_relaxed = (\n",
    "    df_all_relaxed.groupby([\"gamma\", \"Ht\"], as_index=False)\n",
    "    .agg(\n",
    "        chi_mean=(\"chi\", \"mean\"),\n",
    "        chi_std=(\"chi\", lambda x: x.std(ddof=1) / np.sqrt(n_cycles*repeats))\n",
    "    )\n",
    ")\n",
    "\n",
    "# Plot\n",
    "fig_relaxed = px.line(\n",
    "    df_avg_relaxed,\n",
    "    x=\"Ht\",\n",
    "    y=\"chi_mean\",\n",
    "    error_y=\"chi_std\",\n",
    "    color=\"gamma\",  # Different color per gamma\n",
    "    markers=True,\n",
    "    labels={\n",
    "        \"Ht\": \"Ht (T)\",\n",
    "        \"chi_mean\": \"Susceptibility χ\",\n",
    "        \"gamma\": \"Gamma\",\n",
    "    },\n",
    "    title=\"Susceptibility χ vs Ht for different Γ (gamma)\",\n",
    "    template=\"plotly_white\"\n",
    ")\n",
    "\n",
    "\n",
    "fig_relaxed.show()\n",
    "\n",
    "\n",
    "\n",
    "\n"
   ],
   "id": "960d982641dfe187",
   "outputs": [
    {
     "name": "stdout",
     "output_type": "stream",
     "text": [
      "Found 1 files.\n",
      "/Users/jiakai/Desktop/SURF/code/_spirit/Susceptibility_multi_gammas_10_240_per_gamma_20_anisotropy_0.7_relax_step_400_gammas_-5_relax_0.8_gamma_0.0002_relaxed_1.csv\n"
     ]
    },
    {
     "data": {
      "application/vnd.plotly.v1+json": {
       "data": [
        {
         "error_y": {
          "array": {
           "dtype": "f8",
           "bdata": "dKKrhQbugj+2KGOGpwSCPzMMheAyhYI/H8eBqaZDgj9ib3vLHgOAP5PITojE+YI/w1FEnedagj949u/TqG6BP/I7tc55p4M/f96hX0tjgT8LEJ+tojmCP4z9fIR224A/kC+dyxixgD96oOX3nkCBP6dzLn3UVYE/R3imt7ILgT8hdzxyjjyBPxQKl/+P8YA/iZCiOddHgT8fsWtMuOl+P6Ii8woJXoA/629ACCD1gD+qK98DeQiAPzI5FG9i5ng/qbWnlrrxgD+EYN9/m5yAP6YomJB7TYE/hxVxPN40gD9UGIU5OUmAPzFCfJ7O0n4/aWmHna9afz8Bui2SG0x9P7uCXYaRYH0/5K3W2rB0ez+T4jnvuzB8Px8z7CnGqno/3a83C/K8ez/b6HWDIWB6Pww5884KIXg/j+MAl+ugeD/JC700zcB3P7/Kem5Je3U/eSkZexOfdT9+PPwxpl52Pynq5vye3HU/lIxXmY6Jcz8="
          }
         },
         "hovertemplate": "Gamma=0.0002<br>Ht (T)=%{x}<br>Susceptibility χ=%{y}<extra></extra>",
         "legendgroup": "0.0002",
         "line": {
          "color": "#636efa",
          "dash": "solid"
         },
         "marker": {
          "symbol": "circle"
         },
         "mode": "lines+markers",
         "name": "0.0002",
         "orientation": "v",
         "showlegend": true,
         "x": {
          "dtype": "f8",
          "bdata": "AAAAAAAAAICamZmZmZm5P5qZmZmZmck/MzMzMzMz0z+amZmZmZnZPwAAAAAAAOA/MzMzMzMz4z9mZmZmZmbmP5qZmZmZmek/zczMzMzM7D8AAAAAAADwP5qZmZmZmfE/MzMzMzMz8z/NzMzMzMz0P2ZmZmZmZvY/AAAAAAAA+D+amZmZmZn5PzMzMzMzM/s/zczMzMzM/D9mZmZmZmb+PwAAAAAAAABAzczMzMzMAECamZmZmZkBQGZmZmZmZgJAMzMzMzMzA0AAAAAAAAAEQM3MzMzMzARAmpmZmZmZBUBmZmZmZmYGQDMzMzMzMwdAAAAAAAAACEDNzMzMzMwIQJqZmZmZmQlAZmZmZmZmCkAzMzMzMzMLQAAAAAAAAAxAzczMzMzMDECamZmZmZkNQGZmZmZmZg5AMzMzMzMzD0AAAAAAAAAQQGZmZmZmZhBAzczMzMzMEEAzMzMzMzMRQJqZmZmZmRFAAAAAAAAAEkA="
         },
         "xaxis": "x",
         "y": {
          "dtype": "f8",
          "bdata": "VVUvuckK3z+rKqbDIXvdP1VVlKExst4/AKAdvPmG3j+rqp+hk2XePwAAXhCEBN8/VW3Z2d733T8AgIqaP17ePwBARUJ7E98/AMCorWVT3z+rOluLrXLeP1VVffiNgd4/VcXCjU/s3j9VPRp/bRPgP1aV6gT+COA/q6oSi0si3z8AAF9zl3LgP1Vgh2nFYd8/ACGdVneb4D9VP4DxIw7hP6tqzg1O9uA/VdUR42uc4D+rqjKPkp/gP6taTlLKkuA/q6rJjc0A4j+rSofDEjLiPwBIbF0HwOI/VeXa7cOS4j+rKpD4FcbiPwBAqgYC9+I/VdWgXxIR4z8AWHJzmCbjPwCokrGSAuM/AABCXa+04z9VxfZyF7LjP6vinkL6cOM/VRXZCp9m4z+rqpO3r0PjPwCgArrzJuM/q3r5W+sW4z9V9bWGzoDiP6uaq5tqxuI/qzrIek0r4j9VHfms2fPhP6sqcWryn+E/q5qaOBpV4T8="
         },
         "yaxis": "y",
         "type": "scatter"
        }
       ],
       "layout": {
        "template": {
         "data": {
          "barpolar": [
           {
            "marker": {
             "line": {
              "color": "white",
              "width": 0.5
             },
             "pattern": {
              "fillmode": "overlay",
              "size": 10,
              "solidity": 0.2
             }
            },
            "type": "barpolar"
           }
          ],
          "bar": [
           {
            "error_x": {
             "color": "#2a3f5f"
            },
            "error_y": {
             "color": "#2a3f5f"
            },
            "marker": {
             "line": {
              "color": "white",
              "width": 0.5
             },
             "pattern": {
              "fillmode": "overlay",
              "size": 10,
              "solidity": 0.2
             }
            },
            "type": "bar"
           }
          ],
          "carpet": [
           {
            "aaxis": {
             "endlinecolor": "#2a3f5f",
             "gridcolor": "#C8D4E3",
             "linecolor": "#C8D4E3",
             "minorgridcolor": "#C8D4E3",
             "startlinecolor": "#2a3f5f"
            },
            "baxis": {
             "endlinecolor": "#2a3f5f",
             "gridcolor": "#C8D4E3",
             "linecolor": "#C8D4E3",
             "minorgridcolor": "#C8D4E3",
             "startlinecolor": "#2a3f5f"
            },
            "type": "carpet"
           }
          ],
          "choropleth": [
           {
            "colorbar": {
             "outlinewidth": 0,
             "ticks": ""
            },
            "type": "choropleth"
           }
          ],
          "contourcarpet": [
           {
            "colorbar": {
             "outlinewidth": 0,
             "ticks": ""
            },
            "type": "contourcarpet"
           }
          ],
          "contour": [
           {
            "colorbar": {
             "outlinewidth": 0,
             "ticks": ""
            },
            "colorscale": [
             [
              0.0,
              "#0d0887"
             ],
             [
              0.1111111111111111,
              "#46039f"
             ],
             [
              0.2222222222222222,
              "#7201a8"
             ],
             [
              0.3333333333333333,
              "#9c179e"
             ],
             [
              0.4444444444444444,
              "#bd3786"
             ],
             [
              0.5555555555555556,
              "#d8576b"
             ],
             [
              0.6666666666666666,
              "#ed7953"
             ],
             [
              0.7777777777777778,
              "#fb9f3a"
             ],
             [
              0.8888888888888888,
              "#fdca26"
             ],
             [
              1.0,
              "#f0f921"
             ]
            ],
            "type": "contour"
           }
          ],
          "heatmap": [
           {
            "colorbar": {
             "outlinewidth": 0,
             "ticks": ""
            },
            "colorscale": [
             [
              0.0,
              "#0d0887"
             ],
             [
              0.1111111111111111,
              "#46039f"
             ],
             [
              0.2222222222222222,
              "#7201a8"
             ],
             [
              0.3333333333333333,
              "#9c179e"
             ],
             [
              0.4444444444444444,
              "#bd3786"
             ],
             [
              0.5555555555555556,
              "#d8576b"
             ],
             [
              0.6666666666666666,
              "#ed7953"
             ],
             [
              0.7777777777777778,
              "#fb9f3a"
             ],
             [
              0.8888888888888888,
              "#fdca26"
             ],
             [
              1.0,
              "#f0f921"
             ]
            ],
            "type": "heatmap"
           }
          ],
          "histogram2dcontour": [
           {
            "colorbar": {
             "outlinewidth": 0,
             "ticks": ""
            },
            "colorscale": [
             [
              0.0,
              "#0d0887"
             ],
             [
              0.1111111111111111,
              "#46039f"
             ],
             [
              0.2222222222222222,
              "#7201a8"
             ],
             [
              0.3333333333333333,
              "#9c179e"
             ],
             [
              0.4444444444444444,
              "#bd3786"
             ],
             [
              0.5555555555555556,
              "#d8576b"
             ],
             [
              0.6666666666666666,
              "#ed7953"
             ],
             [
              0.7777777777777778,
              "#fb9f3a"
             ],
             [
              0.8888888888888888,
              "#fdca26"
             ],
             [
              1.0,
              "#f0f921"
             ]
            ],
            "type": "histogram2dcontour"
           }
          ],
          "histogram2d": [
           {
            "colorbar": {
             "outlinewidth": 0,
             "ticks": ""
            },
            "colorscale": [
             [
              0.0,
              "#0d0887"
             ],
             [
              0.1111111111111111,
              "#46039f"
             ],
             [
              0.2222222222222222,
              "#7201a8"
             ],
             [
              0.3333333333333333,
              "#9c179e"
             ],
             [
              0.4444444444444444,
              "#bd3786"
             ],
             [
              0.5555555555555556,
              "#d8576b"
             ],
             [
              0.6666666666666666,
              "#ed7953"
             ],
             [
              0.7777777777777778,
              "#fb9f3a"
             ],
             [
              0.8888888888888888,
              "#fdca26"
             ],
             [
              1.0,
              "#f0f921"
             ]
            ],
            "type": "histogram2d"
           }
          ],
          "histogram": [
           {
            "marker": {
             "pattern": {
              "fillmode": "overlay",
              "size": 10,
              "solidity": 0.2
             }
            },
            "type": "histogram"
           }
          ],
          "mesh3d": [
           {
            "colorbar": {
             "outlinewidth": 0,
             "ticks": ""
            },
            "type": "mesh3d"
           }
          ],
          "parcoords": [
           {
            "line": {
             "colorbar": {
              "outlinewidth": 0,
              "ticks": ""
             }
            },
            "type": "parcoords"
           }
          ],
          "pie": [
           {
            "automargin": true,
            "type": "pie"
           }
          ],
          "scatter3d": [
           {
            "line": {
             "colorbar": {
              "outlinewidth": 0,
              "ticks": ""
             }
            },
            "marker": {
             "colorbar": {
              "outlinewidth": 0,
              "ticks": ""
             }
            },
            "type": "scatter3d"
           }
          ],
          "scattercarpet": [
           {
            "marker": {
             "colorbar": {
              "outlinewidth": 0,
              "ticks": ""
             }
            },
            "type": "scattercarpet"
           }
          ],
          "scattergeo": [
           {
            "marker": {
             "colorbar": {
              "outlinewidth": 0,
              "ticks": ""
             }
            },
            "type": "scattergeo"
           }
          ],
          "scattergl": [
           {
            "marker": {
             "colorbar": {
              "outlinewidth": 0,
              "ticks": ""
             }
            },
            "type": "scattergl"
           }
          ],
          "scattermapbox": [
           {
            "marker": {
             "colorbar": {
              "outlinewidth": 0,
              "ticks": ""
             }
            },
            "type": "scattermapbox"
           }
          ],
          "scattermap": [
           {
            "marker": {
             "colorbar": {
              "outlinewidth": 0,
              "ticks": ""
             }
            },
            "type": "scattermap"
           }
          ],
          "scatterpolargl": [
           {
            "marker": {
             "colorbar": {
              "outlinewidth": 0,
              "ticks": ""
             }
            },
            "type": "scatterpolargl"
           }
          ],
          "scatterpolar": [
           {
            "marker": {
             "colorbar": {
              "outlinewidth": 0,
              "ticks": ""
             }
            },
            "type": "scatterpolar"
           }
          ],
          "scatter": [
           {
            "fillpattern": {
             "fillmode": "overlay",
             "size": 10,
             "solidity": 0.2
            },
            "type": "scatter"
           }
          ],
          "scatterternary": [
           {
            "marker": {
             "colorbar": {
              "outlinewidth": 0,
              "ticks": ""
             }
            },
            "type": "scatterternary"
           }
          ],
          "surface": [
           {
            "colorbar": {
             "outlinewidth": 0,
             "ticks": ""
            },
            "colorscale": [
             [
              0.0,
              "#0d0887"
             ],
             [
              0.1111111111111111,
              "#46039f"
             ],
             [
              0.2222222222222222,
              "#7201a8"
             ],
             [
              0.3333333333333333,
              "#9c179e"
             ],
             [
              0.4444444444444444,
              "#bd3786"
             ],
             [
              0.5555555555555556,
              "#d8576b"
             ],
             [
              0.6666666666666666,
              "#ed7953"
             ],
             [
              0.7777777777777778,
              "#fb9f3a"
             ],
             [
              0.8888888888888888,
              "#fdca26"
             ],
             [
              1.0,
              "#f0f921"
             ]
            ],
            "type": "surface"
           }
          ],
          "table": [
           {
            "cells": {
             "fill": {
              "color": "#EBF0F8"
             },
             "line": {
              "color": "white"
             }
            },
            "header": {
             "fill": {
              "color": "#C8D4E3"
             },
             "line": {
              "color": "white"
             }
            },
            "type": "table"
           }
          ]
         },
         "layout": {
          "annotationdefaults": {
           "arrowcolor": "#2a3f5f",
           "arrowhead": 0,
           "arrowwidth": 1
          },
          "autotypenumbers": "strict",
          "coloraxis": {
           "colorbar": {
            "outlinewidth": 0,
            "ticks": ""
           }
          },
          "colorscale": {
           "diverging": [
            [
             0,
             "#8e0152"
            ],
            [
             0.1,
             "#c51b7d"
            ],
            [
             0.2,
             "#de77ae"
            ],
            [
             0.3,
             "#f1b6da"
            ],
            [
             0.4,
             "#fde0ef"
            ],
            [
             0.5,
             "#f7f7f7"
            ],
            [
             0.6,
             "#e6f5d0"
            ],
            [
             0.7,
             "#b8e186"
            ],
            [
             0.8,
             "#7fbc41"
            ],
            [
             0.9,
             "#4d9221"
            ],
            [
             1,
             "#276419"
            ]
           ],
           "sequential": [
            [
             0.0,
             "#0d0887"
            ],
            [
             0.1111111111111111,
             "#46039f"
            ],
            [
             0.2222222222222222,
             "#7201a8"
            ],
            [
             0.3333333333333333,
             "#9c179e"
            ],
            [
             0.4444444444444444,
             "#bd3786"
            ],
            [
             0.5555555555555556,
             "#d8576b"
            ],
            [
             0.6666666666666666,
             "#ed7953"
            ],
            [
             0.7777777777777778,
             "#fb9f3a"
            ],
            [
             0.8888888888888888,
             "#fdca26"
            ],
            [
             1.0,
             "#f0f921"
            ]
           ],
           "sequentialminus": [
            [
             0.0,
             "#0d0887"
            ],
            [
             0.1111111111111111,
             "#46039f"
            ],
            [
             0.2222222222222222,
             "#7201a8"
            ],
            [
             0.3333333333333333,
             "#9c179e"
            ],
            [
             0.4444444444444444,
             "#bd3786"
            ],
            [
             0.5555555555555556,
             "#d8576b"
            ],
            [
             0.6666666666666666,
             "#ed7953"
            ],
            [
             0.7777777777777778,
             "#fb9f3a"
            ],
            [
             0.8888888888888888,
             "#fdca26"
            ],
            [
             1.0,
             "#f0f921"
            ]
           ]
          },
          "colorway": [
           "#636efa",
           "#EF553B",
           "#00cc96",
           "#ab63fa",
           "#FFA15A",
           "#19d3f3",
           "#FF6692",
           "#B6E880",
           "#FF97FF",
           "#FECB52"
          ],
          "font": {
           "color": "#2a3f5f"
          },
          "geo": {
           "bgcolor": "white",
           "lakecolor": "white",
           "landcolor": "white",
           "showlakes": true,
           "showland": true,
           "subunitcolor": "#C8D4E3"
          },
          "hoverlabel": {
           "align": "left"
          },
          "hovermode": "closest",
          "mapbox": {
           "style": "light"
          },
          "paper_bgcolor": "white",
          "plot_bgcolor": "white",
          "polar": {
           "angularaxis": {
            "gridcolor": "#EBF0F8",
            "linecolor": "#EBF0F8",
            "ticks": ""
           },
           "bgcolor": "white",
           "radialaxis": {
            "gridcolor": "#EBF0F8",
            "linecolor": "#EBF0F8",
            "ticks": ""
           }
          },
          "scene": {
           "xaxis": {
            "backgroundcolor": "white",
            "gridcolor": "#DFE8F3",
            "gridwidth": 2,
            "linecolor": "#EBF0F8",
            "showbackground": true,
            "ticks": "",
            "zerolinecolor": "#EBF0F8"
           },
           "yaxis": {
            "backgroundcolor": "white",
            "gridcolor": "#DFE8F3",
            "gridwidth": 2,
            "linecolor": "#EBF0F8",
            "showbackground": true,
            "ticks": "",
            "zerolinecolor": "#EBF0F8"
           },
           "zaxis": {
            "backgroundcolor": "white",
            "gridcolor": "#DFE8F3",
            "gridwidth": 2,
            "linecolor": "#EBF0F8",
            "showbackground": true,
            "ticks": "",
            "zerolinecolor": "#EBF0F8"
           }
          },
          "shapedefaults": {
           "line": {
            "color": "#2a3f5f"
           }
          },
          "ternary": {
           "aaxis": {
            "gridcolor": "#DFE8F3",
            "linecolor": "#A2B1C6",
            "ticks": ""
           },
           "baxis": {
            "gridcolor": "#DFE8F3",
            "linecolor": "#A2B1C6",
            "ticks": ""
           },
           "bgcolor": "white",
           "caxis": {
            "gridcolor": "#DFE8F3",
            "linecolor": "#A2B1C6",
            "ticks": ""
           }
          },
          "title": {
           "x": 0.05
          },
          "xaxis": {
           "automargin": true,
           "gridcolor": "#EBF0F8",
           "linecolor": "#EBF0F8",
           "ticks": "",
           "title": {
            "standoff": 15
           },
           "zerolinecolor": "#EBF0F8",
           "zerolinewidth": 2
          },
          "yaxis": {
           "automargin": true,
           "gridcolor": "#EBF0F8",
           "linecolor": "#EBF0F8",
           "ticks": "",
           "title": {
            "standoff": 15
           },
           "zerolinecolor": "#EBF0F8",
           "zerolinewidth": 2
          }
         }
        },
        "xaxis": {
         "anchor": "y",
         "domain": [
          0.0,
          1.0
         ],
         "title": {
          "text": "Ht (T)"
         }
        },
        "yaxis": {
         "anchor": "x",
         "domain": [
          0.0,
          1.0
         ],
         "title": {
          "text": "Susceptibility χ"
         }
        },
        "legend": {
         "title": {
          "text": "Gamma"
         },
         "tracegroupgap": 0
        },
        "title": {
         "text": "Susceptibility χ vs Ht for different Γ (gamma)"
        }
       },
       "config": {
        "plotlyServerURL": "https://plot.ly"
       }
      }
     },
     "metadata": {},
     "output_type": "display_data"
    }
   ],
   "execution_count": 24
  },
  {
   "metadata": {
    "ExecuteTime": {
     "end_time": "2025-07-25T16:44:13.479900Z",
     "start_time": "2025-07-25T16:44:11.649951Z"
    }
   },
   "cell_type": "code",
   "source": [
    "#Ht = H_relax before relaxation\n",
    "import plotly.graph_objects as go\n",
    "import ast\n",
    "\n",
    "\n",
    "path = '/Users/jiakai/Desktop/SURF/code/_spirit/'\n",
    "n_cycles = 240\n",
    "\n",
    "# Pattern to match all relevant CSV files\n",
    "file_pattern = path + \"chi_before_relax_10_240_20_anisotropy_0.7_relax_step_400_gammas_DDI_-5_relax_0.8_gamma_0.0002.csv*\"\n",
    "\n",
    "# List all matching files\n",
    "csv_files = glob.glob(file_pattern)\n",
    "\n",
    "# Print how many files were found\n",
    "print(f\"Found {len(csv_files)} files.\")\n",
    "repeats = len(csv_files)\n",
    "for f in csv_files:\n",
    "    print(f)\n",
    "\n",
    "\n",
    "# Read and concatenate all files\n",
    "df_all_no_relax = pd.concat([pd.read_csv(f) for f in csv_files], ignore_index=True)\n",
    "\n",
    "# Extract the float values from the list\n",
    "chi_values = df_all_no_relax['chi_Hrelax_before_relax'].apply(\n",
    "    lambda x: float(ast.literal_eval(x)[0])\n",
    ")\n",
    "\n",
    "# Compute statistics\n",
    "chi_mean = chi_values.mean()\n",
    "chi_std = chi_values.std()\n",
    "Ht_value = df_all_no_relax['Ht'].iloc[0]\n",
    "\n",
    "# Create Plotly figure\n",
    "fig = go.Figure()\n",
    "\n",
    "# Add single point with error bars\n",
    "fig.add_trace(\n",
    "    go.Scatter(\n",
    "        x=[Ht_value],\n",
    "        y=[chi_mean],\n",
    "        error_y=dict(type='data', array=[chi_std], visible=True),\n",
    "        mode='markers+text',\n",
    "        marker=dict(size=10, color='black', symbol='diamond'),\n",
    "        name='Avg Chi ± Std Dev',\n",
    "        text=[\"No Relax\"],\n",
    "        textposition=\"top center\"\n",
    "    )\n",
    ")\n",
    "\n",
    "# Layout\n",
    "fig.update_layout(\n",
    "    title='Average Chi vs Ht with Error Bars',\n",
    "    xaxis_title='Ht',\n",
    "    yaxis_title='Chi (before relax)',\n",
    "    template='plotly_white',\n",
    "    showlegend=True\n",
    ")\n",
    "\n",
    "fig.show()"
   ],
   "id": "929e8f35300c2e72",
   "outputs": [
    {
     "name": "stdout",
     "output_type": "stream",
     "text": [
      "Found 1 files.\n",
      "/Users/jiakai/Desktop/SURF/code/_spirit/chi_before_relax_10_240_20_anisotropy_0.7_relax_step_400_gammas_DDI_-5_relax_0.8_gamma_0.0002.csv\n"
     ]
    },
    {
     "ename": "ValueError",
     "evalue": "malformed node or string on line 1: <ast.Call object at 0x175e1bb50>",
     "output_type": "error",
     "traceback": [
      "\u001B[31m---------------------------------------------------------------------------\u001B[39m",
      "\u001B[31mValueError\u001B[39m                                Traceback (most recent call last)",
      "\u001B[36mCell\u001B[39m\u001B[36m \u001B[39m\u001B[32mIn[22]\u001B[39m\u001B[32m, line 26\u001B[39m\n\u001B[32m     23\u001B[39m df_all_no_relax = pd.concat([pd.read_csv(f) \u001B[38;5;28;01mfor\u001B[39;00m f \u001B[38;5;129;01min\u001B[39;00m csv_files], ignore_index=\u001B[38;5;28;01mTrue\u001B[39;00m)\n\u001B[32m     25\u001B[39m \u001B[38;5;66;03m# Extract the float values from the list\u001B[39;00m\n\u001B[32m---> \u001B[39m\u001B[32m26\u001B[39m chi_values = \u001B[43mdf_all_no_relax\u001B[49m\u001B[43m[\u001B[49m\u001B[33;43m'\u001B[39;49m\u001B[33;43mchi_Hrelax_before_relax\u001B[39;49m\u001B[33;43m'\u001B[39;49m\u001B[43m]\u001B[49m\u001B[43m.\u001B[49m\u001B[43mapply\u001B[49m\u001B[43m(\u001B[49m\n\u001B[32m     27\u001B[39m \u001B[43m    \u001B[49m\u001B[38;5;28;43;01mlambda\u001B[39;49;00m\u001B[43m \u001B[49m\u001B[43mx\u001B[49m\u001B[43m:\u001B[49m\u001B[43m \u001B[49m\u001B[38;5;28;43mfloat\u001B[39;49m\u001B[43m(\u001B[49m\u001B[43mast\u001B[49m\u001B[43m.\u001B[49m\u001B[43mliteral_eval\u001B[49m\u001B[43m(\u001B[49m\u001B[43mx\u001B[49m\u001B[43m)\u001B[49m\u001B[43m[\u001B[49m\u001B[32;43m0\u001B[39;49m\u001B[43m]\u001B[49m\u001B[43m)\u001B[49m\n\u001B[32m     28\u001B[39m \u001B[43m)\u001B[49m\n\u001B[32m     30\u001B[39m \u001B[38;5;66;03m# Compute statistics\u001B[39;00m\n\u001B[32m     31\u001B[39m chi_mean = chi_values.mean()\n",
      "\u001B[36mFile \u001B[39m\u001B[32m~/Desktop/SURF/code/venv/lib/python3.13/site-packages/pandas/core/series.py:4935\u001B[39m, in \u001B[36mSeries.apply\u001B[39m\u001B[34m(self, func, convert_dtype, args, by_row, **kwargs)\u001B[39m\n\u001B[32m   4800\u001B[39m \u001B[38;5;28;01mdef\u001B[39;00m\u001B[38;5;250m \u001B[39m\u001B[34mapply\u001B[39m(\n\u001B[32m   4801\u001B[39m     \u001B[38;5;28mself\u001B[39m,\n\u001B[32m   4802\u001B[39m     func: AggFuncType,\n\u001B[32m   (...)\u001B[39m\u001B[32m   4807\u001B[39m     **kwargs,\n\u001B[32m   4808\u001B[39m ) -> DataFrame | Series:\n\u001B[32m   4809\u001B[39m \u001B[38;5;250m    \u001B[39m\u001B[33;03m\"\"\"\u001B[39;00m\n\u001B[32m   4810\u001B[39m \u001B[33;03m    Invoke function on values of Series.\u001B[39;00m\n\u001B[32m   4811\u001B[39m \n\u001B[32m   (...)\u001B[39m\u001B[32m   4926\u001B[39m \u001B[33;03m    dtype: float64\u001B[39;00m\n\u001B[32m   4927\u001B[39m \u001B[33;03m    \"\"\"\u001B[39;00m\n\u001B[32m   4928\u001B[39m     \u001B[38;5;28;01mreturn\u001B[39;00m \u001B[43mSeriesApply\u001B[49m\u001B[43m(\u001B[49m\n\u001B[32m   4929\u001B[39m \u001B[43m        \u001B[49m\u001B[38;5;28;43mself\u001B[39;49m\u001B[43m,\u001B[49m\n\u001B[32m   4930\u001B[39m \u001B[43m        \u001B[49m\u001B[43mfunc\u001B[49m\u001B[43m,\u001B[49m\n\u001B[32m   4931\u001B[39m \u001B[43m        \u001B[49m\u001B[43mconvert_dtype\u001B[49m\u001B[43m=\u001B[49m\u001B[43mconvert_dtype\u001B[49m\u001B[43m,\u001B[49m\n\u001B[32m   4932\u001B[39m \u001B[43m        \u001B[49m\u001B[43mby_row\u001B[49m\u001B[43m=\u001B[49m\u001B[43mby_row\u001B[49m\u001B[43m,\u001B[49m\n\u001B[32m   4933\u001B[39m \u001B[43m        \u001B[49m\u001B[43margs\u001B[49m\u001B[43m=\u001B[49m\u001B[43margs\u001B[49m\u001B[43m,\u001B[49m\n\u001B[32m   4934\u001B[39m \u001B[43m        \u001B[49m\u001B[43mkwargs\u001B[49m\u001B[43m=\u001B[49m\u001B[43mkwargs\u001B[49m\u001B[43m,\u001B[49m\n\u001B[32m-> \u001B[39m\u001B[32m4935\u001B[39m \u001B[43m    \u001B[49m\u001B[43m)\u001B[49m\u001B[43m.\u001B[49m\u001B[43mapply\u001B[49m\u001B[43m(\u001B[49m\u001B[43m)\u001B[49m\n",
      "\u001B[36mFile \u001B[39m\u001B[32m~/Desktop/SURF/code/venv/lib/python3.13/site-packages/pandas/core/apply.py:1422\u001B[39m, in \u001B[36mSeriesApply.apply\u001B[39m\u001B[34m(self)\u001B[39m\n\u001B[32m   1419\u001B[39m     \u001B[38;5;28;01mreturn\u001B[39;00m \u001B[38;5;28mself\u001B[39m.apply_compat()\n\u001B[32m   1421\u001B[39m \u001B[38;5;66;03m# self.func is Callable\u001B[39;00m\n\u001B[32m-> \u001B[39m\u001B[32m1422\u001B[39m \u001B[38;5;28;01mreturn\u001B[39;00m \u001B[38;5;28;43mself\u001B[39;49m\u001B[43m.\u001B[49m\u001B[43mapply_standard\u001B[49m\u001B[43m(\u001B[49m\u001B[43m)\u001B[49m\n",
      "\u001B[36mFile \u001B[39m\u001B[32m~/Desktop/SURF/code/venv/lib/python3.13/site-packages/pandas/core/apply.py:1502\u001B[39m, in \u001B[36mSeriesApply.apply_standard\u001B[39m\u001B[34m(self)\u001B[39m\n\u001B[32m   1496\u001B[39m \u001B[38;5;66;03m# row-wise access\u001B[39;00m\n\u001B[32m   1497\u001B[39m \u001B[38;5;66;03m# apply doesn't have a `na_action` keyword and for backward compat reasons\u001B[39;00m\n\u001B[32m   1498\u001B[39m \u001B[38;5;66;03m# we need to give `na_action=\"ignore\"` for categorical data.\u001B[39;00m\n\u001B[32m   1499\u001B[39m \u001B[38;5;66;03m# TODO: remove the `na_action=\"ignore\"` when that default has been changed in\u001B[39;00m\n\u001B[32m   1500\u001B[39m \u001B[38;5;66;03m#  Categorical (GH51645).\u001B[39;00m\n\u001B[32m   1501\u001B[39m action = \u001B[33m\"\u001B[39m\u001B[33mignore\u001B[39m\u001B[33m\"\u001B[39m \u001B[38;5;28;01mif\u001B[39;00m \u001B[38;5;28misinstance\u001B[39m(obj.dtype, CategoricalDtype) \u001B[38;5;28;01melse\u001B[39;00m \u001B[38;5;28;01mNone\u001B[39;00m\n\u001B[32m-> \u001B[39m\u001B[32m1502\u001B[39m mapped = \u001B[43mobj\u001B[49m\u001B[43m.\u001B[49m\u001B[43m_map_values\u001B[49m\u001B[43m(\u001B[49m\n\u001B[32m   1503\u001B[39m \u001B[43m    \u001B[49m\u001B[43mmapper\u001B[49m\u001B[43m=\u001B[49m\u001B[43mcurried\u001B[49m\u001B[43m,\u001B[49m\u001B[43m \u001B[49m\u001B[43mna_action\u001B[49m\u001B[43m=\u001B[49m\u001B[43maction\u001B[49m\u001B[43m,\u001B[49m\u001B[43m \u001B[49m\u001B[43mconvert\u001B[49m\u001B[43m=\u001B[49m\u001B[38;5;28;43mself\u001B[39;49m\u001B[43m.\u001B[49m\u001B[43mconvert_dtype\u001B[49m\n\u001B[32m   1504\u001B[39m \u001B[43m\u001B[49m\u001B[43m)\u001B[49m\n\u001B[32m   1506\u001B[39m \u001B[38;5;28;01mif\u001B[39;00m \u001B[38;5;28mlen\u001B[39m(mapped) \u001B[38;5;129;01mand\u001B[39;00m \u001B[38;5;28misinstance\u001B[39m(mapped[\u001B[32m0\u001B[39m], ABCSeries):\n\u001B[32m   1507\u001B[39m     \u001B[38;5;66;03m# GH#43986 Need to do list(mapped) in order to get treated as nested\u001B[39;00m\n\u001B[32m   1508\u001B[39m     \u001B[38;5;66;03m#  See also GH#25959 regarding EA support\u001B[39;00m\n\u001B[32m   1509\u001B[39m     \u001B[38;5;28;01mreturn\u001B[39;00m obj._constructor_expanddim(\u001B[38;5;28mlist\u001B[39m(mapped), index=obj.index)\n",
      "\u001B[36mFile \u001B[39m\u001B[32m~/Desktop/SURF/code/venv/lib/python3.13/site-packages/pandas/core/base.py:925\u001B[39m, in \u001B[36mIndexOpsMixin._map_values\u001B[39m\u001B[34m(self, mapper, na_action, convert)\u001B[39m\n\u001B[32m    922\u001B[39m \u001B[38;5;28;01mif\u001B[39;00m \u001B[38;5;28misinstance\u001B[39m(arr, ExtensionArray):\n\u001B[32m    923\u001B[39m     \u001B[38;5;28;01mreturn\u001B[39;00m arr.map(mapper, na_action=na_action)\n\u001B[32m--> \u001B[39m\u001B[32m925\u001B[39m \u001B[38;5;28;01mreturn\u001B[39;00m \u001B[43malgorithms\u001B[49m\u001B[43m.\u001B[49m\u001B[43mmap_array\u001B[49m\u001B[43m(\u001B[49m\u001B[43marr\u001B[49m\u001B[43m,\u001B[49m\u001B[43m \u001B[49m\u001B[43mmapper\u001B[49m\u001B[43m,\u001B[49m\u001B[43m \u001B[49m\u001B[43mna_action\u001B[49m\u001B[43m=\u001B[49m\u001B[43mna_action\u001B[49m\u001B[43m,\u001B[49m\u001B[43m \u001B[49m\u001B[43mconvert\u001B[49m\u001B[43m=\u001B[49m\u001B[43mconvert\u001B[49m\u001B[43m)\u001B[49m\n",
      "\u001B[36mFile \u001B[39m\u001B[32m~/Desktop/SURF/code/venv/lib/python3.13/site-packages/pandas/core/algorithms.py:1743\u001B[39m, in \u001B[36mmap_array\u001B[39m\u001B[34m(arr, mapper, na_action, convert)\u001B[39m\n\u001B[32m   1741\u001B[39m values = arr.astype(\u001B[38;5;28mobject\u001B[39m, copy=\u001B[38;5;28;01mFalse\u001B[39;00m)\n\u001B[32m   1742\u001B[39m \u001B[38;5;28;01mif\u001B[39;00m na_action \u001B[38;5;129;01mis\u001B[39;00m \u001B[38;5;28;01mNone\u001B[39;00m:\n\u001B[32m-> \u001B[39m\u001B[32m1743\u001B[39m     \u001B[38;5;28;01mreturn\u001B[39;00m \u001B[43mlib\u001B[49m\u001B[43m.\u001B[49m\u001B[43mmap_infer\u001B[49m\u001B[43m(\u001B[49m\u001B[43mvalues\u001B[49m\u001B[43m,\u001B[49m\u001B[43m \u001B[49m\u001B[43mmapper\u001B[49m\u001B[43m,\u001B[49m\u001B[43m \u001B[49m\u001B[43mconvert\u001B[49m\u001B[43m=\u001B[49m\u001B[43mconvert\u001B[49m\u001B[43m)\u001B[49m\n\u001B[32m   1744\u001B[39m \u001B[38;5;28;01melse\u001B[39;00m:\n\u001B[32m   1745\u001B[39m     \u001B[38;5;28;01mreturn\u001B[39;00m lib.map_infer_mask(\n\u001B[32m   1746\u001B[39m         values, mapper, mask=isna(values).view(np.uint8), convert=convert\n\u001B[32m   1747\u001B[39m     )\n",
      "\u001B[36mFile \u001B[39m\u001B[32mpandas/_libs/lib.pyx:2999\u001B[39m, in \u001B[36mpandas._libs.lib.map_infer\u001B[39m\u001B[34m()\u001B[39m\n",
      "\u001B[36mCell\u001B[39m\u001B[36m \u001B[39m\u001B[32mIn[22]\u001B[39m\u001B[32m, line 27\u001B[39m, in \u001B[36m<lambda>\u001B[39m\u001B[34m(x)\u001B[39m\n\u001B[32m     23\u001B[39m df_all_no_relax = pd.concat([pd.read_csv(f) \u001B[38;5;28;01mfor\u001B[39;00m f \u001B[38;5;129;01min\u001B[39;00m csv_files], ignore_index=\u001B[38;5;28;01mTrue\u001B[39;00m)\n\u001B[32m     25\u001B[39m \u001B[38;5;66;03m# Extract the float values from the list\u001B[39;00m\n\u001B[32m     26\u001B[39m chi_values = df_all_no_relax[\u001B[33m'\u001B[39m\u001B[33mchi_Hrelax_before_relax\u001B[39m\u001B[33m'\u001B[39m].apply(\n\u001B[32m---> \u001B[39m\u001B[32m27\u001B[39m     \u001B[38;5;28;01mlambda\u001B[39;00m x: \u001B[38;5;28mfloat\u001B[39m(\u001B[43mast\u001B[49m\u001B[43m.\u001B[49m\u001B[43mliteral_eval\u001B[49m\u001B[43m(\u001B[49m\u001B[43mx\u001B[49m\u001B[43m)\u001B[49m[\u001B[32m0\u001B[39m])\n\u001B[32m     28\u001B[39m )\n\u001B[32m     30\u001B[39m \u001B[38;5;66;03m# Compute statistics\u001B[39;00m\n\u001B[32m     31\u001B[39m chi_mean = chi_values.mean()\n",
      "\u001B[36mFile \u001B[39m\u001B[32m/opt/homebrew/Cellar/python@3.13/3.13.5/Frameworks/Python.framework/Versions/3.13/lib/python3.13/ast.py:110\u001B[39m, in \u001B[36mliteral_eval\u001B[39m\u001B[34m(node_or_string)\u001B[39m\n\u001B[32m    108\u001B[39m                 \u001B[38;5;28;01mreturn\u001B[39;00m left - right\n\u001B[32m    109\u001B[39m     \u001B[38;5;28;01mreturn\u001B[39;00m _convert_signed_num(node)\n\u001B[32m--> \u001B[39m\u001B[32m110\u001B[39m \u001B[38;5;28;01mreturn\u001B[39;00m \u001B[43m_convert\u001B[49m\u001B[43m(\u001B[49m\u001B[43mnode_or_string\u001B[49m\u001B[43m)\u001B[49m\n",
      "\u001B[36mFile \u001B[39m\u001B[32m/opt/homebrew/Cellar/python@3.13/3.13.5/Frameworks/Python.framework/Versions/3.13/lib/python3.13/ast.py:90\u001B[39m, in \u001B[36mliteral_eval.<locals>._convert\u001B[39m\u001B[34m(node)\u001B[39m\n\u001B[32m     88\u001B[39m     \u001B[38;5;28;01mreturn\u001B[39;00m \u001B[38;5;28mtuple\u001B[39m(\u001B[38;5;28mmap\u001B[39m(_convert, node.elts))\n\u001B[32m     89\u001B[39m \u001B[38;5;28;01melif\u001B[39;00m \u001B[38;5;28misinstance\u001B[39m(node, List):\n\u001B[32m---> \u001B[39m\u001B[32m90\u001B[39m     \u001B[38;5;28;01mreturn\u001B[39;00m \u001B[38;5;28;43mlist\u001B[39;49m\u001B[43m(\u001B[49m\u001B[38;5;28;43mmap\u001B[39;49m\u001B[43m(\u001B[49m\u001B[43m_convert\u001B[49m\u001B[43m,\u001B[49m\u001B[43m \u001B[49m\u001B[43mnode\u001B[49m\u001B[43m.\u001B[49m\u001B[43melts\u001B[49m\u001B[43m)\u001B[49m\u001B[43m)\u001B[49m\n\u001B[32m     91\u001B[39m \u001B[38;5;28;01melif\u001B[39;00m \u001B[38;5;28misinstance\u001B[39m(node, Set):\n\u001B[32m     92\u001B[39m     \u001B[38;5;28;01mreturn\u001B[39;00m \u001B[38;5;28mset\u001B[39m(\u001B[38;5;28mmap\u001B[39m(_convert, node.elts))\n",
      "\u001B[36mFile \u001B[39m\u001B[32m/opt/homebrew/Cellar/python@3.13/3.13.5/Frameworks/Python.framework/Versions/3.13/lib/python3.13/ast.py:109\u001B[39m, in \u001B[36mliteral_eval.<locals>._convert\u001B[39m\u001B[34m(node)\u001B[39m\n\u001B[32m    107\u001B[39m         \u001B[38;5;28;01melse\u001B[39;00m:\n\u001B[32m    108\u001B[39m             \u001B[38;5;28;01mreturn\u001B[39;00m left - right\n\u001B[32m--> \u001B[39m\u001B[32m109\u001B[39m \u001B[38;5;28;01mreturn\u001B[39;00m \u001B[43m_convert_signed_num\u001B[49m\u001B[43m(\u001B[49m\u001B[43mnode\u001B[49m\u001B[43m)\u001B[49m\n",
      "\u001B[36mFile \u001B[39m\u001B[32m/opt/homebrew/Cellar/python@3.13/3.13.5/Frameworks/Python.framework/Versions/3.13/lib/python3.13/ast.py:83\u001B[39m, in \u001B[36mliteral_eval.<locals>._convert_signed_num\u001B[39m\u001B[34m(node)\u001B[39m\n\u001B[32m     81\u001B[39m     \u001B[38;5;28;01melse\u001B[39;00m:\n\u001B[32m     82\u001B[39m         \u001B[38;5;28;01mreturn\u001B[39;00m - operand\n\u001B[32m---> \u001B[39m\u001B[32m83\u001B[39m \u001B[38;5;28;01mreturn\u001B[39;00m \u001B[43m_convert_num\u001B[49m\u001B[43m(\u001B[49m\u001B[43mnode\u001B[49m\u001B[43m)\u001B[49m\n",
      "\u001B[36mFile \u001B[39m\u001B[32m/opt/homebrew/Cellar/python@3.13/3.13.5/Frameworks/Python.framework/Versions/3.13/lib/python3.13/ast.py:74\u001B[39m, in \u001B[36mliteral_eval.<locals>._convert_num\u001B[39m\u001B[34m(node)\u001B[39m\n\u001B[32m     72\u001B[39m \u001B[38;5;28;01mdef\u001B[39;00m\u001B[38;5;250m \u001B[39m\u001B[34m_convert_num\u001B[39m(node):\n\u001B[32m     73\u001B[39m     \u001B[38;5;28;01mif\u001B[39;00m \u001B[38;5;129;01mnot\u001B[39;00m \u001B[38;5;28misinstance\u001B[39m(node, Constant) \u001B[38;5;129;01mor\u001B[39;00m \u001B[38;5;28mtype\u001B[39m(node.value) \u001B[38;5;129;01mnot\u001B[39;00m \u001B[38;5;129;01min\u001B[39;00m (\u001B[38;5;28mint\u001B[39m, \u001B[38;5;28mfloat\u001B[39m, \u001B[38;5;28mcomplex\u001B[39m):\n\u001B[32m---> \u001B[39m\u001B[32m74\u001B[39m         \u001B[43m_raise_malformed_node\u001B[49m\u001B[43m(\u001B[49m\u001B[43mnode\u001B[49m\u001B[43m)\u001B[49m\n\u001B[32m     75\u001B[39m     \u001B[38;5;28;01mreturn\u001B[39;00m node.value\n",
      "\u001B[36mFile \u001B[39m\u001B[32m/opt/homebrew/Cellar/python@3.13/3.13.5/Frameworks/Python.framework/Versions/3.13/lib/python3.13/ast.py:71\u001B[39m, in \u001B[36mliteral_eval.<locals>._raise_malformed_node\u001B[39m\u001B[34m(node)\u001B[39m\n\u001B[32m     69\u001B[39m \u001B[38;5;28;01mif\u001B[39;00m lno := \u001B[38;5;28mgetattr\u001B[39m(node, \u001B[33m'\u001B[39m\u001B[33mlineno\u001B[39m\u001B[33m'\u001B[39m, \u001B[38;5;28;01mNone\u001B[39;00m):\n\u001B[32m     70\u001B[39m     msg += \u001B[33mf\u001B[39m\u001B[33m'\u001B[39m\u001B[33m on line \u001B[39m\u001B[38;5;132;01m{\u001B[39;00mlno\u001B[38;5;132;01m}\u001B[39;00m\u001B[33m'\u001B[39m\n\u001B[32m---> \u001B[39m\u001B[32m71\u001B[39m \u001B[38;5;28;01mraise\u001B[39;00m \u001B[38;5;167;01mValueError\u001B[39;00m(msg + \u001B[33mf\u001B[39m\u001B[33m'\u001B[39m\u001B[33m: \u001B[39m\u001B[38;5;132;01m{\u001B[39;00mnode\u001B[38;5;132;01m!r}\u001B[39;00m\u001B[33m'\u001B[39m)\n",
      "\u001B[31mValueError\u001B[39m: malformed node or string on line 1: <ast.Call object at 0x175e1bb50>"
     ]
    }
   ],
   "execution_count": 22
  },
  {
   "metadata": {
    "ExecuteTime": {
     "end_time": "2025-07-25T16:42:29.908913Z",
     "start_time": "2025-07-25T16:42:29.881645Z"
    }
   },
   "cell_type": "code",
   "source": "print(df_all_no_relax['chi_Hrelax_before_relax'].head(10))",
   "id": "72919bc7e6a044e0",
   "outputs": [
    {
     "name": "stdout",
     "output_type": "stream",
     "text": [
      "0     [np.float64(0.5337997525930405)]\n",
      "1     [np.float64(0.5682031996548177)]\n",
      "2      [np.float64(0.620919456705451)]\n",
      "3    [np.float64(0.47558570280671125)]\n",
      "4     [np.float64(0.6780552957206966)]\n",
      "5      [np.float64(0.662959162145853)]\n",
      "6    [np.float64(0.49664014950394636)]\n",
      "7     [np.float64(0.5311860702931882)]\n",
      "8     [np.float64(0.6658038683235645)]\n",
      "9     [np.float64(0.4819962417241187)]\n",
      "Name: chi_Hrelax_before_relax, dtype: object\n"
     ]
    }
   ],
   "execution_count": 19
  },
  {
   "metadata": {
    "ExecuteTime": {
     "end_time": "2025-07-26T05:16:52.160400Z",
     "start_time": "2025-07-26T05:16:52.114536Z"
    }
   },
   "cell_type": "code",
   "source": [
    "import plotly.graph_objects as go\n",
    "\n",
    "# Create a new figure\n",
    "fig = go.Figure()\n",
    "\n",
    "# --- Plot relaxed data ---\n",
    "for gamma, df_group in df_avg_relaxed.groupby(\"gamma\"):\n",
    "    fig.add_trace(\n",
    "        go.Scatter(\n",
    "            x=df_group[\"Ht\"],\n",
    "            y=df_group[\"chi_mean\"],\n",
    "            error_y=dict(type=\"data\", array=df_group[\"chi_std\"]),\n",
    "            mode=\"lines+markers\",\n",
    "            name=f\"Relaxed γ={gamma}\",\n",
    "            line=dict(dash=\"solid\"),\n",
    "            marker=dict(symbol=\"circle\"),\n",
    "        )\n",
    "    )\n",
    "\n",
    "# # --- Plot Ht before relaxation data ---\n",
    "# for gamma, df_group in df_avg_no_relax.groupby(\"gamma\"):\n",
    "#     fig.add_trace(\n",
    "#         go.Scatter(\n",
    "#             x=df_group[\"Ht\"],\n",
    "#             y=df_group[\"chi_mean\"],\n",
    "#             error_y=dict(type=\"data\", array=df_group[\"chi_std\"]),\n",
    "#             mode=\"lines+markers\",\n",
    "#             name=f\"Relaxed γ={gamma}\",\n",
    "#             line=dict(dash=\"solid\"),\n",
    "#             marker=dict(symbol=\"circle\"),\n",
    "#         )\n",
    "#     )\n",
    "\n",
    "# --- Plot sweep data (with direction) ---\n",
    "for (direction, gamma), df_group in df_avg.groupby([\"direction\", \"gamma\"]):\n",
    "    fig.add_trace(\n",
    "        go.Scatter(\n",
    "            x=df_group[\"Ht\"],\n",
    "            y=df_group[\"chi_mean\"],\n",
    "            error_y=dict(type=\"data\", array=df_group[\"chi_std\"]),\n",
    "            mode=\"lines+markers\",\n",
    "            name=f\"{direction} γ={gamma}\",\n",
    "            line=dict(dash=\"solid\"),\n",
    "            marker=dict(symbol=\"square\"),\n",
    "        )\n",
    "    )\n",
    "\n",
    "# Final layout\n",
    "fig.update_layout(\n",
    "    title=\"Susceptibility χ vs Ht (Relaxed and Sweeps)\",\n",
    "    xaxis_title=\"Ht (T)\",\n",
    "    yaxis_title=\"Susceptibility χ\",\n",
    "    template=\"plotly_white\",\n",
    "    legend_title=\"Dataset\",\n",
    ")\n",
    "\n",
    "fig.write_html(path+'susceptibility_0.0002.html')\n"
   ],
   "id": "21cfee594e9f0d65",
   "outputs": [],
   "execution_count": 31
  },
  {
   "metadata": {
    "ExecuteTime": {
     "end_time": "2025-07-26T05:16:53.716794Z",
     "start_time": "2025-07-26T05:16:53.703898Z"
    }
   },
   "cell_type": "code",
   "source": "fig.show()",
   "id": "ce05afdcf4d7f1a7",
   "outputs": [
    {
     "data": {
      "application/vnd.plotly.v1+json": {
       "data": [
        {
         "error_y": {
          "array": {
           "dtype": "f8",
           "bdata": "dKKrhQbugj+2KGOGpwSCPzMMheAyhYI/H8eBqaZDgj9ib3vLHgOAP5PITojE+YI/w1FEnedagj949u/TqG6BP/I7tc55p4M/f96hX0tjgT8LEJ+tojmCP4z9fIR224A/kC+dyxixgD96oOX3nkCBP6dzLn3UVYE/R3imt7ILgT8hdzxyjjyBPxQKl/+P8YA/iZCiOddHgT8fsWtMuOl+P6Ii8woJXoA/629ACCD1gD+qK98DeQiAPzI5FG9i5ng/qbWnlrrxgD+EYN9/m5yAP6YomJB7TYE/hxVxPN40gD9UGIU5OUmAPzFCfJ7O0n4/aWmHna9afz8Bui2SG0x9P7uCXYaRYH0/5K3W2rB0ez+T4jnvuzB8Px8z7CnGqno/3a83C/K8ez/b6HWDIWB6Pww5884KIXg/j+MAl+ugeD/JC700zcB3P7/Kem5Je3U/eSkZexOfdT9+PPwxpl52Pynq5vye3HU/lIxXmY6Jcz8="
          },
          "type": "data"
         },
         "line": {
          "dash": "solid"
         },
         "marker": {
          "symbol": "circle"
         },
         "mode": "lines+markers",
         "name": "Relaxed γ=0.0002",
         "x": {
          "dtype": "f8",
          "bdata": "AAAAAAAAAICamZmZmZm5P5qZmZmZmck/MzMzMzMz0z+amZmZmZnZPwAAAAAAAOA/MzMzMzMz4z9mZmZmZmbmP5qZmZmZmek/zczMzMzM7D8AAAAAAADwP5qZmZmZmfE/MzMzMzMz8z/NzMzMzMz0P2ZmZmZmZvY/AAAAAAAA+D+amZmZmZn5PzMzMzMzM/s/zczMzMzM/D9mZmZmZmb+PwAAAAAAAABAzczMzMzMAECamZmZmZkBQGZmZmZmZgJAMzMzMzMzA0AAAAAAAAAEQM3MzMzMzARAmpmZmZmZBUBmZmZmZmYGQDMzMzMzMwdAAAAAAAAACEDNzMzMzMwIQJqZmZmZmQlAZmZmZmZmCkAzMzMzMzMLQAAAAAAAAAxAzczMzMzMDECamZmZmZkNQGZmZmZmZg5AMzMzMzMzD0AAAAAAAAAQQGZmZmZmZhBAzczMzMzMEEAzMzMzMzMRQJqZmZmZmRFAAAAAAAAAEkA="
         },
         "y": {
          "dtype": "f8",
          "bdata": "VVUvuckK3z+rKqbDIXvdP1VVlKExst4/AKAdvPmG3j+rqp+hk2XePwAAXhCEBN8/VW3Z2d733T8AgIqaP17ePwBARUJ7E98/AMCorWVT3z+rOluLrXLeP1VVffiNgd4/VcXCjU/s3j9VPRp/bRPgP1aV6gT+COA/q6oSi0si3z8AAF9zl3LgP1Vgh2nFYd8/ACGdVneb4D9VP4DxIw7hP6tqzg1O9uA/VdUR42uc4D+rqjKPkp/gP6taTlLKkuA/q6rJjc0A4j+rSofDEjLiPwBIbF0HwOI/VeXa7cOS4j+rKpD4FcbiPwBAqgYC9+I/VdWgXxIR4z8AWHJzmCbjPwCokrGSAuM/AABCXa+04z9VxfZyF7LjP6vinkL6cOM/VRXZCp9m4z+rqpO3r0PjPwCgArrzJuM/q3r5W+sW4z9V9bWGzoDiP6uaq5tqxuI/qzrIek0r4j9VHfms2fPhP6sqcWryn+E/q5qaOBpV4T8="
         },
         "type": "scatter"
        },
        {
         "error_y": {
          "array": {
           "dtype": "f8",
           "bdata": "BEL7/qdffD971iL1JPx8P3mUycgYDn0/sCheepeFfT+Z6D3wsCR8PyeQGFTY1n0/fv1HfUxRfD+xxE6vUgZ9P7g8WgO2w3w/ApMCd71dfT8pjPm+ERt9P868OL3EvXs/b4PYAL0hfD8h/GuV/QZ8P9HLiF4YhXw/Ycahz4haez+j10LJCul6P6cBruyj53s/xtyXIzUwfT9kqayzA9h6PzFKBDarlXo/b488UsBOez8De8yTcGV8P3pTtMhMrHo/+AQQi0l/ez/+uBFdV2N6Pz0nqerqJXo/zdYbGqISez+JRnuuZgx4PwHdC+7PVnk/DuZFVQ5weD/UR8xIWv13P2IAHmXIJXc/l092vy+Edj9A5jSV9yN3Pw/WANDAFXc/J6hNnuZYdj+ZbHbk59B1P/Fc2netaXU/eSWs2WBJdD/pHPPOjt9xP/4ARPhq3XM/AvHfIqgXcj8IQWsMqsBwPymP5AHoLnE/pq/O+dXFcD8="
          },
          "type": "data"
         },
         "line": {
          "dash": "solid"
         },
         "marker": {
          "symbol": "square"
         },
         "mode": "lines+markers",
         "name": "down γ=0.0002",
         "x": {
          "dtype": "f8",
          "bdata": "AAAAAAAAAACamZmZmZm5P5qZmZmZmck/MzMzMzMz0z+amZmZmZnZPwAAAAAAAOA/MzMzMzMz4z9mZmZmZmbmP5qZmZmZmek/zczMzMzM7D8AAAAAAADwP5qZmZmZmfE/MzMzMzMz8z/NzMzMzMz0P2ZmZmZmZvY/AAAAAAAA+D+amZmZmZn5PzMzMzMzM/s/zczMzMzM/D9mZmZmZmb+PwAAAAAAAABAzczMzMzMAECamZmZmZkBQGZmZmZmZgJAMzMzMzMzA0AAAAAAAAAEQM3MzMzMzARAmpmZmZmZBUBmZmZmZmYGQDMzMzMzMwdAAAAAAAAACEDNzMzMzMwIQJqZmZmZmQlAZmZmZmZmCkAzMzMzMzMLQAAAAAAAAAxAzczMzMzMDECamZmZmZkNQGZmZmZmZg5AMzMzMzMzD0AAAAAAAAAQQGZmZmZmZhBAzczMzMzMEEAzMzMzMzMRQJqZmZmZmRFAAAAAAAAAEkA="
         },
         "y": {
          "dtype": "f8",
          "bdata": "x3EEWi0g3j8cR4eiAOveP1VViw+JDt4/cpzQb1g63j/k+CJiiYveP8exfkuhud4/HEezk5ER3j9V1ZuZrwXgP3Kc/Mzbl98/q6qeBCBb3z+rqqpbPlvfP+RYMcKZKuA/AIAvIn8Y4D/HcY6IPoPgP+S4V3Ohvd8/Oc7fADR+4D85DgKMwG3gPzmO4x/xfeA/jpPe2W014T8cp2t1BL/gP6vqkh8sOuE/ctyC0tQo4T/keGxde4PhPxz3cXCZfeE/x6mOoZH54T+ramVYsDPiPzmOBuzbyeI/OY4o3X7G4j85DsgIDwLjP3L8eU42xeI/5BgycDfU4j8c52j1yEPjPwAgvEtEb+M/clz7Oz4k4z+PY1SF7D/jP49jwvDVXuM/Hccc3EVI4z8AAOPVKk3jPxwnhjpCCuM/q6oPz2un4j/HkavTqK/iPzlmcBVmSOI/OoZCXFs54j9V1Y6ZuuHhP+QY7JhUvuE/AACJTuuK4T8="
         },
         "type": "scatter"
        },
        {
         "error_y": {
          "array": {
           "dtype": "f8",
           "bdata": "BEL7/qdffD8jJxoZF8p/P7Xf4bip0Hs/ezdW6FQqfT+WQnMqCWp/P1xd1ACnMH4/FxTlZI4/fD/BzYhQGdd9PyPp5Yi/dXs/J/9fdgMPfT9tRBfxuh97P1onYpaWH3w/XkZlIVPGfD+E7T2o8NV6P2Sf+Q3AYXw/YtQeae/ueT9tu/wax515P+zG6fFwpHs/4P3o1oCyez9c4zSvkE97P+Ef1JU1cXs/a/tTRKCreT/OkdKOa9t6P2I4kQqfu3k/lcBkNAKeeT+veXOoPSZ4PxdFIAurP3k/1k6w+OiKeD+vpw9RV5h2P4ZH0dfK3ng/2j4Il7V/dz90zL1a1Zt4PxMaXburUXY/kGDt9u2ldj+uCw+6UVl3P6CETLAU0nU/aUpWp6R0dT9eNsP5FPR0P5M9aizVS3M/YTGklOG4cz9KBl0dGOByPwL9NkNi7HE/HyLr6BGOcT/0GSI+Dd5wP20WrNrtC3A/ZZSzlGktcD8="
          },
          "type": "data"
         },
         "line": {
          "dash": "solid"
         },
         "marker": {
          "symbol": "square"
         },
         "mode": "lines+markers",
         "name": "up γ=0.0002",
         "x": {
          "dtype": "f8",
          "bdata": "AAAAAAAAAACamZmZmZm5P5qZmZmZmck/MzMzMzMz0z+amZmZmZnZPwAAAAAAAOA/MzMzMzMz4z9mZmZmZmbmP5qZmZmZmek/zczMzMzM7D8AAAAAAADwP5qZmZmZmfE/MzMzMzMz8z/NzMzMzMz0P2ZmZmZmZvY/AAAAAAAA+D+amZmZmZn5PzMzMzMzM/s/zczMzMzM/D9mZmZmZmb+PwAAAAAAAABAzczMzMzMAECamZmZmZkBQGZmZmZmZgJAMzMzMzMzA0AAAAAAAAAEQM3MzMzMzARAmpmZmZmZBUBmZmZmZmYGQDMzMzMzMwdAAAAAAAAACEDNzMzMzMwIQJqZmZmZmQlAZmZmZmZmCkAzMzMzMzMLQAAAAAAAAAxAzczMzMzMDECamZmZmZkNQGZmZmZmZg5AMzMzMzMzD0AAAAAAAAAQQGZmZmZmZhBAzczMzMzMEEAzMzMzMzMRQJqZmZmZmRFAAAAAAAAAEkA="
         },
         "y": {
          "dtype": "f8",
          "bdata": "x3EEWi0g3j85jiVcuCnfP46DKSxS7d0/x51N4gu23j+rKlmJKIfdP8dxsfUbkN0/jk9e/wh93T+OI4IdnaXdPwCAVdIyBt4/AABUM2cE3j8cx1CJGgneP8dxWk/ww90/qyoT/JK/3j/kOK+rOr/dP8expupQ694/HMez1X4G3z85bs2crejfP6uqasG4794/VdUYChgN4D+O40xYAUfgP3LcCf7mXeA/jqNDE6yN4D/kiHElWDnhPxxf+V4t5uA/5PihxfXs4D/keE17pIPhP1XVFvzrl+E/VZXs1EkG4j/k+CkVNTviP3J8N1hJ8eE/q6oLa+Zy4j/kWGG6Z1PiP46j9Q3eUOI/HUc+mHCv4j/HQVNk/vDiPwAAhTHf1OI/HG/qpRYY4z85znZYCOHiP1bl2DfnseI/clzhd7TI4j8BQNCPmrXiP1VVuoAaR+I/cpz9sS8S4j857gcVEZ7hP6t9o2G1ZOE/chxwD47N4D8="
         },
         "type": "scatter"
        }
       ],
       "layout": {
        "template": {
         "data": {
          "barpolar": [
           {
            "marker": {
             "line": {
              "color": "white",
              "width": 0.5
             },
             "pattern": {
              "fillmode": "overlay",
              "size": 10,
              "solidity": 0.2
             }
            },
            "type": "barpolar"
           }
          ],
          "bar": [
           {
            "error_x": {
             "color": "#2a3f5f"
            },
            "error_y": {
             "color": "#2a3f5f"
            },
            "marker": {
             "line": {
              "color": "white",
              "width": 0.5
             },
             "pattern": {
              "fillmode": "overlay",
              "size": 10,
              "solidity": 0.2
             }
            },
            "type": "bar"
           }
          ],
          "carpet": [
           {
            "aaxis": {
             "endlinecolor": "#2a3f5f",
             "gridcolor": "#C8D4E3",
             "linecolor": "#C8D4E3",
             "minorgridcolor": "#C8D4E3",
             "startlinecolor": "#2a3f5f"
            },
            "baxis": {
             "endlinecolor": "#2a3f5f",
             "gridcolor": "#C8D4E3",
             "linecolor": "#C8D4E3",
             "minorgridcolor": "#C8D4E3",
             "startlinecolor": "#2a3f5f"
            },
            "type": "carpet"
           }
          ],
          "choropleth": [
           {
            "colorbar": {
             "outlinewidth": 0,
             "ticks": ""
            },
            "type": "choropleth"
           }
          ],
          "contourcarpet": [
           {
            "colorbar": {
             "outlinewidth": 0,
             "ticks": ""
            },
            "type": "contourcarpet"
           }
          ],
          "contour": [
           {
            "colorbar": {
             "outlinewidth": 0,
             "ticks": ""
            },
            "colorscale": [
             [
              0.0,
              "#0d0887"
             ],
             [
              0.1111111111111111,
              "#46039f"
             ],
             [
              0.2222222222222222,
              "#7201a8"
             ],
             [
              0.3333333333333333,
              "#9c179e"
             ],
             [
              0.4444444444444444,
              "#bd3786"
             ],
             [
              0.5555555555555556,
              "#d8576b"
             ],
             [
              0.6666666666666666,
              "#ed7953"
             ],
             [
              0.7777777777777778,
              "#fb9f3a"
             ],
             [
              0.8888888888888888,
              "#fdca26"
             ],
             [
              1.0,
              "#f0f921"
             ]
            ],
            "type": "contour"
           }
          ],
          "heatmap": [
           {
            "colorbar": {
             "outlinewidth": 0,
             "ticks": ""
            },
            "colorscale": [
             [
              0.0,
              "#0d0887"
             ],
             [
              0.1111111111111111,
              "#46039f"
             ],
             [
              0.2222222222222222,
              "#7201a8"
             ],
             [
              0.3333333333333333,
              "#9c179e"
             ],
             [
              0.4444444444444444,
              "#bd3786"
             ],
             [
              0.5555555555555556,
              "#d8576b"
             ],
             [
              0.6666666666666666,
              "#ed7953"
             ],
             [
              0.7777777777777778,
              "#fb9f3a"
             ],
             [
              0.8888888888888888,
              "#fdca26"
             ],
             [
              1.0,
              "#f0f921"
             ]
            ],
            "type": "heatmap"
           }
          ],
          "histogram2dcontour": [
           {
            "colorbar": {
             "outlinewidth": 0,
             "ticks": ""
            },
            "colorscale": [
             [
              0.0,
              "#0d0887"
             ],
             [
              0.1111111111111111,
              "#46039f"
             ],
             [
              0.2222222222222222,
              "#7201a8"
             ],
             [
              0.3333333333333333,
              "#9c179e"
             ],
             [
              0.4444444444444444,
              "#bd3786"
             ],
             [
              0.5555555555555556,
              "#d8576b"
             ],
             [
              0.6666666666666666,
              "#ed7953"
             ],
             [
              0.7777777777777778,
              "#fb9f3a"
             ],
             [
              0.8888888888888888,
              "#fdca26"
             ],
             [
              1.0,
              "#f0f921"
             ]
            ],
            "type": "histogram2dcontour"
           }
          ],
          "histogram2d": [
           {
            "colorbar": {
             "outlinewidth": 0,
             "ticks": ""
            },
            "colorscale": [
             [
              0.0,
              "#0d0887"
             ],
             [
              0.1111111111111111,
              "#46039f"
             ],
             [
              0.2222222222222222,
              "#7201a8"
             ],
             [
              0.3333333333333333,
              "#9c179e"
             ],
             [
              0.4444444444444444,
              "#bd3786"
             ],
             [
              0.5555555555555556,
              "#d8576b"
             ],
             [
              0.6666666666666666,
              "#ed7953"
             ],
             [
              0.7777777777777778,
              "#fb9f3a"
             ],
             [
              0.8888888888888888,
              "#fdca26"
             ],
             [
              1.0,
              "#f0f921"
             ]
            ],
            "type": "histogram2d"
           }
          ],
          "histogram": [
           {
            "marker": {
             "pattern": {
              "fillmode": "overlay",
              "size": 10,
              "solidity": 0.2
             }
            },
            "type": "histogram"
           }
          ],
          "mesh3d": [
           {
            "colorbar": {
             "outlinewidth": 0,
             "ticks": ""
            },
            "type": "mesh3d"
           }
          ],
          "parcoords": [
           {
            "line": {
             "colorbar": {
              "outlinewidth": 0,
              "ticks": ""
             }
            },
            "type": "parcoords"
           }
          ],
          "pie": [
           {
            "automargin": true,
            "type": "pie"
           }
          ],
          "scatter3d": [
           {
            "line": {
             "colorbar": {
              "outlinewidth": 0,
              "ticks": ""
             }
            },
            "marker": {
             "colorbar": {
              "outlinewidth": 0,
              "ticks": ""
             }
            },
            "type": "scatter3d"
           }
          ],
          "scattercarpet": [
           {
            "marker": {
             "colorbar": {
              "outlinewidth": 0,
              "ticks": ""
             }
            },
            "type": "scattercarpet"
           }
          ],
          "scattergeo": [
           {
            "marker": {
             "colorbar": {
              "outlinewidth": 0,
              "ticks": ""
             }
            },
            "type": "scattergeo"
           }
          ],
          "scattergl": [
           {
            "marker": {
             "colorbar": {
              "outlinewidth": 0,
              "ticks": ""
             }
            },
            "type": "scattergl"
           }
          ],
          "scattermapbox": [
           {
            "marker": {
             "colorbar": {
              "outlinewidth": 0,
              "ticks": ""
             }
            },
            "type": "scattermapbox"
           }
          ],
          "scattermap": [
           {
            "marker": {
             "colorbar": {
              "outlinewidth": 0,
              "ticks": ""
             }
            },
            "type": "scattermap"
           }
          ],
          "scatterpolargl": [
           {
            "marker": {
             "colorbar": {
              "outlinewidth": 0,
              "ticks": ""
             }
            },
            "type": "scatterpolargl"
           }
          ],
          "scatterpolar": [
           {
            "marker": {
             "colorbar": {
              "outlinewidth": 0,
              "ticks": ""
             }
            },
            "type": "scatterpolar"
           }
          ],
          "scatter": [
           {
            "fillpattern": {
             "fillmode": "overlay",
             "size": 10,
             "solidity": 0.2
            },
            "type": "scatter"
           }
          ],
          "scatterternary": [
           {
            "marker": {
             "colorbar": {
              "outlinewidth": 0,
              "ticks": ""
             }
            },
            "type": "scatterternary"
           }
          ],
          "surface": [
           {
            "colorbar": {
             "outlinewidth": 0,
             "ticks": ""
            },
            "colorscale": [
             [
              0.0,
              "#0d0887"
             ],
             [
              0.1111111111111111,
              "#46039f"
             ],
             [
              0.2222222222222222,
              "#7201a8"
             ],
             [
              0.3333333333333333,
              "#9c179e"
             ],
             [
              0.4444444444444444,
              "#bd3786"
             ],
             [
              0.5555555555555556,
              "#d8576b"
             ],
             [
              0.6666666666666666,
              "#ed7953"
             ],
             [
              0.7777777777777778,
              "#fb9f3a"
             ],
             [
              0.8888888888888888,
              "#fdca26"
             ],
             [
              1.0,
              "#f0f921"
             ]
            ],
            "type": "surface"
           }
          ],
          "table": [
           {
            "cells": {
             "fill": {
              "color": "#EBF0F8"
             },
             "line": {
              "color": "white"
             }
            },
            "header": {
             "fill": {
              "color": "#C8D4E3"
             },
             "line": {
              "color": "white"
             }
            },
            "type": "table"
           }
          ]
         },
         "layout": {
          "annotationdefaults": {
           "arrowcolor": "#2a3f5f",
           "arrowhead": 0,
           "arrowwidth": 1
          },
          "autotypenumbers": "strict",
          "coloraxis": {
           "colorbar": {
            "outlinewidth": 0,
            "ticks": ""
           }
          },
          "colorscale": {
           "diverging": [
            [
             0,
             "#8e0152"
            ],
            [
             0.1,
             "#c51b7d"
            ],
            [
             0.2,
             "#de77ae"
            ],
            [
             0.3,
             "#f1b6da"
            ],
            [
             0.4,
             "#fde0ef"
            ],
            [
             0.5,
             "#f7f7f7"
            ],
            [
             0.6,
             "#e6f5d0"
            ],
            [
             0.7,
             "#b8e186"
            ],
            [
             0.8,
             "#7fbc41"
            ],
            [
             0.9,
             "#4d9221"
            ],
            [
             1,
             "#276419"
            ]
           ],
           "sequential": [
            [
             0.0,
             "#0d0887"
            ],
            [
             0.1111111111111111,
             "#46039f"
            ],
            [
             0.2222222222222222,
             "#7201a8"
            ],
            [
             0.3333333333333333,
             "#9c179e"
            ],
            [
             0.4444444444444444,
             "#bd3786"
            ],
            [
             0.5555555555555556,
             "#d8576b"
            ],
            [
             0.6666666666666666,
             "#ed7953"
            ],
            [
             0.7777777777777778,
             "#fb9f3a"
            ],
            [
             0.8888888888888888,
             "#fdca26"
            ],
            [
             1.0,
             "#f0f921"
            ]
           ],
           "sequentialminus": [
            [
             0.0,
             "#0d0887"
            ],
            [
             0.1111111111111111,
             "#46039f"
            ],
            [
             0.2222222222222222,
             "#7201a8"
            ],
            [
             0.3333333333333333,
             "#9c179e"
            ],
            [
             0.4444444444444444,
             "#bd3786"
            ],
            [
             0.5555555555555556,
             "#d8576b"
            ],
            [
             0.6666666666666666,
             "#ed7953"
            ],
            [
             0.7777777777777778,
             "#fb9f3a"
            ],
            [
             0.8888888888888888,
             "#fdca26"
            ],
            [
             1.0,
             "#f0f921"
            ]
           ]
          },
          "colorway": [
           "#636efa",
           "#EF553B",
           "#00cc96",
           "#ab63fa",
           "#FFA15A",
           "#19d3f3",
           "#FF6692",
           "#B6E880",
           "#FF97FF",
           "#FECB52"
          ],
          "font": {
           "color": "#2a3f5f"
          },
          "geo": {
           "bgcolor": "white",
           "lakecolor": "white",
           "landcolor": "white",
           "showlakes": true,
           "showland": true,
           "subunitcolor": "#C8D4E3"
          },
          "hoverlabel": {
           "align": "left"
          },
          "hovermode": "closest",
          "mapbox": {
           "style": "light"
          },
          "paper_bgcolor": "white",
          "plot_bgcolor": "white",
          "polar": {
           "angularaxis": {
            "gridcolor": "#EBF0F8",
            "linecolor": "#EBF0F8",
            "ticks": ""
           },
           "bgcolor": "white",
           "radialaxis": {
            "gridcolor": "#EBF0F8",
            "linecolor": "#EBF0F8",
            "ticks": ""
           }
          },
          "scene": {
           "xaxis": {
            "backgroundcolor": "white",
            "gridcolor": "#DFE8F3",
            "gridwidth": 2,
            "linecolor": "#EBF0F8",
            "showbackground": true,
            "ticks": "",
            "zerolinecolor": "#EBF0F8"
           },
           "yaxis": {
            "backgroundcolor": "white",
            "gridcolor": "#DFE8F3",
            "gridwidth": 2,
            "linecolor": "#EBF0F8",
            "showbackground": true,
            "ticks": "",
            "zerolinecolor": "#EBF0F8"
           },
           "zaxis": {
            "backgroundcolor": "white",
            "gridcolor": "#DFE8F3",
            "gridwidth": 2,
            "linecolor": "#EBF0F8",
            "showbackground": true,
            "ticks": "",
            "zerolinecolor": "#EBF0F8"
           }
          },
          "shapedefaults": {
           "line": {
            "color": "#2a3f5f"
           }
          },
          "ternary": {
           "aaxis": {
            "gridcolor": "#DFE8F3",
            "linecolor": "#A2B1C6",
            "ticks": ""
           },
           "baxis": {
            "gridcolor": "#DFE8F3",
            "linecolor": "#A2B1C6",
            "ticks": ""
           },
           "bgcolor": "white",
           "caxis": {
            "gridcolor": "#DFE8F3",
            "linecolor": "#A2B1C6",
            "ticks": ""
           }
          },
          "title": {
           "x": 0.05
          },
          "xaxis": {
           "automargin": true,
           "gridcolor": "#EBF0F8",
           "linecolor": "#EBF0F8",
           "ticks": "",
           "title": {
            "standoff": 15
           },
           "zerolinecolor": "#EBF0F8",
           "zerolinewidth": 2
          },
          "yaxis": {
           "automargin": true,
           "gridcolor": "#EBF0F8",
           "linecolor": "#EBF0F8",
           "ticks": "",
           "title": {
            "standoff": 15
           },
           "zerolinecolor": "#EBF0F8",
           "zerolinewidth": 2
          }
         }
        },
        "title": {
         "text": "Susceptibility χ vs Ht (Relaxed and Sweeps)"
        },
        "xaxis": {
         "title": {
          "text": "Ht (T)"
         }
        },
        "yaxis": {
         "title": {
          "text": "Susceptibility χ"
         }
        },
        "legend": {
         "title": {
          "text": "Dataset"
         }
        }
       },
       "config": {
        "plotlyServerURL": "https://plot.ly"
       }
      }
     },
     "metadata": {},
     "output_type": "display_data"
    }
   ],
   "execution_count": 32
  }
 ],
 "metadata": {
  "kernelspec": {
   "display_name": "Python 3",
   "language": "python",
   "name": "python3"
  },
  "language_info": {
   "codemirror_mode": {
    "name": "ipython",
    "version": 2
   },
   "file_extension": ".py",
   "mimetype": "text/x-python",
   "name": "python",
   "nbconvert_exporter": "python",
   "pygments_lexer": "ipython2",
   "version": "2.7.6"
  }
 },
 "nbformat": 4,
 "nbformat_minor": 5
}
